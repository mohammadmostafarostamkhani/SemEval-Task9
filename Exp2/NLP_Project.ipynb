{
  "nbformat": 4,
  "nbformat_minor": 0,
  "metadata": {
    "colab": {
      "provenance": [],
      "collapsed_sections": [
        "aoKnGMvyu6sp",
        "jh2aua1N1xT9",
        "87n_a9buJo6g",
        "943oqyS411gI",
        "FR9OR2lt7DWq",
        "bY4u7hSPxMXC",
        "60ELy8EVaQKn",
        "03lqdpuIfR-p",
        "KKw5AMGpfWNf",
        "j-hWk9fXZlho"
      ]
    },
    "kernelspec": {
      "name": "python3",
      "display_name": "Python 3"
    },
    "language_info": {
      "name": "python"
    },
    "gpuClass": "standard",
    "widgets": {
      "application/vnd.jupyter.widget-state+json": {
        "22843ff373824125918c55c67605805c": {
          "model_module": "@jupyter-widgets/controls",
          "model_name": "HBoxModel",
          "model_module_version": "1.5.0",
          "state": {
            "_dom_classes": [],
            "_model_module": "@jupyter-widgets/controls",
            "_model_module_version": "1.5.0",
            "_model_name": "HBoxModel",
            "_view_count": null,
            "_view_module": "@jupyter-widgets/controls",
            "_view_module_version": "1.5.0",
            "_view_name": "HBoxView",
            "box_style": "",
            "children": [
              "IPY_MODEL_73700a59b43e4de493aa0003766ce7d0",
              "IPY_MODEL_ccbaab8ddc1348d88b8fad85cb9f4dda",
              "IPY_MODEL_78f78a78a00e493eb55874ddb438ad24"
            ],
            "layout": "IPY_MODEL_14b49d9b33974d64a32eb32d76e9318f"
          }
        },
        "73700a59b43e4de493aa0003766ce7d0": {
          "model_module": "@jupyter-widgets/controls",
          "model_name": "HTMLModel",
          "model_module_version": "1.5.0",
          "state": {
            "_dom_classes": [],
            "_model_module": "@jupyter-widgets/controls",
            "_model_module_version": "1.5.0",
            "_model_name": "HTMLModel",
            "_view_count": null,
            "_view_module": "@jupyter-widgets/controls",
            "_view_module_version": "1.5.0",
            "_view_name": "HTMLView",
            "description": "",
            "description_tooltip": null,
            "layout": "IPY_MODEL_1c2884f4d3254ed48c837d1236b3af48",
            "placeholder": "​",
            "style": "IPY_MODEL_15446b2342cd47fabc44754cd8c4a03d",
            "value": "Downloading (…)lve/main/config.json: 100%"
          }
        },
        "ccbaab8ddc1348d88b8fad85cb9f4dda": {
          "model_module": "@jupyter-widgets/controls",
          "model_name": "FloatProgressModel",
          "model_module_version": "1.5.0",
          "state": {
            "_dom_classes": [],
            "_model_module": "@jupyter-widgets/controls",
            "_model_module_version": "1.5.0",
            "_model_name": "FloatProgressModel",
            "_view_count": null,
            "_view_module": "@jupyter-widgets/controls",
            "_view_module_version": "1.5.0",
            "_view_name": "ProgressView",
            "bar_style": "success",
            "description": "",
            "description_tooltip": null,
            "layout": "IPY_MODEL_1d415a03d2124d2493e99c112ce39935",
            "max": 652,
            "min": 0,
            "orientation": "horizontal",
            "style": "IPY_MODEL_794af1fbefe0422abec974959e249cdc",
            "value": 652
          }
        },
        "78f78a78a00e493eb55874ddb438ad24": {
          "model_module": "@jupyter-widgets/controls",
          "model_name": "HTMLModel",
          "model_module_version": "1.5.0",
          "state": {
            "_dom_classes": [],
            "_model_module": "@jupyter-widgets/controls",
            "_model_module_version": "1.5.0",
            "_model_name": "HTMLModel",
            "_view_count": null,
            "_view_module": "@jupyter-widgets/controls",
            "_view_module_version": "1.5.0",
            "_view_name": "HTMLView",
            "description": "",
            "description_tooltip": null,
            "layout": "IPY_MODEL_7ff9f00dace04e87b2ea9047e2ed180d",
            "placeholder": "​",
            "style": "IPY_MODEL_e81bde08660f4f6eb308e1862edcda63",
            "value": " 652/652 [00:00&lt;00:00, 4.81kB/s]"
          }
        },
        "14b49d9b33974d64a32eb32d76e9318f": {
          "model_module": "@jupyter-widgets/base",
          "model_name": "LayoutModel",
          "model_module_version": "1.2.0",
          "state": {
            "_model_module": "@jupyter-widgets/base",
            "_model_module_version": "1.2.0",
            "_model_name": "LayoutModel",
            "_view_count": null,
            "_view_module": "@jupyter-widgets/base",
            "_view_module_version": "1.2.0",
            "_view_name": "LayoutView",
            "align_content": null,
            "align_items": null,
            "align_self": null,
            "border": null,
            "bottom": null,
            "display": null,
            "flex": null,
            "flex_flow": null,
            "grid_area": null,
            "grid_auto_columns": null,
            "grid_auto_flow": null,
            "grid_auto_rows": null,
            "grid_column": null,
            "grid_gap": null,
            "grid_row": null,
            "grid_template_areas": null,
            "grid_template_columns": null,
            "grid_template_rows": null,
            "height": null,
            "justify_content": null,
            "justify_items": null,
            "left": null,
            "margin": null,
            "max_height": null,
            "max_width": null,
            "min_height": null,
            "min_width": null,
            "object_fit": null,
            "object_position": null,
            "order": null,
            "overflow": null,
            "overflow_x": null,
            "overflow_y": null,
            "padding": null,
            "right": null,
            "top": null,
            "visibility": null,
            "width": null
          }
        },
        "1c2884f4d3254ed48c837d1236b3af48": {
          "model_module": "@jupyter-widgets/base",
          "model_name": "LayoutModel",
          "model_module_version": "1.2.0",
          "state": {
            "_model_module": "@jupyter-widgets/base",
            "_model_module_version": "1.2.0",
            "_model_name": "LayoutModel",
            "_view_count": null,
            "_view_module": "@jupyter-widgets/base",
            "_view_module_version": "1.2.0",
            "_view_name": "LayoutView",
            "align_content": null,
            "align_items": null,
            "align_self": null,
            "border": null,
            "bottom": null,
            "display": null,
            "flex": null,
            "flex_flow": null,
            "grid_area": null,
            "grid_auto_columns": null,
            "grid_auto_flow": null,
            "grid_auto_rows": null,
            "grid_column": null,
            "grid_gap": null,
            "grid_row": null,
            "grid_template_areas": null,
            "grid_template_columns": null,
            "grid_template_rows": null,
            "height": null,
            "justify_content": null,
            "justify_items": null,
            "left": null,
            "margin": null,
            "max_height": null,
            "max_width": null,
            "min_height": null,
            "min_width": null,
            "object_fit": null,
            "object_position": null,
            "order": null,
            "overflow": null,
            "overflow_x": null,
            "overflow_y": null,
            "padding": null,
            "right": null,
            "top": null,
            "visibility": null,
            "width": null
          }
        },
        "15446b2342cd47fabc44754cd8c4a03d": {
          "model_module": "@jupyter-widgets/controls",
          "model_name": "DescriptionStyleModel",
          "model_module_version": "1.5.0",
          "state": {
            "_model_module": "@jupyter-widgets/controls",
            "_model_module_version": "1.5.0",
            "_model_name": "DescriptionStyleModel",
            "_view_count": null,
            "_view_module": "@jupyter-widgets/base",
            "_view_module_version": "1.2.0",
            "_view_name": "StyleView",
            "description_width": ""
          }
        },
        "1d415a03d2124d2493e99c112ce39935": {
          "model_module": "@jupyter-widgets/base",
          "model_name": "LayoutModel",
          "model_module_version": "1.2.0",
          "state": {
            "_model_module": "@jupyter-widgets/base",
            "_model_module_version": "1.2.0",
            "_model_name": "LayoutModel",
            "_view_count": null,
            "_view_module": "@jupyter-widgets/base",
            "_view_module_version": "1.2.0",
            "_view_name": "LayoutView",
            "align_content": null,
            "align_items": null,
            "align_self": null,
            "border": null,
            "bottom": null,
            "display": null,
            "flex": null,
            "flex_flow": null,
            "grid_area": null,
            "grid_auto_columns": null,
            "grid_auto_flow": null,
            "grid_auto_rows": null,
            "grid_column": null,
            "grid_gap": null,
            "grid_row": null,
            "grid_template_areas": null,
            "grid_template_columns": null,
            "grid_template_rows": null,
            "height": null,
            "justify_content": null,
            "justify_items": null,
            "left": null,
            "margin": null,
            "max_height": null,
            "max_width": null,
            "min_height": null,
            "min_width": null,
            "object_fit": null,
            "object_position": null,
            "order": null,
            "overflow": null,
            "overflow_x": null,
            "overflow_y": null,
            "padding": null,
            "right": null,
            "top": null,
            "visibility": null,
            "width": null
          }
        },
        "794af1fbefe0422abec974959e249cdc": {
          "model_module": "@jupyter-widgets/controls",
          "model_name": "ProgressStyleModel",
          "model_module_version": "1.5.0",
          "state": {
            "_model_module": "@jupyter-widgets/controls",
            "_model_module_version": "1.5.0",
            "_model_name": "ProgressStyleModel",
            "_view_count": null,
            "_view_module": "@jupyter-widgets/base",
            "_view_module_version": "1.2.0",
            "_view_name": "StyleView",
            "bar_color": null,
            "description_width": ""
          }
        },
        "7ff9f00dace04e87b2ea9047e2ed180d": {
          "model_module": "@jupyter-widgets/base",
          "model_name": "LayoutModel",
          "model_module_version": "1.2.0",
          "state": {
            "_model_module": "@jupyter-widgets/base",
            "_model_module_version": "1.2.0",
            "_model_name": "LayoutModel",
            "_view_count": null,
            "_view_module": "@jupyter-widgets/base",
            "_view_module_version": "1.2.0",
            "_view_name": "LayoutView",
            "align_content": null,
            "align_items": null,
            "align_self": null,
            "border": null,
            "bottom": null,
            "display": null,
            "flex": null,
            "flex_flow": null,
            "grid_area": null,
            "grid_auto_columns": null,
            "grid_auto_flow": null,
            "grid_auto_rows": null,
            "grid_column": null,
            "grid_gap": null,
            "grid_row": null,
            "grid_template_areas": null,
            "grid_template_columns": null,
            "grid_template_rows": null,
            "height": null,
            "justify_content": null,
            "justify_items": null,
            "left": null,
            "margin": null,
            "max_height": null,
            "max_width": null,
            "min_height": null,
            "min_width": null,
            "object_fit": null,
            "object_position": null,
            "order": null,
            "overflow": null,
            "overflow_x": null,
            "overflow_y": null,
            "padding": null,
            "right": null,
            "top": null,
            "visibility": null,
            "width": null
          }
        },
        "e81bde08660f4f6eb308e1862edcda63": {
          "model_module": "@jupyter-widgets/controls",
          "model_name": "DescriptionStyleModel",
          "model_module_version": "1.5.0",
          "state": {
            "_model_module": "@jupyter-widgets/controls",
            "_model_module_version": "1.5.0",
            "_model_name": "DescriptionStyleModel",
            "_view_count": null,
            "_view_module": "@jupyter-widgets/base",
            "_view_module_version": "1.2.0",
            "_view_name": "StyleView",
            "description_width": ""
          }
        },
        "c8c29d408d3646e9a0aa9431f9ebde41": {
          "model_module": "@jupyter-widgets/controls",
          "model_name": "HBoxModel",
          "model_module_version": "1.5.0",
          "state": {
            "_dom_classes": [],
            "_model_module": "@jupyter-widgets/controls",
            "_model_module_version": "1.5.0",
            "_model_name": "HBoxModel",
            "_view_count": null,
            "_view_module": "@jupyter-widgets/controls",
            "_view_module_version": "1.5.0",
            "_view_name": "HBoxView",
            "box_style": "",
            "children": [
              "IPY_MODEL_d286844ac9154a669ea3fb6365feba9a",
              "IPY_MODEL_1bc5107ec1274a3c8762fd7014bad8c2",
              "IPY_MODEL_b5ccf036e92545bc8c6f6700c060f58c"
            ],
            "layout": "IPY_MODEL_3518c522eb6442af83bb355ef7e2250e"
          }
        },
        "d286844ac9154a669ea3fb6365feba9a": {
          "model_module": "@jupyter-widgets/controls",
          "model_name": "HTMLModel",
          "model_module_version": "1.5.0",
          "state": {
            "_dom_classes": [],
            "_model_module": "@jupyter-widgets/controls",
            "_model_module_version": "1.5.0",
            "_model_name": "HTMLModel",
            "_view_count": null,
            "_view_module": "@jupyter-widgets/controls",
            "_view_module_version": "1.5.0",
            "_view_name": "HTMLView",
            "description": "",
            "description_tooltip": null,
            "layout": "IPY_MODEL_82b8151db7ae43feb685243d4a0acf7b",
            "placeholder": "​",
            "style": "IPY_MODEL_0997896cd3144df39c0836f2afae247f",
            "value": "Downloading (…)ncepiece.bpe.model&quot;;: 100%"
          }
        },
        "1bc5107ec1274a3c8762fd7014bad8c2": {
          "model_module": "@jupyter-widgets/controls",
          "model_name": "FloatProgressModel",
          "model_module_version": "1.5.0",
          "state": {
            "_dom_classes": [],
            "_model_module": "@jupyter-widgets/controls",
            "_model_module_version": "1.5.0",
            "_model_name": "FloatProgressModel",
            "_view_count": null,
            "_view_module": "@jupyter-widgets/controls",
            "_view_module_version": "1.5.0",
            "_view_name": "ProgressView",
            "bar_style": "success",
            "description": "",
            "description_tooltip": null,
            "layout": "IPY_MODEL_f3d0b4dd11064a32ac5e6b51bb05c36b",
            "max": 5069051,
            "min": 0,
            "orientation": "horizontal",
            "style": "IPY_MODEL_f526181687b24321a8d19a9bf3d4fe14",
            "value": 5069051
          }
        },
        "b5ccf036e92545bc8c6f6700c060f58c": {
          "model_module": "@jupyter-widgets/controls",
          "model_name": "HTMLModel",
          "model_module_version": "1.5.0",
          "state": {
            "_dom_classes": [],
            "_model_module": "@jupyter-widgets/controls",
            "_model_module_version": "1.5.0",
            "_model_name": "HTMLModel",
            "_view_count": null,
            "_view_module": "@jupyter-widgets/controls",
            "_view_module_version": "1.5.0",
            "_view_name": "HTMLView",
            "description": "",
            "description_tooltip": null,
            "layout": "IPY_MODEL_0298701146684e0c92972b72e9589f1f",
            "placeholder": "​",
            "style": "IPY_MODEL_c5ab031c825f4666b125fe30f44b0e10",
            "value": " 5.07M/5.07M [00:00&lt;00:00, 22.1MB/s]"
          }
        },
        "3518c522eb6442af83bb355ef7e2250e": {
          "model_module": "@jupyter-widgets/base",
          "model_name": "LayoutModel",
          "model_module_version": "1.2.0",
          "state": {
            "_model_module": "@jupyter-widgets/base",
            "_model_module_version": "1.2.0",
            "_model_name": "LayoutModel",
            "_view_count": null,
            "_view_module": "@jupyter-widgets/base",
            "_view_module_version": "1.2.0",
            "_view_name": "LayoutView",
            "align_content": null,
            "align_items": null,
            "align_self": null,
            "border": null,
            "bottom": null,
            "display": null,
            "flex": null,
            "flex_flow": null,
            "grid_area": null,
            "grid_auto_columns": null,
            "grid_auto_flow": null,
            "grid_auto_rows": null,
            "grid_column": null,
            "grid_gap": null,
            "grid_row": null,
            "grid_template_areas": null,
            "grid_template_columns": null,
            "grid_template_rows": null,
            "height": null,
            "justify_content": null,
            "justify_items": null,
            "left": null,
            "margin": null,
            "max_height": null,
            "max_width": null,
            "min_height": null,
            "min_width": null,
            "object_fit": null,
            "object_position": null,
            "order": null,
            "overflow": null,
            "overflow_x": null,
            "overflow_y": null,
            "padding": null,
            "right": null,
            "top": null,
            "visibility": null,
            "width": null
          }
        },
        "82b8151db7ae43feb685243d4a0acf7b": {
          "model_module": "@jupyter-widgets/base",
          "model_name": "LayoutModel",
          "model_module_version": "1.2.0",
          "state": {
            "_model_module": "@jupyter-widgets/base",
            "_model_module_version": "1.2.0",
            "_model_name": "LayoutModel",
            "_view_count": null,
            "_view_module": "@jupyter-widgets/base",
            "_view_module_version": "1.2.0",
            "_view_name": "LayoutView",
            "align_content": null,
            "align_items": null,
            "align_self": null,
            "border": null,
            "bottom": null,
            "display": null,
            "flex": null,
            "flex_flow": null,
            "grid_area": null,
            "grid_auto_columns": null,
            "grid_auto_flow": null,
            "grid_auto_rows": null,
            "grid_column": null,
            "grid_gap": null,
            "grid_row": null,
            "grid_template_areas": null,
            "grid_template_columns": null,
            "grid_template_rows": null,
            "height": null,
            "justify_content": null,
            "justify_items": null,
            "left": null,
            "margin": null,
            "max_height": null,
            "max_width": null,
            "min_height": null,
            "min_width": null,
            "object_fit": null,
            "object_position": null,
            "order": null,
            "overflow": null,
            "overflow_x": null,
            "overflow_y": null,
            "padding": null,
            "right": null,
            "top": null,
            "visibility": null,
            "width": null
          }
        },
        "0997896cd3144df39c0836f2afae247f": {
          "model_module": "@jupyter-widgets/controls",
          "model_name": "DescriptionStyleModel",
          "model_module_version": "1.5.0",
          "state": {
            "_model_module": "@jupyter-widgets/controls",
            "_model_module_version": "1.5.0",
            "_model_name": "DescriptionStyleModel",
            "_view_count": null,
            "_view_module": "@jupyter-widgets/base",
            "_view_module_version": "1.2.0",
            "_view_name": "StyleView",
            "description_width": ""
          }
        },
        "f3d0b4dd11064a32ac5e6b51bb05c36b": {
          "model_module": "@jupyter-widgets/base",
          "model_name": "LayoutModel",
          "model_module_version": "1.2.0",
          "state": {
            "_model_module": "@jupyter-widgets/base",
            "_model_module_version": "1.2.0",
            "_model_name": "LayoutModel",
            "_view_count": null,
            "_view_module": "@jupyter-widgets/base",
            "_view_module_version": "1.2.0",
            "_view_name": "LayoutView",
            "align_content": null,
            "align_items": null,
            "align_self": null,
            "border": null,
            "bottom": null,
            "display": null,
            "flex": null,
            "flex_flow": null,
            "grid_area": null,
            "grid_auto_columns": null,
            "grid_auto_flow": null,
            "grid_auto_rows": null,
            "grid_column": null,
            "grid_gap": null,
            "grid_row": null,
            "grid_template_areas": null,
            "grid_template_columns": null,
            "grid_template_rows": null,
            "height": null,
            "justify_content": null,
            "justify_items": null,
            "left": null,
            "margin": null,
            "max_height": null,
            "max_width": null,
            "min_height": null,
            "min_width": null,
            "object_fit": null,
            "object_position": null,
            "order": null,
            "overflow": null,
            "overflow_x": null,
            "overflow_y": null,
            "padding": null,
            "right": null,
            "top": null,
            "visibility": null,
            "width": null
          }
        },
        "f526181687b24321a8d19a9bf3d4fe14": {
          "model_module": "@jupyter-widgets/controls",
          "model_name": "ProgressStyleModel",
          "model_module_version": "1.5.0",
          "state": {
            "_model_module": "@jupyter-widgets/controls",
            "_model_module_version": "1.5.0",
            "_model_name": "ProgressStyleModel",
            "_view_count": null,
            "_view_module": "@jupyter-widgets/base",
            "_view_module_version": "1.2.0",
            "_view_name": "StyleView",
            "bar_color": null,
            "description_width": ""
          }
        },
        "0298701146684e0c92972b72e9589f1f": {
          "model_module": "@jupyter-widgets/base",
          "model_name": "LayoutModel",
          "model_module_version": "1.2.0",
          "state": {
            "_model_module": "@jupyter-widgets/base",
            "_model_module_version": "1.2.0",
            "_model_name": "LayoutModel",
            "_view_count": null,
            "_view_module": "@jupyter-widgets/base",
            "_view_module_version": "1.2.0",
            "_view_name": "LayoutView",
            "align_content": null,
            "align_items": null,
            "align_self": null,
            "border": null,
            "bottom": null,
            "display": null,
            "flex": null,
            "flex_flow": null,
            "grid_area": null,
            "grid_auto_columns": null,
            "grid_auto_flow": null,
            "grid_auto_rows": null,
            "grid_column": null,
            "grid_gap": null,
            "grid_row": null,
            "grid_template_areas": null,
            "grid_template_columns": null,
            "grid_template_rows": null,
            "height": null,
            "justify_content": null,
            "justify_items": null,
            "left": null,
            "margin": null,
            "max_height": null,
            "max_width": null,
            "min_height": null,
            "min_width": null,
            "object_fit": null,
            "object_position": null,
            "order": null,
            "overflow": null,
            "overflow_x": null,
            "overflow_y": null,
            "padding": null,
            "right": null,
            "top": null,
            "visibility": null,
            "width": null
          }
        },
        "c5ab031c825f4666b125fe30f44b0e10": {
          "model_module": "@jupyter-widgets/controls",
          "model_name": "DescriptionStyleModel",
          "model_module_version": "1.5.0",
          "state": {
            "_model_module": "@jupyter-widgets/controls",
            "_model_module_version": "1.5.0",
            "_model_name": "DescriptionStyleModel",
            "_view_count": null,
            "_view_module": "@jupyter-widgets/base",
            "_view_module_version": "1.2.0",
            "_view_name": "StyleView",
            "description_width": ""
          }
        },
        "1855551312a94a64977adb46a053a52d": {
          "model_module": "@jupyter-widgets/controls",
          "model_name": "HBoxModel",
          "model_module_version": "1.5.0",
          "state": {
            "_dom_classes": [],
            "_model_module": "@jupyter-widgets/controls",
            "_model_module_version": "1.5.0",
            "_model_name": "HBoxModel",
            "_view_count": null,
            "_view_module": "@jupyter-widgets/controls",
            "_view_module_version": "1.5.0",
            "_view_name": "HBoxView",
            "box_style": "",
            "children": [
              "IPY_MODEL_1dfa13f063f340d98a1f043b0e15c0a7",
              "IPY_MODEL_4cacc821e3d6400b9c7fdd4a9eca3e1b",
              "IPY_MODEL_be446875ea8e40b3bff69fb2025c6499"
            ],
            "layout": "IPY_MODEL_ca205140b97d4639953ab749c8120f43"
          }
        },
        "1dfa13f063f340d98a1f043b0e15c0a7": {
          "model_module": "@jupyter-widgets/controls",
          "model_name": "HTMLModel",
          "model_module_version": "1.5.0",
          "state": {
            "_dom_classes": [],
            "_model_module": "@jupyter-widgets/controls",
            "_model_module_version": "1.5.0",
            "_model_name": "HTMLModel",
            "_view_count": null,
            "_view_module": "@jupyter-widgets/controls",
            "_view_module_version": "1.5.0",
            "_view_name": "HTMLView",
            "description": "",
            "description_tooltip": null,
            "layout": "IPY_MODEL_fd7168cbaa624b0485a9e4f48b7d9e94",
            "placeholder": "​",
            "style": "IPY_MODEL_9ba9c02ff9f84e62919476bce0d93139",
            "value": "Downloading (…)/main/tokenizer.json: 100%"
          }
        },
        "4cacc821e3d6400b9c7fdd4a9eca3e1b": {
          "model_module": "@jupyter-widgets/controls",
          "model_name": "FloatProgressModel",
          "model_module_version": "1.5.0",
          "state": {
            "_dom_classes": [],
            "_model_module": "@jupyter-widgets/controls",
            "_model_module_version": "1.5.0",
            "_model_name": "FloatProgressModel",
            "_view_count": null,
            "_view_module": "@jupyter-widgets/controls",
            "_view_module_version": "1.5.0",
            "_view_name": "ProgressView",
            "bar_style": "success",
            "description": "",
            "description_tooltip": null,
            "layout": "IPY_MODEL_83bc2fd6001245c6bcf7b354130f0384",
            "max": 9096718,
            "min": 0,
            "orientation": "horizontal",
            "style": "IPY_MODEL_44b6de8230c14e9d9edcb0b5cb845a1a",
            "value": 9096718
          }
        },
        "be446875ea8e40b3bff69fb2025c6499": {
          "model_module": "@jupyter-widgets/controls",
          "model_name": "HTMLModel",
          "model_module_version": "1.5.0",
          "state": {
            "_dom_classes": [],
            "_model_module": "@jupyter-widgets/controls",
            "_model_module_version": "1.5.0",
            "_model_name": "HTMLModel",
            "_view_count": null,
            "_view_module": "@jupyter-widgets/controls",
            "_view_module_version": "1.5.0",
            "_view_name": "HTMLView",
            "description": "",
            "description_tooltip": null,
            "layout": "IPY_MODEL_b134bc2bdeb948118c96183076a637d4",
            "placeholder": "​",
            "style": "IPY_MODEL_e5d8ad3beb304c6db8a025871c956bd6",
            "value": " 9.10M/9.10M [00:00&lt;00:00, 35.8MB/s]"
          }
        },
        "ca205140b97d4639953ab749c8120f43": {
          "model_module": "@jupyter-widgets/base",
          "model_name": "LayoutModel",
          "model_module_version": "1.2.0",
          "state": {
            "_model_module": "@jupyter-widgets/base",
            "_model_module_version": "1.2.0",
            "_model_name": "LayoutModel",
            "_view_count": null,
            "_view_module": "@jupyter-widgets/base",
            "_view_module_version": "1.2.0",
            "_view_name": "LayoutView",
            "align_content": null,
            "align_items": null,
            "align_self": null,
            "border": null,
            "bottom": null,
            "display": null,
            "flex": null,
            "flex_flow": null,
            "grid_area": null,
            "grid_auto_columns": null,
            "grid_auto_flow": null,
            "grid_auto_rows": null,
            "grid_column": null,
            "grid_gap": null,
            "grid_row": null,
            "grid_template_areas": null,
            "grid_template_columns": null,
            "grid_template_rows": null,
            "height": null,
            "justify_content": null,
            "justify_items": null,
            "left": null,
            "margin": null,
            "max_height": null,
            "max_width": null,
            "min_height": null,
            "min_width": null,
            "object_fit": null,
            "object_position": null,
            "order": null,
            "overflow": null,
            "overflow_x": null,
            "overflow_y": null,
            "padding": null,
            "right": null,
            "top": null,
            "visibility": null,
            "width": null
          }
        },
        "fd7168cbaa624b0485a9e4f48b7d9e94": {
          "model_module": "@jupyter-widgets/base",
          "model_name": "LayoutModel",
          "model_module_version": "1.2.0",
          "state": {
            "_model_module": "@jupyter-widgets/base",
            "_model_module_version": "1.2.0",
            "_model_name": "LayoutModel",
            "_view_count": null,
            "_view_module": "@jupyter-widgets/base",
            "_view_module_version": "1.2.0",
            "_view_name": "LayoutView",
            "align_content": null,
            "align_items": null,
            "align_self": null,
            "border": null,
            "bottom": null,
            "display": null,
            "flex": null,
            "flex_flow": null,
            "grid_area": null,
            "grid_auto_columns": null,
            "grid_auto_flow": null,
            "grid_auto_rows": null,
            "grid_column": null,
            "grid_gap": null,
            "grid_row": null,
            "grid_template_areas": null,
            "grid_template_columns": null,
            "grid_template_rows": null,
            "height": null,
            "justify_content": null,
            "justify_items": null,
            "left": null,
            "margin": null,
            "max_height": null,
            "max_width": null,
            "min_height": null,
            "min_width": null,
            "object_fit": null,
            "object_position": null,
            "order": null,
            "overflow": null,
            "overflow_x": null,
            "overflow_y": null,
            "padding": null,
            "right": null,
            "top": null,
            "visibility": null,
            "width": null
          }
        },
        "9ba9c02ff9f84e62919476bce0d93139": {
          "model_module": "@jupyter-widgets/controls",
          "model_name": "DescriptionStyleModel",
          "model_module_version": "1.5.0",
          "state": {
            "_model_module": "@jupyter-widgets/controls",
            "_model_module_version": "1.5.0",
            "_model_name": "DescriptionStyleModel",
            "_view_count": null,
            "_view_module": "@jupyter-widgets/base",
            "_view_module_version": "1.2.0",
            "_view_name": "StyleView",
            "description_width": ""
          }
        },
        "83bc2fd6001245c6bcf7b354130f0384": {
          "model_module": "@jupyter-widgets/base",
          "model_name": "LayoutModel",
          "model_module_version": "1.2.0",
          "state": {
            "_model_module": "@jupyter-widgets/base",
            "_model_module_version": "1.2.0",
            "_model_name": "LayoutModel",
            "_view_count": null,
            "_view_module": "@jupyter-widgets/base",
            "_view_module_version": "1.2.0",
            "_view_name": "LayoutView",
            "align_content": null,
            "align_items": null,
            "align_self": null,
            "border": null,
            "bottom": null,
            "display": null,
            "flex": null,
            "flex_flow": null,
            "grid_area": null,
            "grid_auto_columns": null,
            "grid_auto_flow": null,
            "grid_auto_rows": null,
            "grid_column": null,
            "grid_gap": null,
            "grid_row": null,
            "grid_template_areas": null,
            "grid_template_columns": null,
            "grid_template_rows": null,
            "height": null,
            "justify_content": null,
            "justify_items": null,
            "left": null,
            "margin": null,
            "max_height": null,
            "max_width": null,
            "min_height": null,
            "min_width": null,
            "object_fit": null,
            "object_position": null,
            "order": null,
            "overflow": null,
            "overflow_x": null,
            "overflow_y": null,
            "padding": null,
            "right": null,
            "top": null,
            "visibility": null,
            "width": null
          }
        },
        "44b6de8230c14e9d9edcb0b5cb845a1a": {
          "model_module": "@jupyter-widgets/controls",
          "model_name": "ProgressStyleModel",
          "model_module_version": "1.5.0",
          "state": {
            "_model_module": "@jupyter-widgets/controls",
            "_model_module_version": "1.5.0",
            "_model_name": "ProgressStyleModel",
            "_view_count": null,
            "_view_module": "@jupyter-widgets/base",
            "_view_module_version": "1.2.0",
            "_view_name": "StyleView",
            "bar_color": null,
            "description_width": ""
          }
        },
        "b134bc2bdeb948118c96183076a637d4": {
          "model_module": "@jupyter-widgets/base",
          "model_name": "LayoutModel",
          "model_module_version": "1.2.0",
          "state": {
            "_model_module": "@jupyter-widgets/base",
            "_model_module_version": "1.2.0",
            "_model_name": "LayoutModel",
            "_view_count": null,
            "_view_module": "@jupyter-widgets/base",
            "_view_module_version": "1.2.0",
            "_view_name": "LayoutView",
            "align_content": null,
            "align_items": null,
            "align_self": null,
            "border": null,
            "bottom": null,
            "display": null,
            "flex": null,
            "flex_flow": null,
            "grid_area": null,
            "grid_auto_columns": null,
            "grid_auto_flow": null,
            "grid_auto_rows": null,
            "grid_column": null,
            "grid_gap": null,
            "grid_row": null,
            "grid_template_areas": null,
            "grid_template_columns": null,
            "grid_template_rows": null,
            "height": null,
            "justify_content": null,
            "justify_items": null,
            "left": null,
            "margin": null,
            "max_height": null,
            "max_width": null,
            "min_height": null,
            "min_width": null,
            "object_fit": null,
            "object_position": null,
            "order": null,
            "overflow": null,
            "overflow_x": null,
            "overflow_y": null,
            "padding": null,
            "right": null,
            "top": null,
            "visibility": null,
            "width": null
          }
        },
        "e5d8ad3beb304c6db8a025871c956bd6": {
          "model_module": "@jupyter-widgets/controls",
          "model_name": "DescriptionStyleModel",
          "model_module_version": "1.5.0",
          "state": {
            "_model_module": "@jupyter-widgets/controls",
            "_model_module_version": "1.5.0",
            "_model_name": "DescriptionStyleModel",
            "_view_count": null,
            "_view_module": "@jupyter-widgets/base",
            "_view_module_version": "1.2.0",
            "_view_name": "StyleView",
            "description_width": ""
          }
        },
        "8cd8f10ed0484c28991f50977520121e": {
          "model_module": "@jupyter-widgets/controls",
          "model_name": "HBoxModel",
          "model_module_version": "1.5.0",
          "state": {
            "_dom_classes": [],
            "_model_module": "@jupyter-widgets/controls",
            "_model_module_version": "1.5.0",
            "_model_name": "HBoxModel",
            "_view_count": null,
            "_view_module": "@jupyter-widgets/controls",
            "_view_module_version": "1.5.0",
            "_view_name": "HBoxView",
            "box_style": "",
            "children": [
              "IPY_MODEL_953aeebf06614d72a061d74044826cce",
              "IPY_MODEL_a18002c870d644a5a3ce9060c355cd32",
              "IPY_MODEL_7543f3fdbe96423d9d0f9d998d9ac3a4"
            ],
            "layout": "IPY_MODEL_34c30765b2c54cafb8c3602f8efe5735"
          }
        },
        "953aeebf06614d72a061d74044826cce": {
          "model_module": "@jupyter-widgets/controls",
          "model_name": "HTMLModel",
          "model_module_version": "1.5.0",
          "state": {
            "_dom_classes": [],
            "_model_module": "@jupyter-widgets/controls",
            "_model_module_version": "1.5.0",
            "_model_name": "HTMLModel",
            "_view_count": null,
            "_view_module": "@jupyter-widgets/controls",
            "_view_module_version": "1.5.0",
            "_view_name": "HTMLView",
            "description": "",
            "description_tooltip": null,
            "layout": "IPY_MODEL_e27e04705574454ca7d15a354975f474",
            "placeholder": "​",
            "style": "IPY_MODEL_ca04be225b754345bce2b40df0319278",
            "value": "Downloading (…)lve/main/config.json: 100%"
          }
        },
        "a18002c870d644a5a3ce9060c355cd32": {
          "model_module": "@jupyter-widgets/controls",
          "model_name": "FloatProgressModel",
          "model_module_version": "1.5.0",
          "state": {
            "_dom_classes": [],
            "_model_module": "@jupyter-widgets/controls",
            "_model_module_version": "1.5.0",
            "_model_name": "FloatProgressModel",
            "_view_count": null,
            "_view_module": "@jupyter-widgets/controls",
            "_view_module_version": "1.5.0",
            "_view_name": "ProgressView",
            "bar_style": "success",
            "description": "",
            "description_tooltip": null,
            "layout": "IPY_MODEL_1748d2a2fad746d0822410616cedb07c",
            "max": 652,
            "min": 0,
            "orientation": "horizontal",
            "style": "IPY_MODEL_daa4529a2d854f7b856aee8d09a5dbd0",
            "value": 652
          }
        },
        "7543f3fdbe96423d9d0f9d998d9ac3a4": {
          "model_module": "@jupyter-widgets/controls",
          "model_name": "HTMLModel",
          "model_module_version": "1.5.0",
          "state": {
            "_dom_classes": [],
            "_model_module": "@jupyter-widgets/controls",
            "_model_module_version": "1.5.0",
            "_model_name": "HTMLModel",
            "_view_count": null,
            "_view_module": "@jupyter-widgets/controls",
            "_view_module_version": "1.5.0",
            "_view_name": "HTMLView",
            "description": "",
            "description_tooltip": null,
            "layout": "IPY_MODEL_5baad7ef13744feab0fc50d4c0f9571f",
            "placeholder": "​",
            "style": "IPY_MODEL_221ea285a7914e81905d3e82a690774a",
            "value": " 652/652 [00:00&lt;00:00, 20.5kB/s]"
          }
        },
        "34c30765b2c54cafb8c3602f8efe5735": {
          "model_module": "@jupyter-widgets/base",
          "model_name": "LayoutModel",
          "model_module_version": "1.2.0",
          "state": {
            "_model_module": "@jupyter-widgets/base",
            "_model_module_version": "1.2.0",
            "_model_name": "LayoutModel",
            "_view_count": null,
            "_view_module": "@jupyter-widgets/base",
            "_view_module_version": "1.2.0",
            "_view_name": "LayoutView",
            "align_content": null,
            "align_items": null,
            "align_self": null,
            "border": null,
            "bottom": null,
            "display": null,
            "flex": null,
            "flex_flow": null,
            "grid_area": null,
            "grid_auto_columns": null,
            "grid_auto_flow": null,
            "grid_auto_rows": null,
            "grid_column": null,
            "grid_gap": null,
            "grid_row": null,
            "grid_template_areas": null,
            "grid_template_columns": null,
            "grid_template_rows": null,
            "height": null,
            "justify_content": null,
            "justify_items": null,
            "left": null,
            "margin": null,
            "max_height": null,
            "max_width": null,
            "min_height": null,
            "min_width": null,
            "object_fit": null,
            "object_position": null,
            "order": null,
            "overflow": null,
            "overflow_x": null,
            "overflow_y": null,
            "padding": null,
            "right": null,
            "top": null,
            "visibility": null,
            "width": null
          }
        },
        "e27e04705574454ca7d15a354975f474": {
          "model_module": "@jupyter-widgets/base",
          "model_name": "LayoutModel",
          "model_module_version": "1.2.0",
          "state": {
            "_model_module": "@jupyter-widgets/base",
            "_model_module_version": "1.2.0",
            "_model_name": "LayoutModel",
            "_view_count": null,
            "_view_module": "@jupyter-widgets/base",
            "_view_module_version": "1.2.0",
            "_view_name": "LayoutView",
            "align_content": null,
            "align_items": null,
            "align_self": null,
            "border": null,
            "bottom": null,
            "display": null,
            "flex": null,
            "flex_flow": null,
            "grid_area": null,
            "grid_auto_columns": null,
            "grid_auto_flow": null,
            "grid_auto_rows": null,
            "grid_column": null,
            "grid_gap": null,
            "grid_row": null,
            "grid_template_areas": null,
            "grid_template_columns": null,
            "grid_template_rows": null,
            "height": null,
            "justify_content": null,
            "justify_items": null,
            "left": null,
            "margin": null,
            "max_height": null,
            "max_width": null,
            "min_height": null,
            "min_width": null,
            "object_fit": null,
            "object_position": null,
            "order": null,
            "overflow": null,
            "overflow_x": null,
            "overflow_y": null,
            "padding": null,
            "right": null,
            "top": null,
            "visibility": null,
            "width": null
          }
        },
        "ca04be225b754345bce2b40df0319278": {
          "model_module": "@jupyter-widgets/controls",
          "model_name": "DescriptionStyleModel",
          "model_module_version": "1.5.0",
          "state": {
            "_model_module": "@jupyter-widgets/controls",
            "_model_module_version": "1.5.0",
            "_model_name": "DescriptionStyleModel",
            "_view_count": null,
            "_view_module": "@jupyter-widgets/base",
            "_view_module_version": "1.2.0",
            "_view_name": "StyleView",
            "description_width": ""
          }
        },
        "1748d2a2fad746d0822410616cedb07c": {
          "model_module": "@jupyter-widgets/base",
          "model_name": "LayoutModel",
          "model_module_version": "1.2.0",
          "state": {
            "_model_module": "@jupyter-widgets/base",
            "_model_module_version": "1.2.0",
            "_model_name": "LayoutModel",
            "_view_count": null,
            "_view_module": "@jupyter-widgets/base",
            "_view_module_version": "1.2.0",
            "_view_name": "LayoutView",
            "align_content": null,
            "align_items": null,
            "align_self": null,
            "border": null,
            "bottom": null,
            "display": null,
            "flex": null,
            "flex_flow": null,
            "grid_area": null,
            "grid_auto_columns": null,
            "grid_auto_flow": null,
            "grid_auto_rows": null,
            "grid_column": null,
            "grid_gap": null,
            "grid_row": null,
            "grid_template_areas": null,
            "grid_template_columns": null,
            "grid_template_rows": null,
            "height": null,
            "justify_content": null,
            "justify_items": null,
            "left": null,
            "margin": null,
            "max_height": null,
            "max_width": null,
            "min_height": null,
            "min_width": null,
            "object_fit": null,
            "object_position": null,
            "order": null,
            "overflow": null,
            "overflow_x": null,
            "overflow_y": null,
            "padding": null,
            "right": null,
            "top": null,
            "visibility": null,
            "width": null
          }
        },
        "daa4529a2d854f7b856aee8d09a5dbd0": {
          "model_module": "@jupyter-widgets/controls",
          "model_name": "ProgressStyleModel",
          "model_module_version": "1.5.0",
          "state": {
            "_model_module": "@jupyter-widgets/controls",
            "_model_module_version": "1.5.0",
            "_model_name": "ProgressStyleModel",
            "_view_count": null,
            "_view_module": "@jupyter-widgets/base",
            "_view_module_version": "1.2.0",
            "_view_name": "StyleView",
            "bar_color": null,
            "description_width": ""
          }
        },
        "5baad7ef13744feab0fc50d4c0f9571f": {
          "model_module": "@jupyter-widgets/base",
          "model_name": "LayoutModel",
          "model_module_version": "1.2.0",
          "state": {
            "_model_module": "@jupyter-widgets/base",
            "_model_module_version": "1.2.0",
            "_model_name": "LayoutModel",
            "_view_count": null,
            "_view_module": "@jupyter-widgets/base",
            "_view_module_version": "1.2.0",
            "_view_name": "LayoutView",
            "align_content": null,
            "align_items": null,
            "align_self": null,
            "border": null,
            "bottom": null,
            "display": null,
            "flex": null,
            "flex_flow": null,
            "grid_area": null,
            "grid_auto_columns": null,
            "grid_auto_flow": null,
            "grid_auto_rows": null,
            "grid_column": null,
            "grid_gap": null,
            "grid_row": null,
            "grid_template_areas": null,
            "grid_template_columns": null,
            "grid_template_rows": null,
            "height": null,
            "justify_content": null,
            "justify_items": null,
            "left": null,
            "margin": null,
            "max_height": null,
            "max_width": null,
            "min_height": null,
            "min_width": null,
            "object_fit": null,
            "object_position": null,
            "order": null,
            "overflow": null,
            "overflow_x": null,
            "overflow_y": null,
            "padding": null,
            "right": null,
            "top": null,
            "visibility": null,
            "width": null
          }
        },
        "221ea285a7914e81905d3e82a690774a": {
          "model_module": "@jupyter-widgets/controls",
          "model_name": "DescriptionStyleModel",
          "model_module_version": "1.5.0",
          "state": {
            "_model_module": "@jupyter-widgets/controls",
            "_model_module_version": "1.5.0",
            "_model_name": "DescriptionStyleModel",
            "_view_count": null,
            "_view_module": "@jupyter-widgets/base",
            "_view_module_version": "1.2.0",
            "_view_name": "StyleView",
            "description_width": ""
          }
        },
        "787aaa22cbc8454a977f4ed9b2f7895f": {
          "model_module": "@jupyter-widgets/controls",
          "model_name": "HBoxModel",
          "model_module_version": "1.5.0",
          "state": {
            "_dom_classes": [],
            "_model_module": "@jupyter-widgets/controls",
            "_model_module_version": "1.5.0",
            "_model_name": "HBoxModel",
            "_view_count": null,
            "_view_module": "@jupyter-widgets/controls",
            "_view_module_version": "1.5.0",
            "_view_name": "HBoxView",
            "box_style": "",
            "children": [
              "IPY_MODEL_07635b1987c749c2bebe3b239584bc5e",
              "IPY_MODEL_7c61974ba7fc45819a832fb6d3573ec7",
              "IPY_MODEL_6f08183ca54a4c2fb0aad2d906f0202e"
            ],
            "layout": "IPY_MODEL_fab52dd8de3a4d198c3c5373da38e693"
          }
        },
        "07635b1987c749c2bebe3b239584bc5e": {
          "model_module": "@jupyter-widgets/controls",
          "model_name": "HTMLModel",
          "model_module_version": "1.5.0",
          "state": {
            "_dom_classes": [],
            "_model_module": "@jupyter-widgets/controls",
            "_model_module_version": "1.5.0",
            "_model_name": "HTMLModel",
            "_view_count": null,
            "_view_module": "@jupyter-widgets/controls",
            "_view_module_version": "1.5.0",
            "_view_name": "HTMLView",
            "description": "",
            "description_tooltip": null,
            "layout": "IPY_MODEL_6bdf483f11d040b5954d65f18915a0cb",
            "placeholder": "​",
            "style": "IPY_MODEL_d63b14cd920b4ec28cf146c0b334751e",
            "value": "Downloading (…)&quot;pytorch_model.bin&quot;;: 100%"
          }
        },
        "7c61974ba7fc45819a832fb6d3573ec7": {
          "model_module": "@jupyter-widgets/controls",
          "model_name": "FloatProgressModel",
          "model_module_version": "1.5.0",
          "state": {
            "_dom_classes": [],
            "_model_module": "@jupyter-widgets/controls",
            "_model_module_version": "1.5.0",
            "_model_name": "FloatProgressModel",
            "_view_count": null,
            "_view_module": "@jupyter-widgets/controls",
            "_view_module_version": "1.5.0",
            "_view_name": "ProgressView",
            "bar_style": "success",
            "description": "",
            "description_tooltip": null,
            "layout": "IPY_MODEL_40d8bb2ec0984c7cba9292fd4cb98d6c",
            "max": 1113236958,
            "min": 0,
            "orientation": "horizontal",
            "style": "IPY_MODEL_b05a948a46e74f9f927d8dd7ac69a563",
            "value": 1113236958
          }
        },
        "6f08183ca54a4c2fb0aad2d906f0202e": {
          "model_module": "@jupyter-widgets/controls",
          "model_name": "HTMLModel",
          "model_module_version": "1.5.0",
          "state": {
            "_dom_classes": [],
            "_model_module": "@jupyter-widgets/controls",
            "_model_module_version": "1.5.0",
            "_model_name": "HTMLModel",
            "_view_count": null,
            "_view_module": "@jupyter-widgets/controls",
            "_view_module_version": "1.5.0",
            "_view_name": "HTMLView",
            "description": "",
            "description_tooltip": null,
            "layout": "IPY_MODEL_f93d9622e71742c3b24b40658f92b2bb",
            "placeholder": "​",
            "style": "IPY_MODEL_233f7c79337940c09029f5ca09b5b303",
            "value": " 1.11G/1.11G [00:18&lt;00:00, 61.5MB/s]"
          }
        },
        "fab52dd8de3a4d198c3c5373da38e693": {
          "model_module": "@jupyter-widgets/base",
          "model_name": "LayoutModel",
          "model_module_version": "1.2.0",
          "state": {
            "_model_module": "@jupyter-widgets/base",
            "_model_module_version": "1.2.0",
            "_model_name": "LayoutModel",
            "_view_count": null,
            "_view_module": "@jupyter-widgets/base",
            "_view_module_version": "1.2.0",
            "_view_name": "LayoutView",
            "align_content": null,
            "align_items": null,
            "align_self": null,
            "border": null,
            "bottom": null,
            "display": null,
            "flex": null,
            "flex_flow": null,
            "grid_area": null,
            "grid_auto_columns": null,
            "grid_auto_flow": null,
            "grid_auto_rows": null,
            "grid_column": null,
            "grid_gap": null,
            "grid_row": null,
            "grid_template_areas": null,
            "grid_template_columns": null,
            "grid_template_rows": null,
            "height": null,
            "justify_content": null,
            "justify_items": null,
            "left": null,
            "margin": null,
            "max_height": null,
            "max_width": null,
            "min_height": null,
            "min_width": null,
            "object_fit": null,
            "object_position": null,
            "order": null,
            "overflow": null,
            "overflow_x": null,
            "overflow_y": null,
            "padding": null,
            "right": null,
            "top": null,
            "visibility": null,
            "width": null
          }
        },
        "6bdf483f11d040b5954d65f18915a0cb": {
          "model_module": "@jupyter-widgets/base",
          "model_name": "LayoutModel",
          "model_module_version": "1.2.0",
          "state": {
            "_model_module": "@jupyter-widgets/base",
            "_model_module_version": "1.2.0",
            "_model_name": "LayoutModel",
            "_view_count": null,
            "_view_module": "@jupyter-widgets/base",
            "_view_module_version": "1.2.0",
            "_view_name": "LayoutView",
            "align_content": null,
            "align_items": null,
            "align_self": null,
            "border": null,
            "bottom": null,
            "display": null,
            "flex": null,
            "flex_flow": null,
            "grid_area": null,
            "grid_auto_columns": null,
            "grid_auto_flow": null,
            "grid_auto_rows": null,
            "grid_column": null,
            "grid_gap": null,
            "grid_row": null,
            "grid_template_areas": null,
            "grid_template_columns": null,
            "grid_template_rows": null,
            "height": null,
            "justify_content": null,
            "justify_items": null,
            "left": null,
            "margin": null,
            "max_height": null,
            "max_width": null,
            "min_height": null,
            "min_width": null,
            "object_fit": null,
            "object_position": null,
            "order": null,
            "overflow": null,
            "overflow_x": null,
            "overflow_y": null,
            "padding": null,
            "right": null,
            "top": null,
            "visibility": null,
            "width": null
          }
        },
        "d63b14cd920b4ec28cf146c0b334751e": {
          "model_module": "@jupyter-widgets/controls",
          "model_name": "DescriptionStyleModel",
          "model_module_version": "1.5.0",
          "state": {
            "_model_module": "@jupyter-widgets/controls",
            "_model_module_version": "1.5.0",
            "_model_name": "DescriptionStyleModel",
            "_view_count": null,
            "_view_module": "@jupyter-widgets/base",
            "_view_module_version": "1.2.0",
            "_view_name": "StyleView",
            "description_width": ""
          }
        },
        "40d8bb2ec0984c7cba9292fd4cb98d6c": {
          "model_module": "@jupyter-widgets/base",
          "model_name": "LayoutModel",
          "model_module_version": "1.2.0",
          "state": {
            "_model_module": "@jupyter-widgets/base",
            "_model_module_version": "1.2.0",
            "_model_name": "LayoutModel",
            "_view_count": null,
            "_view_module": "@jupyter-widgets/base",
            "_view_module_version": "1.2.0",
            "_view_name": "LayoutView",
            "align_content": null,
            "align_items": null,
            "align_self": null,
            "border": null,
            "bottom": null,
            "display": null,
            "flex": null,
            "flex_flow": null,
            "grid_area": null,
            "grid_auto_columns": null,
            "grid_auto_flow": null,
            "grid_auto_rows": null,
            "grid_column": null,
            "grid_gap": null,
            "grid_row": null,
            "grid_template_areas": null,
            "grid_template_columns": null,
            "grid_template_rows": null,
            "height": null,
            "justify_content": null,
            "justify_items": null,
            "left": null,
            "margin": null,
            "max_height": null,
            "max_width": null,
            "min_height": null,
            "min_width": null,
            "object_fit": null,
            "object_position": null,
            "order": null,
            "overflow": null,
            "overflow_x": null,
            "overflow_y": null,
            "padding": null,
            "right": null,
            "top": null,
            "visibility": null,
            "width": null
          }
        },
        "b05a948a46e74f9f927d8dd7ac69a563": {
          "model_module": "@jupyter-widgets/controls",
          "model_name": "ProgressStyleModel",
          "model_module_version": "1.5.0",
          "state": {
            "_model_module": "@jupyter-widgets/controls",
            "_model_module_version": "1.5.0",
            "_model_name": "ProgressStyleModel",
            "_view_count": null,
            "_view_module": "@jupyter-widgets/base",
            "_view_module_version": "1.2.0",
            "_view_name": "StyleView",
            "bar_color": null,
            "description_width": ""
          }
        },
        "f93d9622e71742c3b24b40658f92b2bb": {
          "model_module": "@jupyter-widgets/base",
          "model_name": "LayoutModel",
          "model_module_version": "1.2.0",
          "state": {
            "_model_module": "@jupyter-widgets/base",
            "_model_module_version": "1.2.0",
            "_model_name": "LayoutModel",
            "_view_count": null,
            "_view_module": "@jupyter-widgets/base",
            "_view_module_version": "1.2.0",
            "_view_name": "LayoutView",
            "align_content": null,
            "align_items": null,
            "align_self": null,
            "border": null,
            "bottom": null,
            "display": null,
            "flex": null,
            "flex_flow": null,
            "grid_area": null,
            "grid_auto_columns": null,
            "grid_auto_flow": null,
            "grid_auto_rows": null,
            "grid_column": null,
            "grid_gap": null,
            "grid_row": null,
            "grid_template_areas": null,
            "grid_template_columns": null,
            "grid_template_rows": null,
            "height": null,
            "justify_content": null,
            "justify_items": null,
            "left": null,
            "margin": null,
            "max_height": null,
            "max_width": null,
            "min_height": null,
            "min_width": null,
            "object_fit": null,
            "object_position": null,
            "order": null,
            "overflow": null,
            "overflow_x": null,
            "overflow_y": null,
            "padding": null,
            "right": null,
            "top": null,
            "visibility": null,
            "width": null
          }
        },
        "233f7c79337940c09029f5ca09b5b303": {
          "model_module": "@jupyter-widgets/controls",
          "model_name": "DescriptionStyleModel",
          "model_module_version": "1.5.0",
          "state": {
            "_model_module": "@jupyter-widgets/controls",
            "_model_module_version": "1.5.0",
            "_model_name": "DescriptionStyleModel",
            "_view_count": null,
            "_view_module": "@jupyter-widgets/base",
            "_view_module_version": "1.2.0",
            "_view_name": "StyleView",
            "description_width": ""
          }
        },
        "ddd27f102003448f97566d607b5a43e3": {
          "model_module": "@jupyter-widgets/controls",
          "model_name": "HBoxModel",
          "model_module_version": "1.5.0",
          "state": {
            "_dom_classes": [],
            "_model_module": "@jupyter-widgets/controls",
            "_model_module_version": "1.5.0",
            "_model_name": "HBoxModel",
            "_view_count": null,
            "_view_module": "@jupyter-widgets/controls",
            "_view_module_version": "1.5.0",
            "_view_name": "HBoxView",
            "box_style": "",
            "children": [
              "IPY_MODEL_fe7551c5866140deb0fd8505d7ff9a27",
              "IPY_MODEL_a8cb3d0512b644f6866936701c536aee",
              "IPY_MODEL_dcdfe7ad28b9419494fb6279249abd66"
            ],
            "layout": "IPY_MODEL_db25ed472d084b88a049bcf83c773d35"
          }
        },
        "fe7551c5866140deb0fd8505d7ff9a27": {
          "model_module": "@jupyter-widgets/controls",
          "model_name": "HTMLModel",
          "model_module_version": "1.5.0",
          "state": {
            "_dom_classes": [],
            "_model_module": "@jupyter-widgets/controls",
            "_model_module_version": "1.5.0",
            "_model_name": "HTMLModel",
            "_view_count": null,
            "_view_module": "@jupyter-widgets/controls",
            "_view_module_version": "1.5.0",
            "_view_name": "HTMLView",
            "description": "",
            "description_tooltip": null,
            "layout": "IPY_MODEL_822a14558f9940c1986346cccaeebae2",
            "placeholder": "​",
            "style": "IPY_MODEL_a1761cb672424e3daccca138bede6c18",
            "value": "Downloading (…)lve/main/config.json: 100%"
          }
        },
        "a8cb3d0512b644f6866936701c536aee": {
          "model_module": "@jupyter-widgets/controls",
          "model_name": "FloatProgressModel",
          "model_module_version": "1.5.0",
          "state": {
            "_dom_classes": [],
            "_model_module": "@jupyter-widgets/controls",
            "_model_module_version": "1.5.0",
            "_model_name": "FloatProgressModel",
            "_view_count": null,
            "_view_module": "@jupyter-widgets/controls",
            "_view_module_version": "1.5.0",
            "_view_name": "ProgressView",
            "bar_style": "success",
            "description": "",
            "description_tooltip": null,
            "layout": "IPY_MODEL_801e7cf078e342dbaa17c60b0a2e3948",
            "max": 652,
            "min": 0,
            "orientation": "horizontal",
            "style": "IPY_MODEL_d67be5f9a2f04d418d3a962ef9e47282",
            "value": 652
          }
        },
        "dcdfe7ad28b9419494fb6279249abd66": {
          "model_module": "@jupyter-widgets/controls",
          "model_name": "HTMLModel",
          "model_module_version": "1.5.0",
          "state": {
            "_dom_classes": [],
            "_model_module": "@jupyter-widgets/controls",
            "_model_module_version": "1.5.0",
            "_model_name": "HTMLModel",
            "_view_count": null,
            "_view_module": "@jupyter-widgets/controls",
            "_view_module_version": "1.5.0",
            "_view_name": "HTMLView",
            "description": "",
            "description_tooltip": null,
            "layout": "IPY_MODEL_d4c54e9ccc594a5f8e7bc0c0afc85d21",
            "placeholder": "​",
            "style": "IPY_MODEL_152262222d0e46939058e9007fc68621",
            "value": " 652/652 [00:00&lt;00:00, 11.9kB/s]"
          }
        },
        "db25ed472d084b88a049bcf83c773d35": {
          "model_module": "@jupyter-widgets/base",
          "model_name": "LayoutModel",
          "model_module_version": "1.2.0",
          "state": {
            "_model_module": "@jupyter-widgets/base",
            "_model_module_version": "1.2.0",
            "_model_name": "LayoutModel",
            "_view_count": null,
            "_view_module": "@jupyter-widgets/base",
            "_view_module_version": "1.2.0",
            "_view_name": "LayoutView",
            "align_content": null,
            "align_items": null,
            "align_self": null,
            "border": null,
            "bottom": null,
            "display": null,
            "flex": null,
            "flex_flow": null,
            "grid_area": null,
            "grid_auto_columns": null,
            "grid_auto_flow": null,
            "grid_auto_rows": null,
            "grid_column": null,
            "grid_gap": null,
            "grid_row": null,
            "grid_template_areas": null,
            "grid_template_columns": null,
            "grid_template_rows": null,
            "height": null,
            "justify_content": null,
            "justify_items": null,
            "left": null,
            "margin": null,
            "max_height": null,
            "max_width": null,
            "min_height": null,
            "min_width": null,
            "object_fit": null,
            "object_position": null,
            "order": null,
            "overflow": null,
            "overflow_x": null,
            "overflow_y": null,
            "padding": null,
            "right": null,
            "top": null,
            "visibility": null,
            "width": null
          }
        },
        "822a14558f9940c1986346cccaeebae2": {
          "model_module": "@jupyter-widgets/base",
          "model_name": "LayoutModel",
          "model_module_version": "1.2.0",
          "state": {
            "_model_module": "@jupyter-widgets/base",
            "_model_module_version": "1.2.0",
            "_model_name": "LayoutModel",
            "_view_count": null,
            "_view_module": "@jupyter-widgets/base",
            "_view_module_version": "1.2.0",
            "_view_name": "LayoutView",
            "align_content": null,
            "align_items": null,
            "align_self": null,
            "border": null,
            "bottom": null,
            "display": null,
            "flex": null,
            "flex_flow": null,
            "grid_area": null,
            "grid_auto_columns": null,
            "grid_auto_flow": null,
            "grid_auto_rows": null,
            "grid_column": null,
            "grid_gap": null,
            "grid_row": null,
            "grid_template_areas": null,
            "grid_template_columns": null,
            "grid_template_rows": null,
            "height": null,
            "justify_content": null,
            "justify_items": null,
            "left": null,
            "margin": null,
            "max_height": null,
            "max_width": null,
            "min_height": null,
            "min_width": null,
            "object_fit": null,
            "object_position": null,
            "order": null,
            "overflow": null,
            "overflow_x": null,
            "overflow_y": null,
            "padding": null,
            "right": null,
            "top": null,
            "visibility": null,
            "width": null
          }
        },
        "a1761cb672424e3daccca138bede6c18": {
          "model_module": "@jupyter-widgets/controls",
          "model_name": "DescriptionStyleModel",
          "model_module_version": "1.5.0",
          "state": {
            "_model_module": "@jupyter-widgets/controls",
            "_model_module_version": "1.5.0",
            "_model_name": "DescriptionStyleModel",
            "_view_count": null,
            "_view_module": "@jupyter-widgets/base",
            "_view_module_version": "1.2.0",
            "_view_name": "StyleView",
            "description_width": ""
          }
        },
        "801e7cf078e342dbaa17c60b0a2e3948": {
          "model_module": "@jupyter-widgets/base",
          "model_name": "LayoutModel",
          "model_module_version": "1.2.0",
          "state": {
            "_model_module": "@jupyter-widgets/base",
            "_model_module_version": "1.2.0",
            "_model_name": "LayoutModel",
            "_view_count": null,
            "_view_module": "@jupyter-widgets/base",
            "_view_module_version": "1.2.0",
            "_view_name": "LayoutView",
            "align_content": null,
            "align_items": null,
            "align_self": null,
            "border": null,
            "bottom": null,
            "display": null,
            "flex": null,
            "flex_flow": null,
            "grid_area": null,
            "grid_auto_columns": null,
            "grid_auto_flow": null,
            "grid_auto_rows": null,
            "grid_column": null,
            "grid_gap": null,
            "grid_row": null,
            "grid_template_areas": null,
            "grid_template_columns": null,
            "grid_template_rows": null,
            "height": null,
            "justify_content": null,
            "justify_items": null,
            "left": null,
            "margin": null,
            "max_height": null,
            "max_width": null,
            "min_height": null,
            "min_width": null,
            "object_fit": null,
            "object_position": null,
            "order": null,
            "overflow": null,
            "overflow_x": null,
            "overflow_y": null,
            "padding": null,
            "right": null,
            "top": null,
            "visibility": null,
            "width": null
          }
        },
        "d67be5f9a2f04d418d3a962ef9e47282": {
          "model_module": "@jupyter-widgets/controls",
          "model_name": "ProgressStyleModel",
          "model_module_version": "1.5.0",
          "state": {
            "_model_module": "@jupyter-widgets/controls",
            "_model_module_version": "1.5.0",
            "_model_name": "ProgressStyleModel",
            "_view_count": null,
            "_view_module": "@jupyter-widgets/base",
            "_view_module_version": "1.2.0",
            "_view_name": "StyleView",
            "bar_color": null,
            "description_width": ""
          }
        },
        "d4c54e9ccc594a5f8e7bc0c0afc85d21": {
          "model_module": "@jupyter-widgets/base",
          "model_name": "LayoutModel",
          "model_module_version": "1.2.0",
          "state": {
            "_model_module": "@jupyter-widgets/base",
            "_model_module_version": "1.2.0",
            "_model_name": "LayoutModel",
            "_view_count": null,
            "_view_module": "@jupyter-widgets/base",
            "_view_module_version": "1.2.0",
            "_view_name": "LayoutView",
            "align_content": null,
            "align_items": null,
            "align_self": null,
            "border": null,
            "bottom": null,
            "display": null,
            "flex": null,
            "flex_flow": null,
            "grid_area": null,
            "grid_auto_columns": null,
            "grid_auto_flow": null,
            "grid_auto_rows": null,
            "grid_column": null,
            "grid_gap": null,
            "grid_row": null,
            "grid_template_areas": null,
            "grid_template_columns": null,
            "grid_template_rows": null,
            "height": null,
            "justify_content": null,
            "justify_items": null,
            "left": null,
            "margin": null,
            "max_height": null,
            "max_width": null,
            "min_height": null,
            "min_width": null,
            "object_fit": null,
            "object_position": null,
            "order": null,
            "overflow": null,
            "overflow_x": null,
            "overflow_y": null,
            "padding": null,
            "right": null,
            "top": null,
            "visibility": null,
            "width": null
          }
        },
        "152262222d0e46939058e9007fc68621": {
          "model_module": "@jupyter-widgets/controls",
          "model_name": "DescriptionStyleModel",
          "model_module_version": "1.5.0",
          "state": {
            "_model_module": "@jupyter-widgets/controls",
            "_model_module_version": "1.5.0",
            "_model_name": "DescriptionStyleModel",
            "_view_count": null,
            "_view_module": "@jupyter-widgets/base",
            "_view_module_version": "1.2.0",
            "_view_name": "StyleView",
            "description_width": ""
          }
        },
        "6c64de8b271e44b797f155108a14e357": {
          "model_module": "@jupyter-widgets/controls",
          "model_name": "HBoxModel",
          "model_module_version": "1.5.0",
          "state": {
            "_dom_classes": [],
            "_model_module": "@jupyter-widgets/controls",
            "_model_module_version": "1.5.0",
            "_model_name": "HBoxModel",
            "_view_count": null,
            "_view_module": "@jupyter-widgets/controls",
            "_view_module_version": "1.5.0",
            "_view_name": "HBoxView",
            "box_style": "",
            "children": [
              "IPY_MODEL_f35aef280bc7459ba813f58fce7fc85b",
              "IPY_MODEL_5748ca0a42c44a69821387579065b1e9",
              "IPY_MODEL_74c2c4601aed4ba19c5f86d808b27f58"
            ],
            "layout": "IPY_MODEL_b9acb76e72064e11891fa838df1dd5e8"
          }
        },
        "f35aef280bc7459ba813f58fce7fc85b": {
          "model_module": "@jupyter-widgets/controls",
          "model_name": "HTMLModel",
          "model_module_version": "1.5.0",
          "state": {
            "_dom_classes": [],
            "_model_module": "@jupyter-widgets/controls",
            "_model_module_version": "1.5.0",
            "_model_name": "HTMLModel",
            "_view_count": null,
            "_view_module": "@jupyter-widgets/controls",
            "_view_module_version": "1.5.0",
            "_view_name": "HTMLView",
            "description": "",
            "description_tooltip": null,
            "layout": "IPY_MODEL_6b1e83653d5441dba541976e3809a7f9",
            "placeholder": "​",
            "style": "IPY_MODEL_88a67512a6df482ebdc16287837fee78",
            "value": "Downloading (…)ncepiece.bpe.model&quot;;: 100%"
          }
        },
        "5748ca0a42c44a69821387579065b1e9": {
          "model_module": "@jupyter-widgets/controls",
          "model_name": "FloatProgressModel",
          "model_module_version": "1.5.0",
          "state": {
            "_dom_classes": [],
            "_model_module": "@jupyter-widgets/controls",
            "_model_module_version": "1.5.0",
            "_model_name": "FloatProgressModel",
            "_view_count": null,
            "_view_module": "@jupyter-widgets/controls",
            "_view_module_version": "1.5.0",
            "_view_name": "ProgressView",
            "bar_style": "success",
            "description": "",
            "description_tooltip": null,
            "layout": "IPY_MODEL_6b141d1042ed481b91ebf8c2987df730",
            "max": 5069051,
            "min": 0,
            "orientation": "horizontal",
            "style": "IPY_MODEL_e1df44cbfa054d7bb705deef9913793e",
            "value": 5069051
          }
        },
        "74c2c4601aed4ba19c5f86d808b27f58": {
          "model_module": "@jupyter-widgets/controls",
          "model_name": "HTMLModel",
          "model_module_version": "1.5.0",
          "state": {
            "_dom_classes": [],
            "_model_module": "@jupyter-widgets/controls",
            "_model_module_version": "1.5.0",
            "_model_name": "HTMLModel",
            "_view_count": null,
            "_view_module": "@jupyter-widgets/controls",
            "_view_module_version": "1.5.0",
            "_view_name": "HTMLView",
            "description": "",
            "description_tooltip": null,
            "layout": "IPY_MODEL_a207e3123bcd4c8dafd5873ac871b512",
            "placeholder": "​",
            "style": "IPY_MODEL_1a6ff089a72945a586ac21d14ba2bafe",
            "value": " 5.07M/5.07M [00:00&lt;00:00, 7.75MB/s]"
          }
        },
        "b9acb76e72064e11891fa838df1dd5e8": {
          "model_module": "@jupyter-widgets/base",
          "model_name": "LayoutModel",
          "model_module_version": "1.2.0",
          "state": {
            "_model_module": "@jupyter-widgets/base",
            "_model_module_version": "1.2.0",
            "_model_name": "LayoutModel",
            "_view_count": null,
            "_view_module": "@jupyter-widgets/base",
            "_view_module_version": "1.2.0",
            "_view_name": "LayoutView",
            "align_content": null,
            "align_items": null,
            "align_self": null,
            "border": null,
            "bottom": null,
            "display": null,
            "flex": null,
            "flex_flow": null,
            "grid_area": null,
            "grid_auto_columns": null,
            "grid_auto_flow": null,
            "grid_auto_rows": null,
            "grid_column": null,
            "grid_gap": null,
            "grid_row": null,
            "grid_template_areas": null,
            "grid_template_columns": null,
            "grid_template_rows": null,
            "height": null,
            "justify_content": null,
            "justify_items": null,
            "left": null,
            "margin": null,
            "max_height": null,
            "max_width": null,
            "min_height": null,
            "min_width": null,
            "object_fit": null,
            "object_position": null,
            "order": null,
            "overflow": null,
            "overflow_x": null,
            "overflow_y": null,
            "padding": null,
            "right": null,
            "top": null,
            "visibility": null,
            "width": null
          }
        },
        "6b1e83653d5441dba541976e3809a7f9": {
          "model_module": "@jupyter-widgets/base",
          "model_name": "LayoutModel",
          "model_module_version": "1.2.0",
          "state": {
            "_model_module": "@jupyter-widgets/base",
            "_model_module_version": "1.2.0",
            "_model_name": "LayoutModel",
            "_view_count": null,
            "_view_module": "@jupyter-widgets/base",
            "_view_module_version": "1.2.0",
            "_view_name": "LayoutView",
            "align_content": null,
            "align_items": null,
            "align_self": null,
            "border": null,
            "bottom": null,
            "display": null,
            "flex": null,
            "flex_flow": null,
            "grid_area": null,
            "grid_auto_columns": null,
            "grid_auto_flow": null,
            "grid_auto_rows": null,
            "grid_column": null,
            "grid_gap": null,
            "grid_row": null,
            "grid_template_areas": null,
            "grid_template_columns": null,
            "grid_template_rows": null,
            "height": null,
            "justify_content": null,
            "justify_items": null,
            "left": null,
            "margin": null,
            "max_height": null,
            "max_width": null,
            "min_height": null,
            "min_width": null,
            "object_fit": null,
            "object_position": null,
            "order": null,
            "overflow": null,
            "overflow_x": null,
            "overflow_y": null,
            "padding": null,
            "right": null,
            "top": null,
            "visibility": null,
            "width": null
          }
        },
        "88a67512a6df482ebdc16287837fee78": {
          "model_module": "@jupyter-widgets/controls",
          "model_name": "DescriptionStyleModel",
          "model_module_version": "1.5.0",
          "state": {
            "_model_module": "@jupyter-widgets/controls",
            "_model_module_version": "1.5.0",
            "_model_name": "DescriptionStyleModel",
            "_view_count": null,
            "_view_module": "@jupyter-widgets/base",
            "_view_module_version": "1.2.0",
            "_view_name": "StyleView",
            "description_width": ""
          }
        },
        "6b141d1042ed481b91ebf8c2987df730": {
          "model_module": "@jupyter-widgets/base",
          "model_name": "LayoutModel",
          "model_module_version": "1.2.0",
          "state": {
            "_model_module": "@jupyter-widgets/base",
            "_model_module_version": "1.2.0",
            "_model_name": "LayoutModel",
            "_view_count": null,
            "_view_module": "@jupyter-widgets/base",
            "_view_module_version": "1.2.0",
            "_view_name": "LayoutView",
            "align_content": null,
            "align_items": null,
            "align_self": null,
            "border": null,
            "bottom": null,
            "display": null,
            "flex": null,
            "flex_flow": null,
            "grid_area": null,
            "grid_auto_columns": null,
            "grid_auto_flow": null,
            "grid_auto_rows": null,
            "grid_column": null,
            "grid_gap": null,
            "grid_row": null,
            "grid_template_areas": null,
            "grid_template_columns": null,
            "grid_template_rows": null,
            "height": null,
            "justify_content": null,
            "justify_items": null,
            "left": null,
            "margin": null,
            "max_height": null,
            "max_width": null,
            "min_height": null,
            "min_width": null,
            "object_fit": null,
            "object_position": null,
            "order": null,
            "overflow": null,
            "overflow_x": null,
            "overflow_y": null,
            "padding": null,
            "right": null,
            "top": null,
            "visibility": null,
            "width": null
          }
        },
        "e1df44cbfa054d7bb705deef9913793e": {
          "model_module": "@jupyter-widgets/controls",
          "model_name": "ProgressStyleModel",
          "model_module_version": "1.5.0",
          "state": {
            "_model_module": "@jupyter-widgets/controls",
            "_model_module_version": "1.5.0",
            "_model_name": "ProgressStyleModel",
            "_view_count": null,
            "_view_module": "@jupyter-widgets/base",
            "_view_module_version": "1.2.0",
            "_view_name": "StyleView",
            "bar_color": null,
            "description_width": ""
          }
        },
        "a207e3123bcd4c8dafd5873ac871b512": {
          "model_module": "@jupyter-widgets/base",
          "model_name": "LayoutModel",
          "model_module_version": "1.2.0",
          "state": {
            "_model_module": "@jupyter-widgets/base",
            "_model_module_version": "1.2.0",
            "_model_name": "LayoutModel",
            "_view_count": null,
            "_view_module": "@jupyter-widgets/base",
            "_view_module_version": "1.2.0",
            "_view_name": "LayoutView",
            "align_content": null,
            "align_items": null,
            "align_self": null,
            "border": null,
            "bottom": null,
            "display": null,
            "flex": null,
            "flex_flow": null,
            "grid_area": null,
            "grid_auto_columns": null,
            "grid_auto_flow": null,
            "grid_auto_rows": null,
            "grid_column": null,
            "grid_gap": null,
            "grid_row": null,
            "grid_template_areas": null,
            "grid_template_columns": null,
            "grid_template_rows": null,
            "height": null,
            "justify_content": null,
            "justify_items": null,
            "left": null,
            "margin": null,
            "max_height": null,
            "max_width": null,
            "min_height": null,
            "min_width": null,
            "object_fit": null,
            "object_position": null,
            "order": null,
            "overflow": null,
            "overflow_x": null,
            "overflow_y": null,
            "padding": null,
            "right": null,
            "top": null,
            "visibility": null,
            "width": null
          }
        },
        "1a6ff089a72945a586ac21d14ba2bafe": {
          "model_module": "@jupyter-widgets/controls",
          "model_name": "DescriptionStyleModel",
          "model_module_version": "1.5.0",
          "state": {
            "_model_module": "@jupyter-widgets/controls",
            "_model_module_version": "1.5.0",
            "_model_name": "DescriptionStyleModel",
            "_view_count": null,
            "_view_module": "@jupyter-widgets/base",
            "_view_module_version": "1.2.0",
            "_view_name": "StyleView",
            "description_width": ""
          }
        },
        "0e3c220a069f40fdba807edafa51c58f": {
          "model_module": "@jupyter-widgets/controls",
          "model_name": "HBoxModel",
          "model_module_version": "1.5.0",
          "state": {
            "_dom_classes": [],
            "_model_module": "@jupyter-widgets/controls",
            "_model_module_version": "1.5.0",
            "_model_name": "HBoxModel",
            "_view_count": null,
            "_view_module": "@jupyter-widgets/controls",
            "_view_module_version": "1.5.0",
            "_view_name": "HBoxView",
            "box_style": "",
            "children": [
              "IPY_MODEL_830202ae51434983a7b92a521df00a32",
              "IPY_MODEL_cd2fd3d219494209a7565767873dd3cf",
              "IPY_MODEL_c599de01ea434f419c7aeb6d941c51fe"
            ],
            "layout": "IPY_MODEL_93a643fa9d8c4276b37b62bf6b0ad82b"
          }
        },
        "830202ae51434983a7b92a521df00a32": {
          "model_module": "@jupyter-widgets/controls",
          "model_name": "HTMLModel",
          "model_module_version": "1.5.0",
          "state": {
            "_dom_classes": [],
            "_model_module": "@jupyter-widgets/controls",
            "_model_module_version": "1.5.0",
            "_model_name": "HTMLModel",
            "_view_count": null,
            "_view_module": "@jupyter-widgets/controls",
            "_view_module_version": "1.5.0",
            "_view_name": "HTMLView",
            "description": "",
            "description_tooltip": null,
            "layout": "IPY_MODEL_5720b7fcb97a4a35a4a013489dffb099",
            "placeholder": "​",
            "style": "IPY_MODEL_a0b8348e70ec4f7785500a684688fcac",
            "value": "Downloading (…)/main/tokenizer.json: 100%"
          }
        },
        "cd2fd3d219494209a7565767873dd3cf": {
          "model_module": "@jupyter-widgets/controls",
          "model_name": "FloatProgressModel",
          "model_module_version": "1.5.0",
          "state": {
            "_dom_classes": [],
            "_model_module": "@jupyter-widgets/controls",
            "_model_module_version": "1.5.0",
            "_model_name": "FloatProgressModel",
            "_view_count": null,
            "_view_module": "@jupyter-widgets/controls",
            "_view_module_version": "1.5.0",
            "_view_name": "ProgressView",
            "bar_style": "success",
            "description": "",
            "description_tooltip": null,
            "layout": "IPY_MODEL_b76df056b3c346cdb639cc143e936364",
            "max": 9096718,
            "min": 0,
            "orientation": "horizontal",
            "style": "IPY_MODEL_f4c8038914b24a08a3f915ae860c2f17",
            "value": 9096718
          }
        },
        "c599de01ea434f419c7aeb6d941c51fe": {
          "model_module": "@jupyter-widgets/controls",
          "model_name": "HTMLModel",
          "model_module_version": "1.5.0",
          "state": {
            "_dom_classes": [],
            "_model_module": "@jupyter-widgets/controls",
            "_model_module_version": "1.5.0",
            "_model_name": "HTMLModel",
            "_view_count": null,
            "_view_module": "@jupyter-widgets/controls",
            "_view_module_version": "1.5.0",
            "_view_name": "HTMLView",
            "description": "",
            "description_tooltip": null,
            "layout": "IPY_MODEL_ab2108a179ef4ac49a3464c074e4eb8f",
            "placeholder": "​",
            "style": "IPY_MODEL_dc3d618a1b8647a98b7cf82203738631",
            "value": " 9.10M/9.10M [00:00&lt;00:00, 13.1MB/s]"
          }
        },
        "93a643fa9d8c4276b37b62bf6b0ad82b": {
          "model_module": "@jupyter-widgets/base",
          "model_name": "LayoutModel",
          "model_module_version": "1.2.0",
          "state": {
            "_model_module": "@jupyter-widgets/base",
            "_model_module_version": "1.2.0",
            "_model_name": "LayoutModel",
            "_view_count": null,
            "_view_module": "@jupyter-widgets/base",
            "_view_module_version": "1.2.0",
            "_view_name": "LayoutView",
            "align_content": null,
            "align_items": null,
            "align_self": null,
            "border": null,
            "bottom": null,
            "display": null,
            "flex": null,
            "flex_flow": null,
            "grid_area": null,
            "grid_auto_columns": null,
            "grid_auto_flow": null,
            "grid_auto_rows": null,
            "grid_column": null,
            "grid_gap": null,
            "grid_row": null,
            "grid_template_areas": null,
            "grid_template_columns": null,
            "grid_template_rows": null,
            "height": null,
            "justify_content": null,
            "justify_items": null,
            "left": null,
            "margin": null,
            "max_height": null,
            "max_width": null,
            "min_height": null,
            "min_width": null,
            "object_fit": null,
            "object_position": null,
            "order": null,
            "overflow": null,
            "overflow_x": null,
            "overflow_y": null,
            "padding": null,
            "right": null,
            "top": null,
            "visibility": null,
            "width": null
          }
        },
        "5720b7fcb97a4a35a4a013489dffb099": {
          "model_module": "@jupyter-widgets/base",
          "model_name": "LayoutModel",
          "model_module_version": "1.2.0",
          "state": {
            "_model_module": "@jupyter-widgets/base",
            "_model_module_version": "1.2.0",
            "_model_name": "LayoutModel",
            "_view_count": null,
            "_view_module": "@jupyter-widgets/base",
            "_view_module_version": "1.2.0",
            "_view_name": "LayoutView",
            "align_content": null,
            "align_items": null,
            "align_self": null,
            "border": null,
            "bottom": null,
            "display": null,
            "flex": null,
            "flex_flow": null,
            "grid_area": null,
            "grid_auto_columns": null,
            "grid_auto_flow": null,
            "grid_auto_rows": null,
            "grid_column": null,
            "grid_gap": null,
            "grid_row": null,
            "grid_template_areas": null,
            "grid_template_columns": null,
            "grid_template_rows": null,
            "height": null,
            "justify_content": null,
            "justify_items": null,
            "left": null,
            "margin": null,
            "max_height": null,
            "max_width": null,
            "min_height": null,
            "min_width": null,
            "object_fit": null,
            "object_position": null,
            "order": null,
            "overflow": null,
            "overflow_x": null,
            "overflow_y": null,
            "padding": null,
            "right": null,
            "top": null,
            "visibility": null,
            "width": null
          }
        },
        "a0b8348e70ec4f7785500a684688fcac": {
          "model_module": "@jupyter-widgets/controls",
          "model_name": "DescriptionStyleModel",
          "model_module_version": "1.5.0",
          "state": {
            "_model_module": "@jupyter-widgets/controls",
            "_model_module_version": "1.5.0",
            "_model_name": "DescriptionStyleModel",
            "_view_count": null,
            "_view_module": "@jupyter-widgets/base",
            "_view_module_version": "1.2.0",
            "_view_name": "StyleView",
            "description_width": ""
          }
        },
        "b76df056b3c346cdb639cc143e936364": {
          "model_module": "@jupyter-widgets/base",
          "model_name": "LayoutModel",
          "model_module_version": "1.2.0",
          "state": {
            "_model_module": "@jupyter-widgets/base",
            "_model_module_version": "1.2.0",
            "_model_name": "LayoutModel",
            "_view_count": null,
            "_view_module": "@jupyter-widgets/base",
            "_view_module_version": "1.2.0",
            "_view_name": "LayoutView",
            "align_content": null,
            "align_items": null,
            "align_self": null,
            "border": null,
            "bottom": null,
            "display": null,
            "flex": null,
            "flex_flow": null,
            "grid_area": null,
            "grid_auto_columns": null,
            "grid_auto_flow": null,
            "grid_auto_rows": null,
            "grid_column": null,
            "grid_gap": null,
            "grid_row": null,
            "grid_template_areas": null,
            "grid_template_columns": null,
            "grid_template_rows": null,
            "height": null,
            "justify_content": null,
            "justify_items": null,
            "left": null,
            "margin": null,
            "max_height": null,
            "max_width": null,
            "min_height": null,
            "min_width": null,
            "object_fit": null,
            "object_position": null,
            "order": null,
            "overflow": null,
            "overflow_x": null,
            "overflow_y": null,
            "padding": null,
            "right": null,
            "top": null,
            "visibility": null,
            "width": null
          }
        },
        "f4c8038914b24a08a3f915ae860c2f17": {
          "model_module": "@jupyter-widgets/controls",
          "model_name": "ProgressStyleModel",
          "model_module_version": "1.5.0",
          "state": {
            "_model_module": "@jupyter-widgets/controls",
            "_model_module_version": "1.5.0",
            "_model_name": "ProgressStyleModel",
            "_view_count": null,
            "_view_module": "@jupyter-widgets/base",
            "_view_module_version": "1.2.0",
            "_view_name": "StyleView",
            "bar_color": null,
            "description_width": ""
          }
        },
        "ab2108a179ef4ac49a3464c074e4eb8f": {
          "model_module": "@jupyter-widgets/base",
          "model_name": "LayoutModel",
          "model_module_version": "1.2.0",
          "state": {
            "_model_module": "@jupyter-widgets/base",
            "_model_module_version": "1.2.0",
            "_model_name": "LayoutModel",
            "_view_count": null,
            "_view_module": "@jupyter-widgets/base",
            "_view_module_version": "1.2.0",
            "_view_name": "LayoutView",
            "align_content": null,
            "align_items": null,
            "align_self": null,
            "border": null,
            "bottom": null,
            "display": null,
            "flex": null,
            "flex_flow": null,
            "grid_area": null,
            "grid_auto_columns": null,
            "grid_auto_flow": null,
            "grid_auto_rows": null,
            "grid_column": null,
            "grid_gap": null,
            "grid_row": null,
            "grid_template_areas": null,
            "grid_template_columns": null,
            "grid_template_rows": null,
            "height": null,
            "justify_content": null,
            "justify_items": null,
            "left": null,
            "margin": null,
            "max_height": null,
            "max_width": null,
            "min_height": null,
            "min_width": null,
            "object_fit": null,
            "object_position": null,
            "order": null,
            "overflow": null,
            "overflow_x": null,
            "overflow_y": null,
            "padding": null,
            "right": null,
            "top": null,
            "visibility": null,
            "width": null
          }
        },
        "dc3d618a1b8647a98b7cf82203738631": {
          "model_module": "@jupyter-widgets/controls",
          "model_name": "DescriptionStyleModel",
          "model_module_version": "1.5.0",
          "state": {
            "_model_module": "@jupyter-widgets/controls",
            "_model_module_version": "1.5.0",
            "_model_name": "DescriptionStyleModel",
            "_view_count": null,
            "_view_module": "@jupyter-widgets/base",
            "_view_module_version": "1.2.0",
            "_view_name": "StyleView",
            "description_width": ""
          }
        },
        "89ca551bdc5741ffb3f64e701c71ee27": {
          "model_module": "@jupyter-widgets/controls",
          "model_name": "HBoxModel",
          "model_module_version": "1.5.0",
          "state": {
            "_dom_classes": [],
            "_model_module": "@jupyter-widgets/controls",
            "_model_module_version": "1.5.0",
            "_model_name": "HBoxModel",
            "_view_count": null,
            "_view_module": "@jupyter-widgets/controls",
            "_view_module_version": "1.5.0",
            "_view_name": "HBoxView",
            "box_style": "",
            "children": [
              "IPY_MODEL_dd12e55bba324021b55688ed2329081a",
              "IPY_MODEL_6fbeb725158d411f95bf035cce92cac9",
              "IPY_MODEL_c6d503b983644b8bba79ef884b25c8c3"
            ],
            "layout": "IPY_MODEL_57f5a0f02f1e436a8c92f92790bab3ae"
          }
        },
        "dd12e55bba324021b55688ed2329081a": {
          "model_module": "@jupyter-widgets/controls",
          "model_name": "HTMLModel",
          "model_module_version": "1.5.0",
          "state": {
            "_dom_classes": [],
            "_model_module": "@jupyter-widgets/controls",
            "_model_module_version": "1.5.0",
            "_model_name": "HTMLModel",
            "_view_count": null,
            "_view_module": "@jupyter-widgets/controls",
            "_view_module_version": "1.5.0",
            "_view_name": "HTMLView",
            "description": "",
            "description_tooltip": null,
            "layout": "IPY_MODEL_088370d7df1b4b168fe6df3d274f9095",
            "placeholder": "​",
            "style": "IPY_MODEL_2859f9b53f094a9fbb58c23fd3df8ae6",
            "value": "Downloading (…)&quot;pytorch_model.bin&quot;;: 100%"
          }
        },
        "6fbeb725158d411f95bf035cce92cac9": {
          "model_module": "@jupyter-widgets/controls",
          "model_name": "FloatProgressModel",
          "model_module_version": "1.5.0",
          "state": {
            "_dom_classes": [],
            "_model_module": "@jupyter-widgets/controls",
            "_model_module_version": "1.5.0",
            "_model_name": "FloatProgressModel",
            "_view_count": null,
            "_view_module": "@jupyter-widgets/controls",
            "_view_module_version": "1.5.0",
            "_view_name": "ProgressView",
            "bar_style": "success",
            "description": "",
            "description_tooltip": null,
            "layout": "IPY_MODEL_e74dd68e17454d958e1a5af227c7d2a6",
            "max": 1113236958,
            "min": 0,
            "orientation": "horizontal",
            "style": "IPY_MODEL_99e5945734584cfaae69a26c553f078d",
            "value": 1113236958
          }
        },
        "c6d503b983644b8bba79ef884b25c8c3": {
          "model_module": "@jupyter-widgets/controls",
          "model_name": "HTMLModel",
          "model_module_version": "1.5.0",
          "state": {
            "_dom_classes": [],
            "_model_module": "@jupyter-widgets/controls",
            "_model_module_version": "1.5.0",
            "_model_name": "HTMLModel",
            "_view_count": null,
            "_view_module": "@jupyter-widgets/controls",
            "_view_module_version": "1.5.0",
            "_view_name": "HTMLView",
            "description": "",
            "description_tooltip": null,
            "layout": "IPY_MODEL_f964f21318aa45e28328fbc316584529",
            "placeholder": "​",
            "style": "IPY_MODEL_fe84560b96f447aa8a71d1a06e1dd062",
            "value": " 1.11G/1.11G [00:31&lt;00:00, 41.1MB/s]"
          }
        },
        "57f5a0f02f1e436a8c92f92790bab3ae": {
          "model_module": "@jupyter-widgets/base",
          "model_name": "LayoutModel",
          "model_module_version": "1.2.0",
          "state": {
            "_model_module": "@jupyter-widgets/base",
            "_model_module_version": "1.2.0",
            "_model_name": "LayoutModel",
            "_view_count": null,
            "_view_module": "@jupyter-widgets/base",
            "_view_module_version": "1.2.0",
            "_view_name": "LayoutView",
            "align_content": null,
            "align_items": null,
            "align_self": null,
            "border": null,
            "bottom": null,
            "display": null,
            "flex": null,
            "flex_flow": null,
            "grid_area": null,
            "grid_auto_columns": null,
            "grid_auto_flow": null,
            "grid_auto_rows": null,
            "grid_column": null,
            "grid_gap": null,
            "grid_row": null,
            "grid_template_areas": null,
            "grid_template_columns": null,
            "grid_template_rows": null,
            "height": null,
            "justify_content": null,
            "justify_items": null,
            "left": null,
            "margin": null,
            "max_height": null,
            "max_width": null,
            "min_height": null,
            "min_width": null,
            "object_fit": null,
            "object_position": null,
            "order": null,
            "overflow": null,
            "overflow_x": null,
            "overflow_y": null,
            "padding": null,
            "right": null,
            "top": null,
            "visibility": null,
            "width": null
          }
        },
        "088370d7df1b4b168fe6df3d274f9095": {
          "model_module": "@jupyter-widgets/base",
          "model_name": "LayoutModel",
          "model_module_version": "1.2.0",
          "state": {
            "_model_module": "@jupyter-widgets/base",
            "_model_module_version": "1.2.0",
            "_model_name": "LayoutModel",
            "_view_count": null,
            "_view_module": "@jupyter-widgets/base",
            "_view_module_version": "1.2.0",
            "_view_name": "LayoutView",
            "align_content": null,
            "align_items": null,
            "align_self": null,
            "border": null,
            "bottom": null,
            "display": null,
            "flex": null,
            "flex_flow": null,
            "grid_area": null,
            "grid_auto_columns": null,
            "grid_auto_flow": null,
            "grid_auto_rows": null,
            "grid_column": null,
            "grid_gap": null,
            "grid_row": null,
            "grid_template_areas": null,
            "grid_template_columns": null,
            "grid_template_rows": null,
            "height": null,
            "justify_content": null,
            "justify_items": null,
            "left": null,
            "margin": null,
            "max_height": null,
            "max_width": null,
            "min_height": null,
            "min_width": null,
            "object_fit": null,
            "object_position": null,
            "order": null,
            "overflow": null,
            "overflow_x": null,
            "overflow_y": null,
            "padding": null,
            "right": null,
            "top": null,
            "visibility": null,
            "width": null
          }
        },
        "2859f9b53f094a9fbb58c23fd3df8ae6": {
          "model_module": "@jupyter-widgets/controls",
          "model_name": "DescriptionStyleModel",
          "model_module_version": "1.5.0",
          "state": {
            "_model_module": "@jupyter-widgets/controls",
            "_model_module_version": "1.5.0",
            "_model_name": "DescriptionStyleModel",
            "_view_count": null,
            "_view_module": "@jupyter-widgets/base",
            "_view_module_version": "1.2.0",
            "_view_name": "StyleView",
            "description_width": ""
          }
        },
        "e74dd68e17454d958e1a5af227c7d2a6": {
          "model_module": "@jupyter-widgets/base",
          "model_name": "LayoutModel",
          "model_module_version": "1.2.0",
          "state": {
            "_model_module": "@jupyter-widgets/base",
            "_model_module_version": "1.2.0",
            "_model_name": "LayoutModel",
            "_view_count": null,
            "_view_module": "@jupyter-widgets/base",
            "_view_module_version": "1.2.0",
            "_view_name": "LayoutView",
            "align_content": null,
            "align_items": null,
            "align_self": null,
            "border": null,
            "bottom": null,
            "display": null,
            "flex": null,
            "flex_flow": null,
            "grid_area": null,
            "grid_auto_columns": null,
            "grid_auto_flow": null,
            "grid_auto_rows": null,
            "grid_column": null,
            "grid_gap": null,
            "grid_row": null,
            "grid_template_areas": null,
            "grid_template_columns": null,
            "grid_template_rows": null,
            "height": null,
            "justify_content": null,
            "justify_items": null,
            "left": null,
            "margin": null,
            "max_height": null,
            "max_width": null,
            "min_height": null,
            "min_width": null,
            "object_fit": null,
            "object_position": null,
            "order": null,
            "overflow": null,
            "overflow_x": null,
            "overflow_y": null,
            "padding": null,
            "right": null,
            "top": null,
            "visibility": null,
            "width": null
          }
        },
        "99e5945734584cfaae69a26c553f078d": {
          "model_module": "@jupyter-widgets/controls",
          "model_name": "ProgressStyleModel",
          "model_module_version": "1.5.0",
          "state": {
            "_model_module": "@jupyter-widgets/controls",
            "_model_module_version": "1.5.0",
            "_model_name": "ProgressStyleModel",
            "_view_count": null,
            "_view_module": "@jupyter-widgets/base",
            "_view_module_version": "1.2.0",
            "_view_name": "StyleView",
            "bar_color": null,
            "description_width": ""
          }
        },
        "f964f21318aa45e28328fbc316584529": {
          "model_module": "@jupyter-widgets/base",
          "model_name": "LayoutModel",
          "model_module_version": "1.2.0",
          "state": {
            "_model_module": "@jupyter-widgets/base",
            "_model_module_version": "1.2.0",
            "_model_name": "LayoutModel",
            "_view_count": null,
            "_view_module": "@jupyter-widgets/base",
            "_view_module_version": "1.2.0",
            "_view_name": "LayoutView",
            "align_content": null,
            "align_items": null,
            "align_self": null,
            "border": null,
            "bottom": null,
            "display": null,
            "flex": null,
            "flex_flow": null,
            "grid_area": null,
            "grid_auto_columns": null,
            "grid_auto_flow": null,
            "grid_auto_rows": null,
            "grid_column": null,
            "grid_gap": null,
            "grid_row": null,
            "grid_template_areas": null,
            "grid_template_columns": null,
            "grid_template_rows": null,
            "height": null,
            "justify_content": null,
            "justify_items": null,
            "left": null,
            "margin": null,
            "max_height": null,
            "max_width": null,
            "min_height": null,
            "min_width": null,
            "object_fit": null,
            "object_position": null,
            "order": null,
            "overflow": null,
            "overflow_x": null,
            "overflow_y": null,
            "padding": null,
            "right": null,
            "top": null,
            "visibility": null,
            "width": null
          }
        },
        "fe84560b96f447aa8a71d1a06e1dd062": {
          "model_module": "@jupyter-widgets/controls",
          "model_name": "DescriptionStyleModel",
          "model_module_version": "1.5.0",
          "state": {
            "_model_module": "@jupyter-widgets/controls",
            "_model_module_version": "1.5.0",
            "_model_name": "DescriptionStyleModel",
            "_view_count": null,
            "_view_module": "@jupyter-widgets/base",
            "_view_module_version": "1.2.0",
            "_view_name": "StyleView",
            "description_width": ""
          }
        }
      }
    }
  },
  "cells": [
    {
      "cell_type": "markdown",
      "source": [
        "# Imports"
      ],
      "metadata": {
        "id": "ncfyuncDwoxv"
      }
    },
    {
      "cell_type": "code",
      "source": [
        "!pip install transformers\n",
        "!pip install emoji\n",
        "!pip install sentencepiece\n",
        "!pip install datasets\n",
        "!pip install transformers"
      ],
      "metadata": {
        "id": "AERHrOphGHdH",
        "colab": {
          "base_uri": "https://localhost:8080/",
          "height": 1000
        },
        "outputId": "db5e547c-f836-4ba1-880f-7cdcbf76a327"
      },
      "execution_count": null,
      "outputs": [
        {
          "output_type": "stream",
          "name": "stdout",
          "text": [
            "Looking in indexes: https://pypi.org/simple, https://us-python.pkg.dev/colab-wheels/public/simple/\n",
            "Collecting transformers\n",
            "  Downloading transformers-4.26.0-py3-none-any.whl (6.3 MB)\n",
            "\u001b[2K     \u001b[90m━━━━━━━━━━━━━━━━━━━━━━━━━━━━━━━━━━━━━━━━\u001b[0m \u001b[32m6.3/6.3 MB\u001b[0m \u001b[31m58.5 MB/s\u001b[0m eta \u001b[36m0:00:00\u001b[0m\n",
            "\u001b[?25hRequirement already satisfied: pyyaml>=5.1 in /usr/local/lib/python3.8/dist-packages (from transformers) (6.0)\n",
            "Requirement already satisfied: filelock in /usr/local/lib/python3.8/dist-packages (from transformers) (3.9.0)\n",
            "Requirement already satisfied: packaging>=20.0 in /usr/local/lib/python3.8/dist-packages (from transformers) (21.3)\n",
            "Requirement already satisfied: tqdm>=4.27 in /usr/local/lib/python3.8/dist-packages (from transformers) (4.64.1)\n",
            "Requirement already satisfied: regex!=2019.12.17 in /usr/local/lib/python3.8/dist-packages (from transformers) (2022.6.2)\n",
            "Collecting huggingface-hub<1.0,>=0.11.0\n",
            "  Downloading huggingface_hub-0.12.0-py3-none-any.whl (190 kB)\n",
            "\u001b[2K     \u001b[90m━━━━━━━━━━━━━━━━━━━━━━━━━━━━━━━━━━━━━━\u001b[0m \u001b[32m190.3/190.3 KB\u001b[0m \u001b[31m26.3 MB/s\u001b[0m eta \u001b[36m0:00:00\u001b[0m\n",
            "\u001b[?25hRequirement already satisfied: requests in /usr/local/lib/python3.8/dist-packages (from transformers) (2.25.1)\n",
            "Requirement already satisfied: numpy>=1.17 in /usr/local/lib/python3.8/dist-packages (from transformers) (1.21.6)\n",
            "Collecting tokenizers!=0.11.3,<0.14,>=0.11.1\n",
            "  Downloading tokenizers-0.13.2-cp38-cp38-manylinux_2_17_x86_64.manylinux2014_x86_64.whl (7.6 MB)\n",
            "\u001b[2K     \u001b[90m━━━━━━━━━━━━━━━━━━━━━━━━━━━━━━━━━━━━━━━━\u001b[0m \u001b[32m7.6/7.6 MB\u001b[0m \u001b[31m79.4 MB/s\u001b[0m eta \u001b[36m0:00:00\u001b[0m\n",
            "\u001b[?25hRequirement already satisfied: typing-extensions>=3.7.4.3 in /usr/local/lib/python3.8/dist-packages (from huggingface-hub<1.0,>=0.11.0->transformers) (4.4.0)\n",
            "Requirement already satisfied: pyparsing!=3.0.5,>=2.0.2 in /usr/local/lib/python3.8/dist-packages (from packaging>=20.0->transformers) (3.0.9)\n",
            "Requirement already satisfied: urllib3<1.27,>=1.21.1 in /usr/local/lib/python3.8/dist-packages (from requests->transformers) (1.24.3)\n",
            "Requirement already satisfied: certifi>=2017.4.17 in /usr/local/lib/python3.8/dist-packages (from requests->transformers) (2022.12.7)\n",
            "Requirement already satisfied: idna<3,>=2.5 in /usr/local/lib/python3.8/dist-packages (from requests->transformers) (2.10)\n",
            "Requirement already satisfied: chardet<5,>=3.0.2 in /usr/local/lib/python3.8/dist-packages (from requests->transformers) (4.0.0)\n",
            "Installing collected packages: tokenizers, huggingface-hub, transformers\n",
            "Successfully installed huggingface-hub-0.12.0 tokenizers-0.13.2 transformers-4.26.0\n",
            "Looking in indexes: https://pypi.org/simple, https://us-python.pkg.dev/colab-wheels/public/simple/\n",
            "Collecting emoji\n",
            "  Downloading emoji-2.2.0.tar.gz (240 kB)\n",
            "\u001b[2K     \u001b[90m━━━━━━━━━━━━━━━━━━━━━━━━━━━━━━━━━━━━━━\u001b[0m \u001b[32m240.9/240.9 KB\u001b[0m \u001b[31m19.0 MB/s\u001b[0m eta \u001b[36m0:00:00\u001b[0m\n",
            "\u001b[?25h  Preparing metadata (setup.py) ... \u001b[?25l\u001b[?25hdone\n",
            "Building wheels for collected packages: emoji\n",
            "  Building wheel for emoji (setup.py) ... \u001b[?25l\u001b[?25hdone\n",
            "  Created wheel for emoji: filename=emoji-2.2.0-py3-none-any.whl size=234926 sha256=2a43f6813baa18a012711d241017a5450f39c2c565c26b0d61bfbd3f90aaa414\n",
            "  Stored in directory: /root/.cache/pip/wheels/86/62/9e/a6b27a681abcde69970dbc0326ff51955f3beac72f15696984\n",
            "Successfully built emoji\n",
            "Installing collected packages: emoji\n",
            "Successfully installed emoji-2.2.0\n",
            "Looking in indexes: https://pypi.org/simple, https://us-python.pkg.dev/colab-wheels/public/simple/\n",
            "Collecting sentencepiece\n",
            "  Downloading sentencepiece-0.1.97-cp38-cp38-manylinux_2_17_x86_64.manylinux2014_x86_64.whl (1.3 MB)\n",
            "\u001b[2K     \u001b[90m━━━━━━━━━━━━━━━━━━━━━━━━━━━━━━━━━━━━━━━━\u001b[0m \u001b[32m1.3/1.3 MB\u001b[0m \u001b[31m61.6 MB/s\u001b[0m eta \u001b[36m0:00:00\u001b[0m\n",
            "\u001b[?25hInstalling collected packages: sentencepiece\n",
            "Successfully installed sentencepiece-0.1.97\n",
            "Looking in indexes: https://pypi.org/simple, https://us-python.pkg.dev/colab-wheels/public/simple/\n",
            "Collecting datasets\n",
            "  Downloading datasets-2.9.0-py3-none-any.whl (462 kB)\n",
            "\u001b[2K     \u001b[90m━━━━━━━━━━━━━━━━━━━━━━━━━━━━━━━━━━━━━━\u001b[0m \u001b[32m462.8/462.8 KB\u001b[0m \u001b[31m25.7 MB/s\u001b[0m eta \u001b[36m0:00:00\u001b[0m\n",
            "\u001b[?25hRequirement already satisfied: numpy>=1.17 in /usr/local/lib/python3.8/dist-packages (from datasets) (1.21.6)\n",
            "Requirement already satisfied: pandas in /usr/local/lib/python3.8/dist-packages (from datasets) (1.3.5)\n",
            "Requirement already satisfied: packaging in /usr/local/lib/python3.8/dist-packages (from datasets) (21.3)\n",
            "Requirement already satisfied: tqdm>=4.62.1 in /usr/local/lib/python3.8/dist-packages (from datasets) (4.64.1)\n",
            "Requirement already satisfied: huggingface-hub<1.0.0,>=0.2.0 in /usr/local/lib/python3.8/dist-packages (from datasets) (0.12.0)\n",
            "Collecting responses<0.19\n",
            "  Downloading responses-0.18.0-py3-none-any.whl (38 kB)\n",
            "Requirement already satisfied: dill<0.3.7 in /usr/local/lib/python3.8/dist-packages (from datasets) (0.3.6)\n",
            "Requirement already satisfied: pyyaml>=5.1 in /usr/local/lib/python3.8/dist-packages (from datasets) (6.0)\n",
            "Requirement already satisfied: requests>=2.19.0 in /usr/local/lib/python3.8/dist-packages (from datasets) (2.25.1)\n",
            "Collecting multiprocess\n",
            "  Downloading multiprocess-0.70.14-py38-none-any.whl (132 kB)\n",
            "\u001b[2K     \u001b[90m━━━━━━━━━━━━━━━━━━━━━━━━━━━━━━━━━━━━━━\u001b[0m \u001b[32m132.0/132.0 KB\u001b[0m \u001b[31m18.6 MB/s\u001b[0m eta \u001b[36m0:00:00\u001b[0m\n",
            "\u001b[?25hRequirement already satisfied: pyarrow>=6.0.0 in /usr/local/lib/python3.8/dist-packages (from datasets) (9.0.0)\n",
            "Collecting xxhash\n",
            "  Downloading xxhash-3.2.0-cp38-cp38-manylinux_2_17_x86_64.manylinux2014_x86_64.whl (213 kB)\n",
            "\u001b[2K     \u001b[90m━━━━━━━━━━━━━━━━━━━━━━━━━━━━━━━━━━━━━━\u001b[0m \u001b[32m213.0/213.0 KB\u001b[0m \u001b[31m29.5 MB/s\u001b[0m eta \u001b[36m0:00:00\u001b[0m\n",
            "\u001b[?25hRequirement already satisfied: aiohttp in /usr/local/lib/python3.8/dist-packages (from datasets) (3.8.3)\n",
            "Requirement already satisfied: fsspec[http]>=2021.11.1 in /usr/local/lib/python3.8/dist-packages (from datasets) (2022.11.0)\n",
            "Requirement already satisfied: attrs>=17.3.0 in /usr/local/lib/python3.8/dist-packages (from aiohttp->datasets) (22.2.0)\n",
            "Requirement already satisfied: yarl<2.0,>=1.0 in /usr/local/lib/python3.8/dist-packages (from aiohttp->datasets) (1.8.2)\n",
            "Requirement already satisfied: charset-normalizer<3.0,>=2.0 in /usr/local/lib/python3.8/dist-packages (from aiohttp->datasets) (2.1.1)\n",
            "Requirement already satisfied: aiosignal>=1.1.2 in /usr/local/lib/python3.8/dist-packages (from aiohttp->datasets) (1.3.1)\n",
            "Requirement already satisfied: async-timeout<5.0,>=4.0.0a3 in /usr/local/lib/python3.8/dist-packages (from aiohttp->datasets) (4.0.2)\n",
            "Requirement already satisfied: frozenlist>=1.1.1 in /usr/local/lib/python3.8/dist-packages (from aiohttp->datasets) (1.3.3)\n",
            "Requirement already satisfied: multidict<7.0,>=4.5 in /usr/local/lib/python3.8/dist-packages (from aiohttp->datasets) (6.0.4)\n",
            "Requirement already satisfied: typing-extensions>=3.7.4.3 in /usr/local/lib/python3.8/dist-packages (from huggingface-hub<1.0.0,>=0.2.0->datasets) (4.4.0)\n",
            "Requirement already satisfied: filelock in /usr/local/lib/python3.8/dist-packages (from huggingface-hub<1.0.0,>=0.2.0->datasets) (3.9.0)\n",
            "Requirement already satisfied: pyparsing!=3.0.5,>=2.0.2 in /usr/local/lib/python3.8/dist-packages (from packaging->datasets) (3.0.9)\n",
            "Requirement already satisfied: urllib3<1.27,>=1.21.1 in /usr/local/lib/python3.8/dist-packages (from requests>=2.19.0->datasets) (1.24.3)\n",
            "Requirement already satisfied: idna<3,>=2.5 in /usr/local/lib/python3.8/dist-packages (from requests>=2.19.0->datasets) (2.10)\n",
            "Requirement already satisfied: chardet<5,>=3.0.2 in /usr/local/lib/python3.8/dist-packages (from requests>=2.19.0->datasets) (4.0.0)\n",
            "Requirement already satisfied: certifi>=2017.4.17 in /usr/local/lib/python3.8/dist-packages (from requests>=2.19.0->datasets) (2022.12.7)\n",
            "Collecting urllib3<1.27,>=1.21.1\n",
            "  Downloading urllib3-1.26.14-py2.py3-none-any.whl (140 kB)\n",
            "\u001b[2K     \u001b[90m━━━━━━━━━━━━━━━━━━━━━━━━━━━━━━━━━━━━━━\u001b[0m \u001b[32m140.6/140.6 KB\u001b[0m \u001b[31m17.4 MB/s\u001b[0m eta \u001b[36m0:00:00\u001b[0m\n",
            "\u001b[?25hRequirement already satisfied: python-dateutil>=2.7.3 in /usr/local/lib/python3.8/dist-packages (from pandas->datasets) (2.8.2)\n",
            "Requirement already satisfied: pytz>=2017.3 in /usr/local/lib/python3.8/dist-packages (from pandas->datasets) (2022.7)\n",
            "Requirement already satisfied: six>=1.5 in /usr/local/lib/python3.8/dist-packages (from python-dateutil>=2.7.3->pandas->datasets) (1.15.0)\n",
            "Installing collected packages: xxhash, urllib3, multiprocess, responses, datasets\n",
            "  Attempting uninstall: urllib3\n",
            "    Found existing installation: urllib3 1.24.3\n",
            "    Uninstalling urllib3-1.24.3:\n",
            "      Successfully uninstalled urllib3-1.24.3\n",
            "Successfully installed datasets-2.9.0 multiprocess-0.70.14 responses-0.18.0 urllib3-1.26.14 xxhash-3.2.0\n"
          ]
        },
        {
          "output_type": "display_data",
          "data": {
            "application/vnd.colab-display-data+json": {
              "pip_warning": {
                "packages": [
                  "urllib3"
                ]
              }
            }
          },
          "metadata": {}
        },
        {
          "output_type": "stream",
          "name": "stdout",
          "text": [
            "Looking in indexes: https://pypi.org/simple, https://us-python.pkg.dev/colab-wheels/public/simple/\n",
            "Requirement already satisfied: transformers in /usr/local/lib/python3.8/dist-packages (4.26.0)\n",
            "Requirement already satisfied: numpy>=1.17 in /usr/local/lib/python3.8/dist-packages (from transformers) (1.21.6)\n",
            "Requirement already satisfied: huggingface-hub<1.0,>=0.11.0 in /usr/local/lib/python3.8/dist-packages (from transformers) (0.12.0)\n",
            "Requirement already satisfied: regex!=2019.12.17 in /usr/local/lib/python3.8/dist-packages (from transformers) (2022.6.2)\n",
            "Requirement already satisfied: tqdm>=4.27 in /usr/local/lib/python3.8/dist-packages (from transformers) (4.64.1)\n",
            "Requirement already satisfied: packaging>=20.0 in /usr/local/lib/python3.8/dist-packages (from transformers) (21.3)\n",
            "Requirement already satisfied: tokenizers!=0.11.3,<0.14,>=0.11.1 in /usr/local/lib/python3.8/dist-packages (from transformers) (0.13.2)\n",
            "Requirement already satisfied: pyyaml>=5.1 in /usr/local/lib/python3.8/dist-packages (from transformers) (6.0)\n",
            "Requirement already satisfied: requests in /usr/local/lib/python3.8/dist-packages (from transformers) (2.25.1)\n",
            "Requirement already satisfied: filelock in /usr/local/lib/python3.8/dist-packages (from transformers) (3.9.0)\n",
            "Requirement already satisfied: typing-extensions>=3.7.4.3 in /usr/local/lib/python3.8/dist-packages (from huggingface-hub<1.0,>=0.11.0->transformers) (4.4.0)\n",
            "Requirement already satisfied: pyparsing!=3.0.5,>=2.0.2 in /usr/local/lib/python3.8/dist-packages (from packaging>=20.0->transformers) (3.0.9)\n",
            "Requirement already satisfied: urllib3<1.27,>=1.21.1 in /usr/local/lib/python3.8/dist-packages (from requests->transformers) (1.26.14)\n",
            "Requirement already satisfied: certifi>=2017.4.17 in /usr/local/lib/python3.8/dist-packages (from requests->transformers) (2022.12.7)\n",
            "Requirement already satisfied: idna<3,>=2.5 in /usr/local/lib/python3.8/dist-packages (from requests->transformers) (2.10)\n",
            "Requirement already satisfied: chardet<5,>=3.0.2 in /usr/local/lib/python3.8/dist-packages (from requests->transformers) (4.0.0)\n"
          ]
        }
      ]
    },
    {
      "cell_type": "code",
      "source": [
        "import numpy as np\n",
        "import pandas as pd\n",
        "from torch.utils.data import Dataset, DataLoader\n",
        "from torchvision import transforms, utils\n",
        "import plotly.express as px\n",
        "import torch\n",
        "from transformers import BertTokenizer\n",
        "from torch import nn\n",
        "from transformers import BertModel\n",
        "from torch.optim import Adam\n",
        "from tqdm import tqdm\n",
        "# from tqdm.auto import tqdm\n",
        "from sklearn.model_selection import train_test_split\n",
        "from sklearn.preprocessing import MinMaxScaler\n",
        "import emoji\n",
        "from transformers import AutoModelForSequenceClassification, Trainer, TrainingArguments, AutoTokenizer, AutoModel, AutoConfig\n",
        "from sklearn.metrics import classification_report\n",
        "from transformers.modeling_outputs import TokenClassifierOutput, SequenceClassifierOutput\n",
        "from transformers import AdamW, get_scheduler\n",
        "from datasets import load_metric, Dataset\n",
        "from statistics import mean"
      ],
      "metadata": {
        "id": "_GIr10eHwmQ4"
      },
      "execution_count": null,
      "outputs": []
    },
    {
      "cell_type": "markdown",
      "source": [
        "# Mounting Drive for Reading Data"
      ],
      "metadata": {
        "id": "aoKnGMvyu6sp"
      }
    },
    {
      "cell_type": "code",
      "execution_count": null,
      "metadata": {
        "colab": {
          "base_uri": "https://localhost:8080/"
        },
        "id": "kJjAMPNctlfg",
        "outputId": "12a3c888-64f5-4be3-c00f-db374bd91dfc"
      },
      "outputs": [
        {
          "output_type": "stream",
          "name": "stdout",
          "text": [
            "Mounted at /content/drive\n"
          ]
        }
      ],
      "source": [
        "from google.colab import drive\n",
        "drive.mount('/content/drive')"
      ]
    },
    {
      "cell_type": "code",
      "source": [
        "cd 'drive/MyDrive/NLP_Project'"
      ],
      "metadata": {
        "colab": {
          "base_uri": "https://localhost:8080/"
        },
        "id": "PPjgmd2yu1ty",
        "outputId": "4833e5f0-6ee6-4556-f3c9-216bfbbf9c76"
      },
      "execution_count": null,
      "outputs": [
        {
          "output_type": "stream",
          "name": "stdout",
          "text": [
            "/content/drive/MyDrive/NLP_Project\n"
          ]
        }
      ]
    },
    {
      "cell_type": "markdown",
      "source": [
        "# utils"
      ],
      "metadata": {
        "id": "y37V0aPZZ6vQ"
      }
    },
    {
      "cell_type": "code",
      "source": [
        "def read_data(file_path = \"train.csv\"):\n",
        "  df = pd.read_csv(file_path)\n",
        "  df['len'] = df['text'].apply(lambda x: len(x))\n",
        "  df['label'] = df['label'].astype('float32')\n",
        "#   df['normalized_label'] = df['label'].apply(lambda x: (x-1)/5)\n",
        "  return df\n",
        "\n",
        "def filter_tweet_language(df, language = \"English\"):\n",
        "  return df[df['language']==language]\n",
        "\n",
        "def filter_tweet_intimacy(df, lower_bound = 1, upper_bound = 5):\n",
        "  return df.loc[(df['label'] >= lower_bound) & (df['label'] <= upper_bound)]\n",
        "\n",
        "def train_val_test_split(df, train_portion = 0.8, val_portion = 0.1, test_portion = 0.1):\n",
        "    df_train, df_val, df_test, _ = np.split(df.sample(frac=1, random_state=42), [int(train_portion * len(df)), int((train_portion + val_portion) * len(df)), int((train_portion + val_portion + test_portion) * len(df))])\n",
        "    return df_train, df_val, df_test\n",
        "\n",
        "def extract_emojis(df):\n",
        "    emojis_list = list()\n",
        "    for s in df['text']:\n",
        "        emojis_in_text = emoji.distinct_emoji_list(s)\n",
        "        if len(emojis_in_text)>0:\n",
        "            emojis_list.extend(emojis_in_text)\n",
        "    return list(set(emojis_list))"
      ],
      "metadata": {
        "id": "pWUL9DmuZ8Oa"
      },
      "execution_count": null,
      "outputs": []
    },
    {
      "cell_type": "markdown",
      "source": [
        "# HuggingFace Models"
      ],
      "metadata": {
        "id": "JnbTO5GX4j_p"
      }
    },
    {
      "cell_type": "markdown",
      "source": [
        "## hyperparameters"
      ],
      "metadata": {
        "id": "Od3SAtJX3354"
      }
    },
    {
      "cell_type": "code",
      "source": [
        "EPOCHS = 5\n",
        "BATCH_SIZE = 32\n",
        "PATH_TO_SAVE = \"./checkpoint\""
      ],
      "metadata": {
        "id": "ct3-Qocy370h"
      },
      "execution_count": null,
      "outputs": []
    },
    {
      "cell_type": "markdown",
      "source": [
        "## creating dataset"
      ],
      "metadata": {
        "id": "d4TvPVrH5B1L"
      }
    },
    {
      "cell_type": "code",
      "source": [
        "class RegressionIntimacyDataset(Dataset):\n",
        "    def __init__(self, df, tokenizer):\n",
        "        self.all_data = df\n",
        "        self.tokenizer = tokenizer\n",
        "        \n",
        "        # tokenized texts of our dataset\n",
        "        self.texts = [self.tokenizer(text, padding='max_length', max_length = 512, truncation=True, return_tensors=\"pt\") \n",
        "                                for text in self.all_data['text']]\n",
        "\n",
        "        # intimacy scores\n",
        "        scaler = MinMaxScaler()\n",
        "        self.labels = scaler.fit_transform(self.all_data['label'].to_numpy().reshape(-1, 1))\n",
        "    \n",
        "    def classes(self,):\n",
        "        return self.labels\n",
        "    \n",
        "    def __len__(self):\n",
        "        return len(self.labels)\n",
        "    \n",
        "    def get_batch_texts(self, idx):\n",
        "        # Fetch a batch of inputs\n",
        "        return self.texts[idx]\n",
        "    \n",
        "    def get_batch_labels(self, idx):\n",
        "        # Fetch a batch of labels\n",
        "        return np.array(self.labels[idx])\n",
        "    \n",
        "    def get_max_setntence_len(self):\n",
        "        # get length of longest sentence in our dataset\n",
        "        return max(self.all_data['len'])\n",
        "    \n",
        "    def __getitem__(self, idx):\n",
        "        batch_texts = self.get_batch_texts(idx)\n",
        "        batch_labels = self.get_batch_labels(idx)\n",
        "        \n",
        "        return batch_texts, batch_labels\n",
        "\n",
        "\n"
      ],
      "metadata": {
        "id": "rpbZbbNU4jMP"
      },
      "execution_count": null,
      "outputs": []
    },
    {
      "cell_type": "code",
      "source": [
        "MODEL = \"cardiffnlp/twitter-xlm-roberta-base\""
      ],
      "metadata": {
        "id": "iSaK5OTfAx67"
      },
      "execution_count": null,
      "outputs": []
    },
    {
      "cell_type": "code",
      "source": [
        "# tokenizer for tokenization of texts\n",
        "# bert_base_uncased_tokenizer = BertTokenizer.from_pretrained('bert-base-uncased')  # cased or uncased?\n",
        "xlmt_tokenizer = AutoTokenizer.from_pretrained(MODEL, use_fast=True)\n"
      ],
      "metadata": {
        "id": "Y0jU1hMT596h",
        "colab": {
          "base_uri": "https://localhost:8080/",
          "height": 197,
          "referenced_widgets": [
            "22843ff373824125918c55c67605805c",
            "73700a59b43e4de493aa0003766ce7d0",
            "ccbaab8ddc1348d88b8fad85cb9f4dda",
            "78f78a78a00e493eb55874ddb438ad24",
            "14b49d9b33974d64a32eb32d76e9318f",
            "1c2884f4d3254ed48c837d1236b3af48",
            "15446b2342cd47fabc44754cd8c4a03d",
            "1d415a03d2124d2493e99c112ce39935",
            "794af1fbefe0422abec974959e249cdc",
            "7ff9f00dace04e87b2ea9047e2ed180d",
            "e81bde08660f4f6eb308e1862edcda63",
            "c8c29d408d3646e9a0aa9431f9ebde41",
            "d286844ac9154a669ea3fb6365feba9a",
            "1bc5107ec1274a3c8762fd7014bad8c2",
            "b5ccf036e92545bc8c6f6700c060f58c",
            "3518c522eb6442af83bb355ef7e2250e",
            "82b8151db7ae43feb685243d4a0acf7b",
            "0997896cd3144df39c0836f2afae247f",
            "f3d0b4dd11064a32ac5e6b51bb05c36b",
            "f526181687b24321a8d19a9bf3d4fe14",
            "0298701146684e0c92972b72e9589f1f",
            "c5ab031c825f4666b125fe30f44b0e10",
            "1855551312a94a64977adb46a053a52d",
            "1dfa13f063f340d98a1f043b0e15c0a7",
            "4cacc821e3d6400b9c7fdd4a9eca3e1b",
            "be446875ea8e40b3bff69fb2025c6499",
            "ca205140b97d4639953ab749c8120f43",
            "fd7168cbaa624b0485a9e4f48b7d9e94",
            "9ba9c02ff9f84e62919476bce0d93139",
            "83bc2fd6001245c6bcf7b354130f0384",
            "44b6de8230c14e9d9edcb0b5cb845a1a",
            "b134bc2bdeb948118c96183076a637d4",
            "e5d8ad3beb304c6db8a025871c956bd6"
          ]
        },
        "outputId": "28736dd0-3f8f-4fe8-b81e-762f6ed89ce8"
      },
      "execution_count": null,
      "outputs": [
        {
          "output_type": "display_data",
          "data": {
            "text/plain": [
              "Downloading (…)lve/main/config.json:   0%|          | 0.00/652 [00:00<?, ?B/s]"
            ],
            "application/vnd.jupyter.widget-view+json": {
              "version_major": 2,
              "version_minor": 0,
              "model_id": "22843ff373824125918c55c67605805c"
            }
          },
          "metadata": {}
        },
        {
          "output_type": "display_data",
          "data": {
            "text/plain": [
              "Downloading (…)ncepiece.bpe.model\";:   0%|          | 0.00/5.07M [00:00<?, ?B/s]"
            ],
            "application/vnd.jupyter.widget-view+json": {
              "version_major": 2,
              "version_minor": 0,
              "model_id": "c8c29d408d3646e9a0aa9431f9ebde41"
            }
          },
          "metadata": {}
        },
        {
          "output_type": "display_data",
          "data": {
            "text/plain": [
              "Downloading (…)/main/tokenizer.json:   0%|          | 0.00/9.10M [00:00<?, ?B/s]"
            ],
            "application/vnd.jupyter.widget-view+json": {
              "version_major": 2,
              "version_minor": 0,
              "model_id": "1855551312a94a64977adb46a053a52d"
            }
          },
          "metadata": {}
        }
      ]
    },
    {
      "cell_type": "code",
      "source": [
        "df = read_data()\n",
        "intim_dataset = RegressionIntimacyDataset(df, xlmt_tokenizer)\n",
        "print(len(intim_dataset.labels))"
      ],
      "metadata": {
        "colab": {
          "base_uri": "https://localhost:8080/"
        },
        "id": "N0ARPx006O90",
        "outputId": "16cefaff-a1c6-4fba-c2fc-81ec6659c07f"
      },
      "execution_count": null,
      "outputs": [
        {
          "output_type": "stream",
          "name": "stdout",
          "text": [
            "9491\n"
          ]
        }
      ]
    },
    {
      "cell_type": "code",
      "source": [
        "df['label']"
      ],
      "metadata": {
        "colab": {
          "base_uri": "https://localhost:8080/"
        },
        "id": "643xHKa4jvvc",
        "outputId": "c70a7e6e-a80d-44cb-be65-262f412c83a6"
      },
      "execution_count": null,
      "outputs": [
        {
          "output_type": "execute_result",
          "data": {
            "text/plain": [
              "0       1.8\n",
              "1       1.0\n",
              "2       1.0\n",
              "3       1.6\n",
              "4       1.6\n",
              "       ... \n",
              "9486    1.0\n",
              "9487    2.0\n",
              "9488    3.8\n",
              "9489    1.8\n",
              "9490    1.6\n",
              "Name: label, Length: 9491, dtype: float32"
            ]
          },
          "metadata": {},
          "execution_count": 9
        }
      ]
    },
    {
      "cell_type": "markdown",
      "source": [
        "## model definition"
      ],
      "metadata": {
        "id": "tWHRgZJc-FHu"
      }
    },
    {
      "cell_type": "code",
      "source": [
        "xlmt_model = AutoModel.from_pretrained(\"cardiffnlp/twitter-xlm-roberta-base\")"
      ],
      "metadata": {
        "colab": {
          "base_uri": "https://localhost:8080/",
          "height": 244,
          "referenced_widgets": [
            "8cd8f10ed0484c28991f50977520121e",
            "953aeebf06614d72a061d74044826cce",
            "a18002c870d644a5a3ce9060c355cd32",
            "7543f3fdbe96423d9d0f9d998d9ac3a4",
            "34c30765b2c54cafb8c3602f8efe5735",
            "e27e04705574454ca7d15a354975f474",
            "ca04be225b754345bce2b40df0319278",
            "1748d2a2fad746d0822410616cedb07c",
            "daa4529a2d854f7b856aee8d09a5dbd0",
            "5baad7ef13744feab0fc50d4c0f9571f",
            "221ea285a7914e81905d3e82a690774a",
            "787aaa22cbc8454a977f4ed9b2f7895f",
            "07635b1987c749c2bebe3b239584bc5e",
            "7c61974ba7fc45819a832fb6d3573ec7",
            "6f08183ca54a4c2fb0aad2d906f0202e",
            "fab52dd8de3a4d198c3c5373da38e693",
            "6bdf483f11d040b5954d65f18915a0cb",
            "d63b14cd920b4ec28cf146c0b334751e",
            "40d8bb2ec0984c7cba9292fd4cb98d6c",
            "b05a948a46e74f9f927d8dd7ac69a563",
            "f93d9622e71742c3b24b40658f92b2bb",
            "233f7c79337940c09029f5ca09b5b303"
          ]
        },
        "id": "s-eU8BgzqaFb",
        "outputId": "0e302949-785b-40cd-f778-34349857a2c8"
      },
      "execution_count": null,
      "outputs": [
        {
          "output_type": "display_data",
          "data": {
            "text/plain": [
              "Downloading (…)lve/main/config.json:   0%|          | 0.00/652 [00:00<?, ?B/s]"
            ],
            "application/vnd.jupyter.widget-view+json": {
              "version_major": 2,
              "version_minor": 0,
              "model_id": "8cd8f10ed0484c28991f50977520121e"
            }
          },
          "metadata": {}
        },
        {
          "output_type": "display_data",
          "data": {
            "text/plain": [
              "Downloading (…)\"pytorch_model.bin\";:   0%|          | 0.00/1.11G [00:00<?, ?B/s]"
            ],
            "application/vnd.jupyter.widget-view+json": {
              "version_major": 2,
              "version_minor": 0,
              "model_id": "787aaa22cbc8454a977f4ed9b2f7895f"
            }
          },
          "metadata": {}
        },
        {
          "output_type": "stream",
          "name": "stderr",
          "text": [
            "Some weights of the model checkpoint at cardiffnlp/twitter-xlm-roberta-base were not used when initializing XLMRobertaModel: ['lm_head.decoder.weight', 'lm_head.dense.bias', 'lm_head.dense.weight', 'lm_head.decoder.bias', 'lm_head.layer_norm.weight', 'lm_head.bias', 'lm_head.layer_norm.bias']\n",
            "- This IS expected if you are initializing XLMRobertaModel from the checkpoint of a model trained on another task or with another architecture (e.g. initializing a BertForSequenceClassification model from a BertForPreTraining model).\n",
            "- This IS NOT expected if you are initializing XLMRobertaModel from the checkpoint of a model that you expect to be exactly identical (initializing a BertForSequenceClassification model from a BertForSequenceClassification model).\n",
            "Some weights of XLMRobertaModel were not initialized from the model checkpoint at cardiffnlp/twitter-xlm-roberta-base and are newly initialized: ['roberta.pooler.dense.weight', 'roberta.pooler.dense.bias']\n",
            "You should probably TRAIN this model on a down-stream task to be able to use it for predictions and inference.\n"
          ]
        }
      ]
    },
    {
      "cell_type": "code",
      "source": [
        "for name, param in xlmt_model.named_parameters():\n",
        "    param.requires_grad = False\n",
        "    if name == 'pooler.dense.weight' or name == 'pooler.dense.bias':\n",
        "        param.requires_grad = True\n",
        "    print(name, param.requires_grad)"
      ],
      "metadata": {
        "id": "QTGgO0wtRqOi",
        "colab": {
          "base_uri": "https://localhost:8080/"
        },
        "outputId": "5f5af74f-4492-4184-9515-94590c660cd4"
      },
      "execution_count": null,
      "outputs": [
        {
          "output_type": "stream",
          "name": "stdout",
          "text": [
            "embeddings.word_embeddings.weight False\n",
            "embeddings.position_embeddings.weight False\n",
            "embeddings.token_type_embeddings.weight False\n",
            "embeddings.LayerNorm.weight False\n",
            "embeddings.LayerNorm.bias False\n",
            "encoder.layer.0.attention.self.query.weight False\n",
            "encoder.layer.0.attention.self.query.bias False\n",
            "encoder.layer.0.attention.self.key.weight False\n",
            "encoder.layer.0.attention.self.key.bias False\n",
            "encoder.layer.0.attention.self.value.weight False\n",
            "encoder.layer.0.attention.self.value.bias False\n",
            "encoder.layer.0.attention.output.dense.weight False\n",
            "encoder.layer.0.attention.output.dense.bias False\n",
            "encoder.layer.0.attention.output.LayerNorm.weight False\n",
            "encoder.layer.0.attention.output.LayerNorm.bias False\n",
            "encoder.layer.0.intermediate.dense.weight False\n",
            "encoder.layer.0.intermediate.dense.bias False\n",
            "encoder.layer.0.output.dense.weight False\n",
            "encoder.layer.0.output.dense.bias False\n",
            "encoder.layer.0.output.LayerNorm.weight False\n",
            "encoder.layer.0.output.LayerNorm.bias False\n",
            "encoder.layer.1.attention.self.query.weight False\n",
            "encoder.layer.1.attention.self.query.bias False\n",
            "encoder.layer.1.attention.self.key.weight False\n",
            "encoder.layer.1.attention.self.key.bias False\n",
            "encoder.layer.1.attention.self.value.weight False\n",
            "encoder.layer.1.attention.self.value.bias False\n",
            "encoder.layer.1.attention.output.dense.weight False\n",
            "encoder.layer.1.attention.output.dense.bias False\n",
            "encoder.layer.1.attention.output.LayerNorm.weight False\n",
            "encoder.layer.1.attention.output.LayerNorm.bias False\n",
            "encoder.layer.1.intermediate.dense.weight False\n",
            "encoder.layer.1.intermediate.dense.bias False\n",
            "encoder.layer.1.output.dense.weight False\n",
            "encoder.layer.1.output.dense.bias False\n",
            "encoder.layer.1.output.LayerNorm.weight False\n",
            "encoder.layer.1.output.LayerNorm.bias False\n",
            "encoder.layer.2.attention.self.query.weight False\n",
            "encoder.layer.2.attention.self.query.bias False\n",
            "encoder.layer.2.attention.self.key.weight False\n",
            "encoder.layer.2.attention.self.key.bias False\n",
            "encoder.layer.2.attention.self.value.weight False\n",
            "encoder.layer.2.attention.self.value.bias False\n",
            "encoder.layer.2.attention.output.dense.weight False\n",
            "encoder.layer.2.attention.output.dense.bias False\n",
            "encoder.layer.2.attention.output.LayerNorm.weight False\n",
            "encoder.layer.2.attention.output.LayerNorm.bias False\n",
            "encoder.layer.2.intermediate.dense.weight False\n",
            "encoder.layer.2.intermediate.dense.bias False\n",
            "encoder.layer.2.output.dense.weight False\n",
            "encoder.layer.2.output.dense.bias False\n",
            "encoder.layer.2.output.LayerNorm.weight False\n",
            "encoder.layer.2.output.LayerNorm.bias False\n",
            "encoder.layer.3.attention.self.query.weight False\n",
            "encoder.layer.3.attention.self.query.bias False\n",
            "encoder.layer.3.attention.self.key.weight False\n",
            "encoder.layer.3.attention.self.key.bias False\n",
            "encoder.layer.3.attention.self.value.weight False\n",
            "encoder.layer.3.attention.self.value.bias False\n",
            "encoder.layer.3.attention.output.dense.weight False\n",
            "encoder.layer.3.attention.output.dense.bias False\n",
            "encoder.layer.3.attention.output.LayerNorm.weight False\n",
            "encoder.layer.3.attention.output.LayerNorm.bias False\n",
            "encoder.layer.3.intermediate.dense.weight False\n",
            "encoder.layer.3.intermediate.dense.bias False\n",
            "encoder.layer.3.output.dense.weight False\n",
            "encoder.layer.3.output.dense.bias False\n",
            "encoder.layer.3.output.LayerNorm.weight False\n",
            "encoder.layer.3.output.LayerNorm.bias False\n",
            "encoder.layer.4.attention.self.query.weight False\n",
            "encoder.layer.4.attention.self.query.bias False\n",
            "encoder.layer.4.attention.self.key.weight False\n",
            "encoder.layer.4.attention.self.key.bias False\n",
            "encoder.layer.4.attention.self.value.weight False\n",
            "encoder.layer.4.attention.self.value.bias False\n",
            "encoder.layer.4.attention.output.dense.weight False\n",
            "encoder.layer.4.attention.output.dense.bias False\n",
            "encoder.layer.4.attention.output.LayerNorm.weight False\n",
            "encoder.layer.4.attention.output.LayerNorm.bias False\n",
            "encoder.layer.4.intermediate.dense.weight False\n",
            "encoder.layer.4.intermediate.dense.bias False\n",
            "encoder.layer.4.output.dense.weight False\n",
            "encoder.layer.4.output.dense.bias False\n",
            "encoder.layer.4.output.LayerNorm.weight False\n",
            "encoder.layer.4.output.LayerNorm.bias False\n",
            "encoder.layer.5.attention.self.query.weight False\n",
            "encoder.layer.5.attention.self.query.bias False\n",
            "encoder.layer.5.attention.self.key.weight False\n",
            "encoder.layer.5.attention.self.key.bias False\n",
            "encoder.layer.5.attention.self.value.weight False\n",
            "encoder.layer.5.attention.self.value.bias False\n",
            "encoder.layer.5.attention.output.dense.weight False\n",
            "encoder.layer.5.attention.output.dense.bias False\n",
            "encoder.layer.5.attention.output.LayerNorm.weight False\n",
            "encoder.layer.5.attention.output.LayerNorm.bias False\n",
            "encoder.layer.5.intermediate.dense.weight False\n",
            "encoder.layer.5.intermediate.dense.bias False\n",
            "encoder.layer.5.output.dense.weight False\n",
            "encoder.layer.5.output.dense.bias False\n",
            "encoder.layer.5.output.LayerNorm.weight False\n",
            "encoder.layer.5.output.LayerNorm.bias False\n",
            "encoder.layer.6.attention.self.query.weight False\n",
            "encoder.layer.6.attention.self.query.bias False\n",
            "encoder.layer.6.attention.self.key.weight False\n",
            "encoder.layer.6.attention.self.key.bias False\n",
            "encoder.layer.6.attention.self.value.weight False\n",
            "encoder.layer.6.attention.self.value.bias False\n",
            "encoder.layer.6.attention.output.dense.weight False\n",
            "encoder.layer.6.attention.output.dense.bias False\n",
            "encoder.layer.6.attention.output.LayerNorm.weight False\n",
            "encoder.layer.6.attention.output.LayerNorm.bias False\n",
            "encoder.layer.6.intermediate.dense.weight False\n",
            "encoder.layer.6.intermediate.dense.bias False\n",
            "encoder.layer.6.output.dense.weight False\n",
            "encoder.layer.6.output.dense.bias False\n",
            "encoder.layer.6.output.LayerNorm.weight False\n",
            "encoder.layer.6.output.LayerNorm.bias False\n",
            "encoder.layer.7.attention.self.query.weight False\n",
            "encoder.layer.7.attention.self.query.bias False\n",
            "encoder.layer.7.attention.self.key.weight False\n",
            "encoder.layer.7.attention.self.key.bias False\n",
            "encoder.layer.7.attention.self.value.weight False\n",
            "encoder.layer.7.attention.self.value.bias False\n",
            "encoder.layer.7.attention.output.dense.weight False\n",
            "encoder.layer.7.attention.output.dense.bias False\n",
            "encoder.layer.7.attention.output.LayerNorm.weight False\n",
            "encoder.layer.7.attention.output.LayerNorm.bias False\n",
            "encoder.layer.7.intermediate.dense.weight False\n",
            "encoder.layer.7.intermediate.dense.bias False\n",
            "encoder.layer.7.output.dense.weight False\n",
            "encoder.layer.7.output.dense.bias False\n",
            "encoder.layer.7.output.LayerNorm.weight False\n",
            "encoder.layer.7.output.LayerNorm.bias False\n",
            "encoder.layer.8.attention.self.query.weight False\n",
            "encoder.layer.8.attention.self.query.bias False\n",
            "encoder.layer.8.attention.self.key.weight False\n",
            "encoder.layer.8.attention.self.key.bias False\n",
            "encoder.layer.8.attention.self.value.weight False\n",
            "encoder.layer.8.attention.self.value.bias False\n",
            "encoder.layer.8.attention.output.dense.weight False\n",
            "encoder.layer.8.attention.output.dense.bias False\n",
            "encoder.layer.8.attention.output.LayerNorm.weight False\n",
            "encoder.layer.8.attention.output.LayerNorm.bias False\n",
            "encoder.layer.8.intermediate.dense.weight False\n",
            "encoder.layer.8.intermediate.dense.bias False\n",
            "encoder.layer.8.output.dense.weight False\n",
            "encoder.layer.8.output.dense.bias False\n",
            "encoder.layer.8.output.LayerNorm.weight False\n",
            "encoder.layer.8.output.LayerNorm.bias False\n",
            "encoder.layer.9.attention.self.query.weight False\n",
            "encoder.layer.9.attention.self.query.bias False\n",
            "encoder.layer.9.attention.self.key.weight False\n",
            "encoder.layer.9.attention.self.key.bias False\n",
            "encoder.layer.9.attention.self.value.weight False\n",
            "encoder.layer.9.attention.self.value.bias False\n",
            "encoder.layer.9.attention.output.dense.weight False\n",
            "encoder.layer.9.attention.output.dense.bias False\n",
            "encoder.layer.9.attention.output.LayerNorm.weight False\n",
            "encoder.layer.9.attention.output.LayerNorm.bias False\n",
            "encoder.layer.9.intermediate.dense.weight False\n",
            "encoder.layer.9.intermediate.dense.bias False\n",
            "encoder.layer.9.output.dense.weight False\n",
            "encoder.layer.9.output.dense.bias False\n",
            "encoder.layer.9.output.LayerNorm.weight False\n",
            "encoder.layer.9.output.LayerNorm.bias False\n",
            "encoder.layer.10.attention.self.query.weight False\n",
            "encoder.layer.10.attention.self.query.bias False\n",
            "encoder.layer.10.attention.self.key.weight False\n",
            "encoder.layer.10.attention.self.key.bias False\n",
            "encoder.layer.10.attention.self.value.weight False\n",
            "encoder.layer.10.attention.self.value.bias False\n",
            "encoder.layer.10.attention.output.dense.weight False\n",
            "encoder.layer.10.attention.output.dense.bias False\n",
            "encoder.layer.10.attention.output.LayerNorm.weight False\n",
            "encoder.layer.10.attention.output.LayerNorm.bias False\n",
            "encoder.layer.10.intermediate.dense.weight False\n",
            "encoder.layer.10.intermediate.dense.bias False\n",
            "encoder.layer.10.output.dense.weight False\n",
            "encoder.layer.10.output.dense.bias False\n",
            "encoder.layer.10.output.LayerNorm.weight False\n",
            "encoder.layer.10.output.LayerNorm.bias False\n",
            "encoder.layer.11.attention.self.query.weight False\n",
            "encoder.layer.11.attention.self.query.bias False\n",
            "encoder.layer.11.attention.self.key.weight False\n",
            "encoder.layer.11.attention.self.key.bias False\n",
            "encoder.layer.11.attention.self.value.weight False\n",
            "encoder.layer.11.attention.self.value.bias False\n",
            "encoder.layer.11.attention.output.dense.weight False\n",
            "encoder.layer.11.attention.output.dense.bias False\n",
            "encoder.layer.11.attention.output.LayerNorm.weight False\n",
            "encoder.layer.11.attention.output.LayerNorm.bias False\n",
            "encoder.layer.11.intermediate.dense.weight False\n",
            "encoder.layer.11.intermediate.dense.bias False\n",
            "encoder.layer.11.output.dense.weight False\n",
            "encoder.layer.11.output.dense.bias False\n",
            "encoder.layer.11.output.LayerNorm.weight False\n",
            "encoder.layer.11.output.LayerNorm.bias False\n",
            "pooler.dense.weight True\n",
            "pooler.dense.bias True\n"
          ]
        }
      ]
    },
    {
      "cell_type": "code",
      "source": [
        "class XLMTRegressor(nn.Module):\n",
        "    def __init__(self, model, hidden_count = 20, dropout = 0.2):\n",
        "        super(XLMTRegressor, self).__init__()\n",
        "\n",
        "        self.xlmt = model\n",
        "        self.linear = nn.Linear(768, hidden_count)\n",
        "        self.relu = nn.ReLU()\n",
        "        self.dropout = nn.Dropout(dropout)\n",
        "        self.regression = nn.Linear(hidden_count, 1)\n",
        "\n",
        "    def forward(self, input_ids = None, attention_mask = None, labels = None):\n",
        "        encoding_output = self.xlmt(input_ids = input_ids, attention_mask = attention_mask)\n",
        "        # https://huggingface.co/docs/transformers/main_classes/output#transformers.modeling_outputs.BaseModelOutputWithPooling\n",
        "        linear_output = self.linear(encoding_output[1])\n",
        "        relu_output = self.relu(linear_output)\n",
        "        dropout_output = self.dropout(relu_output)\n",
        "        final_output = self.regression(dropout_output)\n",
        "\n",
        "        loss = None\n",
        "        if labels is not None:\n",
        "            loss_fct = nn.MSELoss()\n",
        "            loss = loss_fct(final_output, labels)\n",
        "        \n",
        "        return SequenceClassifierOutput(loss = loss, logits = final_output, hidden_states = encoding_output.hidden_states, attentions = encoding_output.attentions)\n",
        "\n"
      ],
      "metadata": {
        "id": "HUuLjyiGw0GO"
      },
      "execution_count": null,
      "outputs": []
    },
    {
      "cell_type": "markdown",
      "source": [
        "## train model"
      ],
      "metadata": {
        "id": "jh2aua1N1xT9"
      }
    },
    {
      "cell_type": "code",
      "source": [
        "def train(model, train_data, val_data, learning_rate, epochs):\n",
        "    train, val = RegressionIntimacyDataset(train_data, xlmt_tokenizer), RegressionIntimacyDataset(val_data, xlmt_tokenizer)\n",
        "\n",
        "    train_dataloader = torch.utils.data.DataLoader(train, batch_size = BATCH_SIZE, shuffle = True)\n",
        "    val_dataloader = torch.utils.data.DataLoader(val, batch_size = BATCH_SIZE, shuffle = True)\n",
        "\n",
        "    use_cuda = torch.cuda.is_available()\n",
        "    device = torch.device(\"cuda\" if use_cuda else \"cpu\")\n",
        "\n",
        "    optimizer = AdamW(model.parameters(), lr = learning_rate)\n",
        "\n",
        "    if use_cuda:\n",
        "        model = model.cuda()\n",
        "\n",
        "    for epoch_num in range(epochs):\n",
        "        model.train()\n",
        "\n",
        "        for train_input, train_label in tqdm(train_dataloader):\n",
        "            train_label = train_label.to(device)\n",
        "            mask = train_input['attention_mask'].to(device)\n",
        "            input_id = train_input['input_ids'].squeeze(1).to(device)\n",
        "\n",
        "            outputs = model(input_id, mask, train_label)\n",
        "\n",
        "            loss = outputs.loss\n",
        "            loss.backward()\n",
        "            optimizer.step()\n",
        "\n",
        "            optimizer.zero_grad()\n",
        "        \n",
        "        torch.save(model.state_dict(), f'{PATH_TO_SAVE}_{epoch_num}')\n",
        "\n",
        "\n",
        "        model.eval()\n",
        "        eval_losses = []\n",
        "        for val_input, val_label in tqdm(val_dataloader):\n",
        "            val_label = val_label.to(device)\n",
        "            mask = val_input['attention_mask'].to(device)\n",
        "            input_id = val_input['input_ids'].squeeze(1).to(device)\n",
        "\n",
        "            with torch.no_grad():\n",
        "                outputs = model(input_id, mask, val_label)\n",
        "            \n",
        "            model_pred = outputs.logits\n",
        "            eval_losses.append(outputs.loss.item())\n",
        "\n",
        "        print(f'loss = {mean(eval_losses)}')\n",
        "                \n",
        "EPOCHS = 5\n",
        "model = XLMTRegressor(xlmt_model)\n",
        "LR = 1e-3\n",
        "\n",
        "df_train, df_val, df_test = train_val_test_split(df)\n",
        "train(model, df_train, df_val, LR, EPOCHS)"
      ],
      "metadata": {
        "colab": {
          "base_uri": "https://localhost:8080/"
        },
        "id": "39H3sDG-6ZKD",
        "outputId": "54367549-1bcd-491a-de46-f0a8ced2c2ec"
      },
      "execution_count": null,
      "outputs": [
        {
          "output_type": "stream",
          "name": "stderr",
          "text": [
            "/usr/local/lib/python3.8/dist-packages/transformers/optimization.py:306: FutureWarning: This implementation of AdamW is deprecated and will be removed in a future version. Use the PyTorch implementation torch.optim.AdamW instead, or set `no_deprecation_warning=True` to disable this warning\n",
            "  warnings.warn(\n",
            "100%|██████████| 238/238 [04:17<00:00,  1.08s/it]\n",
            "100%|██████████| 30/30 [00:28<00:00,  1.05it/s]\n"
          ]
        },
        {
          "output_type": "stream",
          "name": "stdout",
          "text": [
            "loss = 0.03679414385308822\n"
          ]
        },
        {
          "output_type": "stream",
          "name": "stderr",
          "text": [
            "100%|██████████| 238/238 [04:18<00:00,  1.09s/it]\n",
            "100%|██████████| 30/30 [00:28<00:00,  1.05it/s]\n"
          ]
        },
        {
          "output_type": "stream",
          "name": "stdout",
          "text": [
            "loss = 0.03377731361736854\n"
          ]
        },
        {
          "output_type": "stream",
          "name": "stderr",
          "text": [
            "100%|██████████| 238/238 [04:18<00:00,  1.09s/it]\n",
            "100%|██████████| 30/30 [00:28<00:00,  1.05it/s]\n"
          ]
        },
        {
          "output_type": "stream",
          "name": "stdout",
          "text": [
            "loss = 0.03337364811450243\n"
          ]
        },
        {
          "output_type": "stream",
          "name": "stderr",
          "text": [
            "100%|██████████| 238/238 [04:18<00:00,  1.09s/it]\n",
            "100%|██████████| 30/30 [00:28<00:00,  1.05it/s]\n"
          ]
        },
        {
          "output_type": "stream",
          "name": "stdout",
          "text": [
            "loss = 0.03205319847911596\n"
          ]
        },
        {
          "output_type": "stream",
          "name": "stderr",
          "text": [
            "100%|██████████| 238/238 [04:18<00:00,  1.09s/it]\n",
            "100%|██████████| 30/30 [00:28<00:00,  1.05it/s]"
          ]
        },
        {
          "output_type": "stream",
          "name": "stdout",
          "text": [
            "loss = 0.032118543547888595\n"
          ]
        },
        {
          "output_type": "stream",
          "name": "stderr",
          "text": [
            "\n"
          ]
        }
      ]
    },
    {
      "cell_type": "markdown",
      "source": [
        "## evaluate"
      ],
      "metadata": {
        "id": "87n_a9buJo6g"
      }
    },
    {
      "cell_type": "code",
      "source": [
        "def evaluate(model, test_data):\n",
        "    test = RegressionIntimacyDataset(test_data, xlmt_tokenizer)\n",
        "    test_dataloader = torch.utils.data.DataLoader(test, batch_size=2)\n",
        "\n",
        "    use_cuda = torch.cuda.is_available()\n",
        "    device = torch.device(\"cuda\" if use_cuda else \"cpu\")\n",
        "\n",
        "    if use_cuda:\n",
        "        model = model.cuda()\n",
        "\n",
        "    model.eval()\n",
        "    with torch.no_grad():\n",
        "        test_losses = []\n",
        "        for test_input, test_label in tqdm(test_dataloader):\n",
        "            test_label = test_label.to(device)\n",
        "            mask = test_input['attention_mask'].to(device)\n",
        "            input_id = test_input['input_ids'].squeeze(1).to(device)\n",
        "\n",
        "            outputs = model(input_id, mask, test_label)\n",
        "\n",
        "            model_pred = outputs.logits\n",
        "            test_losses.append(outputs.loss.item())\n",
        "    \n",
        "    print(f'loss = {mean(test_losses)}')\n",
        "    \n",
        "evaluate(model, df_test)"
      ],
      "metadata": {
        "id": "XJ5UPsBP6b8h",
        "colab": {
          "base_uri": "https://localhost:8080/"
        },
        "outputId": "b05ebba7-9972-4559-f970-c4c45eb0fc3f"
      },
      "execution_count": null,
      "outputs": [
        {
          "output_type": "stream",
          "name": "stderr",
          "text": [
            "100%|██████████| 475/475 [00:29<00:00, 16.14it/s]\n"
          ]
        },
        {
          "output_type": "stream",
          "name": "stdout",
          "text": [
            "loss = 0.030576393889557373\n"
          ]
        }
      ]
    },
    {
      "cell_type": "markdown",
      "source": [
        "## evaluation on test data codalab"
      ],
      "metadata": {
        "id": "C_UBPU0ww_00"
      }
    },
    {
      "cell_type": "code",
      "source": [
        "PATH_FOR_READ = './checkpoint'"
      ],
      "metadata": {
        "id": "3UrSquvKpnc_"
      },
      "execution_count": null,
      "outputs": []
    },
    {
      "cell_type": "code",
      "source": [
        "def read_test_data(file_path = \"semeval_test.csv\"):\n",
        "  df = pd.read_csv(file_path)\n",
        "#   df['len'] = df['text'].apply(lambda x: len(x))\n",
        "#   df['label'] = df['label'].astype('float32')\n",
        "#   df['normalized_label'] = df['label'].apply(lambda x: (x-1)/5)\n",
        "  return df"
      ],
      "metadata": {
        "id": "nE7FojiKwMkc"
      },
      "execution_count": null,
      "outputs": []
    },
    {
      "cell_type": "code",
      "source": [
        "class TestRegressionIntimacyDataset(Dataset):\n",
        "    def __init__(self, df, tokenizer):\n",
        "        self.all_data = df\n",
        "        self.tokenizer = tokenizer\n",
        "        \n",
        "        # tokenized texts of our dataset\n",
        "        self.texts = [self.tokenizer(text, padding='max_length', max_length = 512, truncation=True, return_tensors=\"pt\") \n",
        "                                for text in self.all_data['text']]\n",
        "    \n",
        "    def __len__(self):\n",
        "        return len(self.all_data)\n",
        "    \n",
        "    def get_batch_texts(self, idx):\n",
        "        # Fetch a batch of inputs\n",
        "        return self.texts[idx]\n",
        "    \n",
        "    def __getitem__(self, idx):\n",
        "        batch_texts = self.get_batch_texts(idx)\n",
        "        \n",
        "        return batch_texts\n"
      ],
      "metadata": {
        "id": "pbp-HN7kzjFh"
      },
      "execution_count": null,
      "outputs": []
    },
    {
      "cell_type": "code",
      "source": [
        "MODEL = \"cardiffnlp/twitter-xlm-roberta-base\"\n",
        "xlmt_tokenizer = AutoTokenizer.from_pretrained(MODEL, use_fast=True)"
      ],
      "metadata": {
        "id": "nfNwBfBr1C7M",
        "colab": {
          "base_uri": "https://localhost:8080/",
          "height": 197,
          "referenced_widgets": [
            "ddd27f102003448f97566d607b5a43e3",
            "fe7551c5866140deb0fd8505d7ff9a27",
            "a8cb3d0512b644f6866936701c536aee",
            "dcdfe7ad28b9419494fb6279249abd66",
            "db25ed472d084b88a049bcf83c773d35",
            "822a14558f9940c1986346cccaeebae2",
            "a1761cb672424e3daccca138bede6c18",
            "801e7cf078e342dbaa17c60b0a2e3948",
            "d67be5f9a2f04d418d3a962ef9e47282",
            "d4c54e9ccc594a5f8e7bc0c0afc85d21",
            "152262222d0e46939058e9007fc68621",
            "6c64de8b271e44b797f155108a14e357",
            "f35aef280bc7459ba813f58fce7fc85b",
            "5748ca0a42c44a69821387579065b1e9",
            "74c2c4601aed4ba19c5f86d808b27f58",
            "b9acb76e72064e11891fa838df1dd5e8",
            "6b1e83653d5441dba541976e3809a7f9",
            "88a67512a6df482ebdc16287837fee78",
            "6b141d1042ed481b91ebf8c2987df730",
            "e1df44cbfa054d7bb705deef9913793e",
            "a207e3123bcd4c8dafd5873ac871b512",
            "1a6ff089a72945a586ac21d14ba2bafe",
            "0e3c220a069f40fdba807edafa51c58f",
            "830202ae51434983a7b92a521df00a32",
            "cd2fd3d219494209a7565767873dd3cf",
            "c599de01ea434f419c7aeb6d941c51fe",
            "93a643fa9d8c4276b37b62bf6b0ad82b",
            "5720b7fcb97a4a35a4a013489dffb099",
            "a0b8348e70ec4f7785500a684688fcac",
            "b76df056b3c346cdb639cc143e936364",
            "f4c8038914b24a08a3f915ae860c2f17",
            "ab2108a179ef4ac49a3464c074e4eb8f",
            "dc3d618a1b8647a98b7cf82203738631"
          ]
        },
        "outputId": "4f438b15-c439-4d85-a3ee-c287324b4bd3"
      },
      "execution_count": null,
      "outputs": [
        {
          "output_type": "display_data",
          "data": {
            "text/plain": [
              "Downloading (…)lve/main/config.json:   0%|          | 0.00/652 [00:00<?, ?B/s]"
            ],
            "application/vnd.jupyter.widget-view+json": {
              "version_major": 2,
              "version_minor": 0,
              "model_id": "ddd27f102003448f97566d607b5a43e3"
            }
          },
          "metadata": {}
        },
        {
          "output_type": "display_data",
          "data": {
            "text/plain": [
              "Downloading (…)ncepiece.bpe.model\";:   0%|          | 0.00/5.07M [00:00<?, ?B/s]"
            ],
            "application/vnd.jupyter.widget-view+json": {
              "version_major": 2,
              "version_minor": 0,
              "model_id": "6c64de8b271e44b797f155108a14e357"
            }
          },
          "metadata": {}
        },
        {
          "output_type": "display_data",
          "data": {
            "text/plain": [
              "Downloading (…)/main/tokenizer.json:   0%|          | 0.00/9.10M [00:00<?, ?B/s]"
            ],
            "application/vnd.jupyter.widget-view+json": {
              "version_major": 2,
              "version_minor": 0,
              "model_id": "0e3c220a069f40fdba807edafa51c58f"
            }
          },
          "metadata": {}
        }
      ]
    },
    {
      "cell_type": "code",
      "source": [
        "xlmt_model = AutoModel.from_pretrained(\"cardiffnlp/twitter-xlm-roberta-base\")"
      ],
      "metadata": {
        "id": "n1WZHcNkotRI",
        "colab": {
          "base_uri": "https://localhost:8080/",
          "height": 184,
          "referenced_widgets": [
            "89ca551bdc5741ffb3f64e701c71ee27",
            "dd12e55bba324021b55688ed2329081a",
            "6fbeb725158d411f95bf035cce92cac9",
            "c6d503b983644b8bba79ef884b25c8c3",
            "57f5a0f02f1e436a8c92f92790bab3ae",
            "088370d7df1b4b168fe6df3d274f9095",
            "2859f9b53f094a9fbb58c23fd3df8ae6",
            "e74dd68e17454d958e1a5af227c7d2a6",
            "99e5945734584cfaae69a26c553f078d",
            "f964f21318aa45e28328fbc316584529",
            "fe84560b96f447aa8a71d1a06e1dd062"
          ]
        },
        "outputId": "be6494f4-b1be-4efd-d5a2-63e59777a9a6"
      },
      "execution_count": null,
      "outputs": [
        {
          "output_type": "display_data",
          "data": {
            "text/plain": [
              "Downloading (…)\"pytorch_model.bin\";:   0%|          | 0.00/1.11G [00:00<?, ?B/s]"
            ],
            "application/vnd.jupyter.widget-view+json": {
              "version_major": 2,
              "version_minor": 0,
              "model_id": "89ca551bdc5741ffb3f64e701c71ee27"
            }
          },
          "metadata": {}
        },
        {
          "output_type": "stream",
          "name": "stderr",
          "text": [
            "Some weights of the model checkpoint at cardiffnlp/twitter-xlm-roberta-base were not used when initializing XLMRobertaModel: ['lm_head.dense.bias', 'lm_head.layer_norm.bias', 'lm_head.decoder.weight', 'lm_head.layer_norm.weight', 'lm_head.dense.weight', 'lm_head.bias', 'lm_head.decoder.bias']\n",
            "- This IS expected if you are initializing XLMRobertaModel from the checkpoint of a model trained on another task or with another architecture (e.g. initializing a BertForSequenceClassification model from a BertForPreTraining model).\n",
            "- This IS NOT expected if you are initializing XLMRobertaModel from the checkpoint of a model that you expect to be exactly identical (initializing a BertForSequenceClassification model from a BertForSequenceClassification model).\n",
            "Some weights of XLMRobertaModel were not initialized from the model checkpoint at cardiffnlp/twitter-xlm-roberta-base and are newly initialized: ['roberta.pooler.dense.weight', 'roberta.pooler.dense.bias']\n",
            "You should probably TRAIN this model on a down-stream task to be able to use it for predictions and inference.\n"
          ]
        }
      ]
    },
    {
      "cell_type": "code",
      "source": [
        "# for name, param in xlmt_model.named_parameters():\n",
        "#     param.requires_grad = False"
      ],
      "metadata": {
        "id": "5iijZxhAo6e0"
      },
      "execution_count": null,
      "outputs": []
    },
    {
      "cell_type": "code",
      "source": [
        "model = XLMTRegressor(xlmt_model)\n",
        "model.load_state_dict(torch.load(f'{PATH_FOR_READ}_{EPOCHS-1}'))\n",
        "# model.load_state_dict(torch.load(f'{PATH_FOR_READ}_{EPOCHS-1}', map_location=torch.device('cpu')))"
      ],
      "metadata": {
        "id": "-YllGTwGoGk_",
        "colab": {
          "base_uri": "https://localhost:8080/"
        },
        "outputId": "b27c6bee-301f-4417-ffc9-b334e6b5eae7"
      },
      "execution_count": null,
      "outputs": [
        {
          "output_type": "execute_result",
          "data": {
            "text/plain": [
              "<All keys matched successfully>"
            ]
          },
          "metadata": {},
          "execution_count": 14
        }
      ]
    },
    {
      "cell_type": "code",
      "source": [
        "def predict(model, test_data):\n",
        "    test = TestRegressionIntimacyDataset(test_data, xlmt_tokenizer)\n",
        "    test_dataloader = torch.utils.data.DataLoader(test, batch_size=32)\n",
        "\n",
        "    use_cuda = torch.cuda.is_available()\n",
        "    device = torch.device(\"cuda\" if use_cuda else \"cpu\")\n",
        "\n",
        "    if use_cuda:\n",
        "        model = model.cuda()\n",
        "\n",
        "    model_predictions = []\n",
        "    model.eval()\n",
        "    with torch.no_grad():\n",
        "        for test_input in tqdm(test_dataloader):\n",
        "            mask = test_input['attention_mask'].to(device)\n",
        "            input_id = test_input['input_ids'].squeeze(1).to(device)\n",
        "            outputs = model(input_id, mask)\n",
        "            model_pred = outputs.logits\n",
        "            model_predictions.append(model_pred)\n",
        "    return model_predictions\n"
      ],
      "metadata": {
        "id": "yi-AqF3-w_JQ"
      },
      "execution_count": null,
      "outputs": []
    },
    {
      "cell_type": "code",
      "source": [
        "df_coda = read_test_data(\"train.csv\")    \n",
        "# df_coda = read_test_data(\"semeval_test.csv\")    \n",
        "outputs = predict(model, df_coda)"
      ],
      "metadata": {
        "colab": {
          "base_uri": "https://localhost:8080/"
        },
        "id": "wjVWchwPxZ8t",
        "outputId": "577d8d1f-300d-4c7c-a540-dc608b8a2c48"
      },
      "execution_count": null,
      "outputs": [
        {
          "output_type": "stream",
          "name": "stderr",
          "text": [
            "100%|██████████| 297/297 [04:42<00:00,  1.05it/s]\n"
          ]
        }
      ]
    },
    {
      "cell_type": "code",
      "source": [
        "flat_predictions = [item.cpu().numpy()[0] for sublist in outputs for item in sublist]"
      ],
      "metadata": {
        "id": "wKe1ZveT3UeK"
      },
      "execution_count": null,
      "outputs": []
    },
    {
      "cell_type": "code",
      "source": [
        "min_flat = min(flat_predictions)\n",
        "max_flat = max(flat_predictions)"
      ],
      "metadata": {
        "id": "TbRgo-xr765B"
      },
      "execution_count": null,
      "outputs": []
    },
    {
      "cell_type": "code",
      "source": [
        "print(len(flat_predictions))"
      ],
      "metadata": {
        "colab": {
          "base_uri": "https://localhost:8080/"
        },
        "id": "v2T39ho43mZZ",
        "outputId": "5029d753-67bf-467e-de8f-7c94236a0a77"
      },
      "execution_count": null,
      "outputs": [
        {
          "output_type": "stream",
          "name": "stdout",
          "text": [
            "9491\n"
          ]
        }
      ]
    },
    {
      "cell_type": "code",
      "source": [
        "df_coda['predictions'] = flat_predictions\n",
        "df_coda['predictions'] = df_coda['predictions'].apply(lambda x: (x - min_flat) * 4 / (max_flat - min_flat) + 1)\n",
        "df_coda.to_csv('results.csv')"
      ],
      "metadata": {
        "id": "EGfd-NmS3ukC"
      },
      "execution_count": null,
      "outputs": []
    },
    {
      "cell_type": "code",
      "source": [
        "df_coda['predictions'].argmax()"
      ],
      "metadata": {
        "colab": {
          "base_uri": "https://localhost:8080/"
        },
        "id": "RuajDvIG5Poy",
        "outputId": "9ef63214-20f4-4957-8764-91df92fdf85a"
      },
      "execution_count": null,
      "outputs": [
        {
          "output_type": "execute_result",
          "data": {
            "text/plain": [
              "12021"
            ]
          },
          "metadata": {},
          "execution_count": 38
        }
      ]
    },
    {
      "cell_type": "code",
      "source": [
        "df_coda['predictions'].min()"
      ],
      "metadata": {
        "colab": {
          "base_uri": "https://localhost:8080/"
        },
        "id": "Jz_QeArc6bwA",
        "outputId": "81f7124e-66eb-41c5-ce63-be65ca51dead"
      },
      "execution_count": null,
      "outputs": [
        {
          "output_type": "execute_result",
          "data": {
            "text/plain": [
              "3.261665493249893"
            ]
          },
          "metadata": {},
          "execution_count": 42
        }
      ]
    },
    {
      "cell_type": "code",
      "source": [
        "print(df_coda['predictions'].argmin())\n",
        "print(df_coda['text'][14])\n",
        "print(df_coda['language'][14])\n"
      ],
      "metadata": {
        "colab": {
          "base_uri": "https://localhost:8080/"
        },
        "id": "EWcaH2bM6AC5",
        "outputId": "c8455b91-2382-4fc6-f4a2-dfed9bf8ac98"
      },
      "execution_count": null,
      "outputs": [
        {
          "output_type": "stream",
          "name": "stdout",
          "text": [
            "14\n",
            "#1Ene 1942 se firma la declaración de la Naciones Unidas. #60AñosDeRevoluciónCubana #Feliz2019 http\n",
            "Spanish\n"
          ]
        }
      ]
    },
    {
      "cell_type": "code",
      "source": [
        "print(df_coda['text'][12021])\n",
        "print(df_coda['language'][12021])"
      ],
      "metadata": {
        "colab": {
          "base_uri": "https://localhost:8080/"
        },
        "id": "BG07xQ-a5oM7",
        "outputId": "f5a6d977-4019-41f5-faa8-fe63e4b8c5e4"
      },
      "execution_count": null,
      "outputs": [
        {
          "output_type": "stream",
          "name": "stdout",
          "text": [
            "@user ily bestie💞\n",
            "Dutch\n"
          ]
        }
      ]
    },
    {
      "cell_type": "code",
      "source": [
        "# find subtraction\n",
        "sub = df_coda['predictions'] - df_coda['label']\n",
        "print(abs(sub).argmax())"
      ],
      "metadata": {
        "colab": {
          "base_uri": "https://localhost:8080/"
        },
        "id": "ReGeJhEu5qRh",
        "outputId": "78c1c414-2cb0-471e-be41-232abfa6c670"
      },
      "execution_count": null,
      "outputs": [
        {
          "output_type": "stream",
          "name": "stdout",
          "text": [
            "2439\n"
          ]
        }
      ]
    },
    {
      "cell_type": "code",
      "source": [
        "print(df_coda['text'][2439])\n",
        "print(df_coda['language'][2439])"
      ],
      "metadata": {
        "colab": {
          "base_uri": "https://localhost:8080/"
        },
        "id": "KSY38G5A6g6D",
        "outputId": "4f7aa293-9979-4b2f-8889-20643b2af70d"
      },
      "execution_count": null,
      "outputs": [
        {
          "output_type": "stream",
          "name": "stdout",
          "text": [
            "Que empiece el fin de cojedera. Empezamos con un gang Bang. Activos un paso al frente\n",
            "Spanish\n"
          ]
        }
      ]
    },
    {
      "cell_type": "markdown",
      "source": [
        "## train with Huggingface API"
      ],
      "metadata": {
        "id": "943oqyS411gI"
      }
    },
    {
      "cell_type": "code",
      "source": [
        "class HuggingfaceRegressionIntimacyDataset(Dataset):\n",
        "    def __init__(self, df, tokenizer):\n",
        "        self.all_data = df\n",
        "        self.tokenizer = tokenizer\n",
        "        \n",
        "        # tokenized texts of our dataset\n",
        "        # self.texts = [self.tokenizer(text, padding='max_length', max_length = 512, truncation=True, return_tensors=\"pt\") \n",
        "        #                         for text in self.all_data['text']]\n",
        "        self.texts = self.all_data['text'].to_list()\n",
        "        self.encodings = self.tokenizer(self.texts, padding='max_length', max_length = 512, truncation=True, return_tensors=\"pt\")\n",
        "\n",
        "        # intimacy scores\n",
        "        scaler = MinMaxScaler()\n",
        "        self.labels = scaler.fit_transform(self.all_data['label'].to_numpy().reshape(-1, 1))\n",
        "    \n",
        "    def classes(self,):\n",
        "        return self.labels\n",
        "    \n",
        "    def __len__(self):\n",
        "        return len(self.labels)\n",
        "    \n",
        "    def get_max_setntence_len(self):\n",
        "        # get length of longest sentence in our dataset\n",
        "        return max(self.all_data['len'])\n",
        "    \n",
        "    def __getitem__(self, idx):\n",
        "        item = {key: torch.tensor(val[idx]) for key, val in self.encodings.items()}\n",
        "        item['labels'] = torch.tensor(self.labels[idx])\n",
        "        \n",
        "        return item\n"
      ],
      "metadata": {
        "id": "ukDA0jgj_02R"
      },
      "execution_count": null,
      "outputs": []
    },
    {
      "cell_type": "code",
      "source": [
        "training_args = TrainingArguments(\n",
        "    output_dir = './results',                   # output directory\n",
        "    num_train_epochs = EPOCHS,                  # total number of training epochs\n",
        "    per_device_train_batch_size = BATCH_SIZE,   # batch size per device during training\n",
        "    per_device_eval_batch_size = BATCH_SIZE,    # batch size for evaluation\n",
        "    warmup_steps = 100,                         # number of warmup steps for learning rate scheduler\n",
        "    weight_decay = 0.01,                        # strength of weight decay\n",
        "    logging_dir = './logs',                     # directory for storing logs\n",
        "    logging_steps = 10,                         # when to print log\n",
        "    save_strategy = 'no',\n",
        "    load_best_model_at_end = True,              # load or not best model at the end\n",
        ")"
      ],
      "metadata": {
        "id": "Wooek9-R10od"
      },
      "execution_count": null,
      "outputs": []
    },
    {
      "cell_type": "code",
      "source": [
        "model = XLMTRegressor(xlmt_model)\n",
        "\n",
        "df_train, df_val, df_test = train_val_test_split(df)\n",
        "\n",
        "train_dataset = HuggingfaceRegressionIntimacyDataset(df_train, xlmt_tokenizer)\n",
        "val_dataset =  HuggingfaceRegressionIntimacyDataset(df_val, xlmt_tokenizer)\n",
        "test_dataset = HuggingfaceRegressionIntimacyDataset(df_test, xlmt_tokenizer)\n",
        "\n",
        "# train_dataloader = torch.utils.data.DataLoader(train, batch_size = 2, shuffle = True)\n",
        "# val_dataloader = torch.utils.data.DataLoader(val, batch_size = 2, shuffle = True)\n"
      ],
      "metadata": {
        "id": "IVpggzte473J"
      },
      "execution_count": null,
      "outputs": []
    },
    {
      "cell_type": "code",
      "source": [
        "train_dataset.encodings"
      ],
      "metadata": {
        "colab": {
          "base_uri": "https://localhost:8080/"
        },
        "id": "-MwV-WnlIptH",
        "outputId": "e31d777a-dc85-409e-b4c2-6aa8c06cb455"
      },
      "execution_count": null,
      "outputs": [
        {
          "output_type": "execute_result",
          "data": {
            "text/plain": [
              "{'input_ids': tensor([[     0,   1818,   2270,  ...,      1,      1,      1],\n",
              "        [     0,   5685,   7632,  ...,      1,      1,      1],\n",
              "        [     0,   1374,  24447,  ...,      1,      1,      1],\n",
              "        ...,\n",
              "        [     0,   1027,    163,  ...,      1,      1,      1],\n",
              "        [     0,   1374, 118571,  ...,      1,      1,      1],\n",
              "        [     0,   6376, 239208,  ...,      1,      1,      1]]), 'attention_mask': tensor([[1, 1, 1,  ..., 0, 0, 0],\n",
              "        [1, 1, 1,  ..., 0, 0, 0],\n",
              "        [1, 1, 1,  ..., 0, 0, 0],\n",
              "        ...,\n",
              "        [1, 1, 1,  ..., 0, 0, 0],\n",
              "        [1, 1, 1,  ..., 0, 0, 0],\n",
              "        [1, 1, 1,  ..., 0, 0, 0]])}"
            ]
          },
          "metadata": {},
          "execution_count": 20
        }
      ]
    },
    {
      "cell_type": "code",
      "source": [
        "trainer = Trainer(\n",
        "    model = model,                              # the instantiated 🤗 Transformers model to be trained\n",
        "    args = training_args,                       # training arguments, defined above\n",
        "    train_dataset = train_dataset,              # training dataset\n",
        "    eval_dataset = val_dataset                  # evaluation dataset\n",
        ")\n",
        "\n",
        "trainer.train()"
      ],
      "metadata": {
        "colab": {
          "base_uri": "https://localhost:8080/",
          "height": 903
        },
        "id": "Uj7gxmJ14t2m",
        "outputId": "397ceec7-bc8a-4806-90b0-8ef2cb3275be"
      },
      "execution_count": null,
      "outputs": [
        {
          "output_type": "error",
          "ename": "AttributeError",
          "evalue": "ignored",
          "traceback": [
            "\u001b[0;31m---------------------------------------------------------------------------\u001b[0m",
            "\u001b[0;31mAttributeError\u001b[0m                            Traceback (most recent call last)",
            "\u001b[0;32m<ipython-input-19-fb49362fd0f0>\u001b[0m in \u001b[0;36m<module>\u001b[0;34m\u001b[0m\n\u001b[1;32m      6\u001b[0m )\n\u001b[1;32m      7\u001b[0m \u001b[0;34m\u001b[0m\u001b[0m\n\u001b[0;32m----> 8\u001b[0;31m \u001b[0mtrainer\u001b[0m\u001b[0;34m.\u001b[0m\u001b[0mtrain\u001b[0m\u001b[0;34m(\u001b[0m\u001b[0;34m)\u001b[0m\u001b[0;34m\u001b[0m\u001b[0;34m\u001b[0m\u001b[0m\n\u001b[0m",
            "\u001b[0;32m/usr/local/lib/python3.8/dist-packages/transformers/trainer.py\u001b[0m in \u001b[0;36mtrain\u001b[0;34m(self, resume_from_checkpoint, trial, ignore_keys_for_eval, **kwargs)\u001b[0m\n\u001b[1;32m   1541\u001b[0m             \u001b[0mself\u001b[0m\u001b[0;34m.\u001b[0m\u001b[0m_inner_training_loop\u001b[0m\u001b[0;34m,\u001b[0m \u001b[0mself\u001b[0m\u001b[0;34m.\u001b[0m\u001b[0m_train_batch_size\u001b[0m\u001b[0;34m,\u001b[0m \u001b[0margs\u001b[0m\u001b[0;34m.\u001b[0m\u001b[0mauto_find_batch_size\u001b[0m\u001b[0;34m\u001b[0m\u001b[0;34m\u001b[0m\u001b[0m\n\u001b[1;32m   1542\u001b[0m         )\n\u001b[0;32m-> 1543\u001b[0;31m         return inner_training_loop(\n\u001b[0m\u001b[1;32m   1544\u001b[0m             \u001b[0margs\u001b[0m\u001b[0;34m=\u001b[0m\u001b[0margs\u001b[0m\u001b[0;34m,\u001b[0m\u001b[0;34m\u001b[0m\u001b[0;34m\u001b[0m\u001b[0m\n\u001b[1;32m   1545\u001b[0m             \u001b[0mresume_from_checkpoint\u001b[0m\u001b[0;34m=\u001b[0m\u001b[0mresume_from_checkpoint\u001b[0m\u001b[0;34m,\u001b[0m\u001b[0;34m\u001b[0m\u001b[0;34m\u001b[0m\u001b[0m\n",
            "\u001b[0;32m/usr/local/lib/python3.8/dist-packages/transformers/trainer.py\u001b[0m in \u001b[0;36m_inner_training_loop\u001b[0;34m(self, batch_size, args, resume_from_checkpoint, trial, ignore_keys_for_eval)\u001b[0m\n\u001b[1;32m   1553\u001b[0m         \u001b[0mself\u001b[0m\u001b[0;34m.\u001b[0m\u001b[0m_train_batch_size\u001b[0m \u001b[0;34m=\u001b[0m \u001b[0mbatch_size\u001b[0m\u001b[0;34m\u001b[0m\u001b[0;34m\u001b[0m\u001b[0m\n\u001b[1;32m   1554\u001b[0m         \u001b[0;31m# Data loader and number of training steps\u001b[0m\u001b[0;34m\u001b[0m\u001b[0;34m\u001b[0m\u001b[0;34m\u001b[0m\u001b[0m\n\u001b[0;32m-> 1555\u001b[0;31m         \u001b[0mtrain_dataloader\u001b[0m \u001b[0;34m=\u001b[0m \u001b[0mself\u001b[0m\u001b[0;34m.\u001b[0m\u001b[0mget_train_dataloader\u001b[0m\u001b[0;34m(\u001b[0m\u001b[0;34m)\u001b[0m\u001b[0;34m\u001b[0m\u001b[0;34m\u001b[0m\u001b[0m\n\u001b[0m\u001b[1;32m   1556\u001b[0m \u001b[0;34m\u001b[0m\u001b[0m\n\u001b[1;32m   1557\u001b[0m         \u001b[0;31m# Setting up training control variables:\u001b[0m\u001b[0;34m\u001b[0m\u001b[0;34m\u001b[0m\u001b[0;34m\u001b[0m\u001b[0m\n",
            "\u001b[0;32m/usr/local/lib/python3.8/dist-packages/transformers/trainer.py\u001b[0m in \u001b[0;36mget_train_dataloader\u001b[0;34m(self)\u001b[0m\n\u001b[1;32m    829\u001b[0m         \u001b[0mdata_collator\u001b[0m \u001b[0;34m=\u001b[0m \u001b[0mself\u001b[0m\u001b[0;34m.\u001b[0m\u001b[0mdata_collator\u001b[0m\u001b[0;34m\u001b[0m\u001b[0;34m\u001b[0m\u001b[0m\n\u001b[1;32m    830\u001b[0m         \u001b[0;32mif\u001b[0m \u001b[0mis_datasets_available\u001b[0m\u001b[0;34m(\u001b[0m\u001b[0;34m)\u001b[0m \u001b[0;32mand\u001b[0m \u001b[0misinstance\u001b[0m\u001b[0;34m(\u001b[0m\u001b[0mtrain_dataset\u001b[0m\u001b[0;34m,\u001b[0m \u001b[0mdatasets\u001b[0m\u001b[0;34m.\u001b[0m\u001b[0mDataset\u001b[0m\u001b[0;34m)\u001b[0m\u001b[0;34m:\u001b[0m\u001b[0;34m\u001b[0m\u001b[0;34m\u001b[0m\u001b[0m\n\u001b[0;32m--> 831\u001b[0;31m             \u001b[0mtrain_dataset\u001b[0m \u001b[0;34m=\u001b[0m \u001b[0mself\u001b[0m\u001b[0;34m.\u001b[0m\u001b[0m_remove_unused_columns\u001b[0m\u001b[0;34m(\u001b[0m\u001b[0mtrain_dataset\u001b[0m\u001b[0;34m,\u001b[0m \u001b[0mdescription\u001b[0m\u001b[0;34m=\u001b[0m\u001b[0;34m\"training\"\u001b[0m\u001b[0;34m)\u001b[0m\u001b[0;34m\u001b[0m\u001b[0;34m\u001b[0m\u001b[0m\n\u001b[0m\u001b[1;32m    832\u001b[0m         \u001b[0;32melse\u001b[0m\u001b[0;34m:\u001b[0m\u001b[0;34m\u001b[0m\u001b[0;34m\u001b[0m\u001b[0m\n\u001b[1;32m    833\u001b[0m             \u001b[0mdata_collator\u001b[0m \u001b[0;34m=\u001b[0m \u001b[0mself\u001b[0m\u001b[0;34m.\u001b[0m\u001b[0m_get_collator_with_removed_columns\u001b[0m\u001b[0;34m(\u001b[0m\u001b[0mdata_collator\u001b[0m\u001b[0;34m,\u001b[0m \u001b[0mdescription\u001b[0m\u001b[0;34m=\u001b[0m\u001b[0;34m\"training\"\u001b[0m\u001b[0;34m)\u001b[0m\u001b[0;34m\u001b[0m\u001b[0;34m\u001b[0m\u001b[0m\n",
            "\u001b[0;32m/usr/local/lib/python3.8/dist-packages/transformers/trainer.py\u001b[0m in \u001b[0;36m_remove_unused_columns\u001b[0;34m(self, dataset, description)\u001b[0m\n\u001b[1;32m    705\u001b[0m         \u001b[0msignature_columns\u001b[0m \u001b[0;34m=\u001b[0m \u001b[0mself\u001b[0m\u001b[0;34m.\u001b[0m\u001b[0m_signature_columns\u001b[0m\u001b[0;34m\u001b[0m\u001b[0;34m\u001b[0m\u001b[0m\n\u001b[1;32m    706\u001b[0m \u001b[0;34m\u001b[0m\u001b[0m\n\u001b[0;32m--> 707\u001b[0;31m         \u001b[0mignored_columns\u001b[0m \u001b[0;34m=\u001b[0m \u001b[0mlist\u001b[0m\u001b[0;34m(\u001b[0m\u001b[0mset\u001b[0m\u001b[0;34m(\u001b[0m\u001b[0mdataset\u001b[0m\u001b[0;34m.\u001b[0m\u001b[0mcolumn_names\u001b[0m\u001b[0;34m)\u001b[0m \u001b[0;34m-\u001b[0m \u001b[0mset\u001b[0m\u001b[0;34m(\u001b[0m\u001b[0msignature_columns\u001b[0m\u001b[0;34m)\u001b[0m\u001b[0;34m)\u001b[0m\u001b[0;34m\u001b[0m\u001b[0;34m\u001b[0m\u001b[0m\n\u001b[0m\u001b[1;32m    708\u001b[0m         \u001b[0;32mif\u001b[0m \u001b[0mlen\u001b[0m\u001b[0;34m(\u001b[0m\u001b[0mignored_columns\u001b[0m\u001b[0;34m)\u001b[0m \u001b[0;34m>\u001b[0m \u001b[0;36m0\u001b[0m\u001b[0;34m:\u001b[0m\u001b[0;34m\u001b[0m\u001b[0;34m\u001b[0m\u001b[0m\n\u001b[1;32m    709\u001b[0m             \u001b[0mdset_description\u001b[0m \u001b[0;34m=\u001b[0m \u001b[0;34m\"\"\u001b[0m \u001b[0;32mif\u001b[0m \u001b[0mdescription\u001b[0m \u001b[0;32mis\u001b[0m \u001b[0;32mNone\u001b[0m \u001b[0;32melse\u001b[0m \u001b[0;34mf\"in the {description} set\"\u001b[0m\u001b[0;34m\u001b[0m\u001b[0;34m\u001b[0m\u001b[0m\n",
            "\u001b[0;32m/usr/local/lib/python3.8/dist-packages/datasets/arrow_dataset.py\u001b[0m in \u001b[0;36mcolumn_names\u001b[0;34m(self)\u001b[0m\n\u001b[1;32m   1655\u001b[0m         \u001b[0;31m`\u001b[0m\u001b[0;31m`\u001b[0m\u001b[0;31m`\u001b[0m\u001b[0;34m\u001b[0m\u001b[0;34m\u001b[0m\u001b[0m\n\u001b[1;32m   1656\u001b[0m         \"\"\"\n\u001b[0;32m-> 1657\u001b[0;31m         \u001b[0;32mreturn\u001b[0m \u001b[0mself\u001b[0m\u001b[0;34m.\u001b[0m\u001b[0m_data\u001b[0m\u001b[0;34m.\u001b[0m\u001b[0mcolumn_names\u001b[0m\u001b[0;34m\u001b[0m\u001b[0;34m\u001b[0m\u001b[0m\n\u001b[0m\u001b[1;32m   1658\u001b[0m \u001b[0;34m\u001b[0m\u001b[0m\n\u001b[1;32m   1659\u001b[0m     \u001b[0;34m@\u001b[0m\u001b[0mproperty\u001b[0m\u001b[0;34m\u001b[0m\u001b[0;34m\u001b[0m\u001b[0m\n",
            "\u001b[0;31mAttributeError\u001b[0m: 'HuggingfaceRegressionIntimacyDataset' object has no attribute '_data'"
          ]
        }
      ]
    },
    {
      "cell_type": "markdown",
      "source": [
        "# Bert base"
      ],
      "metadata": {
        "id": "FR9OR2lt7DWq"
      }
    },
    {
      "cell_type": "markdown",
      "source": [
        "## Dataset class"
      ],
      "metadata": {
        "id": "bY4u7hSPxMXC"
      }
    },
    {
      "cell_type": "code",
      "source": [
        "# 15 Epochs\n",
        "# learning rate 0.001\n",
        "# batch size 128\n",
        "# optimizer AdamW"
      ],
      "metadata": {
        "id": "td4HoQGNBk9W"
      },
      "execution_count": null,
      "outputs": []
    },
    {
      "cell_type": "code",
      "source": [
        "# tokenizer for tokenization of texts\n",
        "bert_base_uncased_tokenizer = BertTokenizer.from_pretrained('bert-base-uncased')  # cased or uncased?\n",
        "\n",
        "\n",
        "class IntimacyBertBaseUncasedDataset(Dataset):\n",
        "    def __init__(self, df):\n",
        "        self.all_data = df\n",
        "\n",
        "        # unique intimacy scores exist in our datasets\n",
        "        self.unique_scores = sorted(self.all_data['label'].unique())\n",
        "\n",
        "        # dictionary for mapping intimacy scores to labels\n",
        "        self.scores_to_labels = dict()\n",
        "        for i, item in enumerate(self.unique_scores):\n",
        "            self.scores_to_labels[item] = i\n",
        "        \n",
        "\n",
        "        # tokenized texts of our dataset\n",
        "        self.texts = [bert_base_uncased_tokenizer(text, padding='max_length', max_length = 512, truncation=True, return_tensors=\"pt\") \n",
        "                                for text in self.all_data['text']]\n",
        "\n",
        "        # labels of each text in our dataset based on intimacy scores\n",
        "        # self.labels = [self.scores_to_labels[label] for label in self.all_data['label']]\n",
        "        scaler = MinMaxScaler()\n",
        "        self.labels = scaler.fit_transform(self.all_data['label'].to_numpy().reshape(-1, 1))\n",
        "    \n",
        "    def classes(self,):\n",
        "        return self.labels\n",
        "    \n",
        "    def __len__(self):\n",
        "        return len(self.labels)\n",
        "    \n",
        "    def get_batch_texts(self, idx):\n",
        "        # Fetch a batch of inputs\n",
        "        return self.texts[idx]\n",
        "    \n",
        "    def get_batch_labels(self, idx):\n",
        "        # Fetch a batch of labels\n",
        "        return np.array(self.labels[idx])\n",
        "    \n",
        "    def get_max_setntence_len(self):\n",
        "        # get length of longest sentence in our dataset\n",
        "        return max(self.all_data['len'])\n",
        "    \n",
        "    def __getitem__(self, idx):\n",
        "        batch_texts = self.get_batch_texts(idx)\n",
        "        batch_labels = self.get_batch_labels(idx)\n",
        "        \n",
        "        return batch_texts, batch_labels\n",
        "\n",
        "\n",
        "class RegressionIntimacyBertBaseUncasedDataset(Dataset):\n",
        "    def __init__(self, df):\n",
        "        self.all_data = df\n",
        "        \n",
        "        # dictionary for mapping intimacy scores to labels\n",
        "        self.scores_to_labels = dict()\n",
        "        for i, item in enumerate(self.unique_scores):\n",
        "            self.scores_to_labels[item] = i\n",
        "        \n",
        "\n",
        "        # tokenized texts of our dataset\n",
        "        self.texts = [bert_base_uncased_tokenizer(text, padding='max_length', max_length = 512, truncation=True, return_tensors=\"pt\") \n",
        "                                for text in self.all_data['text']]\n",
        "\n",
        "        # intimacy scores\n",
        "        scaler = MinMaxScaler()\n",
        "        self.labels = scaler.fit_transform(self.all_data['label'].to_numpy().reshape(-1, 1))\n",
        "    \n",
        "    def classes(self,):\n",
        "        return self.labels\n",
        "    \n",
        "    def __len__(self):\n",
        "        return len(self.labels)\n",
        "    \n",
        "    def get_batch_texts(self, idx):\n",
        "        # Fetch a batch of inputs\n",
        "        return self.texts[idx]\n",
        "    \n",
        "    def get_batch_labels(self, idx):\n",
        "        # Fetch a batch of labels\n",
        "        return np.array(self.labels[idx])\n",
        "    \n",
        "    def get_max_setntence_len(self):\n",
        "        # get length of longest sentence in our dataset\n",
        "        return max(self.all_data['len'])\n",
        "    \n",
        "    def __getitem__(self, idx):\n",
        "        batch_texts = self.get_batch_texts(idx)\n",
        "        batch_labels = self.get_batch_labels(idx)\n",
        "        \n",
        "        return batch_texts, batch_labels\n",
        "\n",
        "\n"
      ],
      "metadata": {
        "id": "KDpZALcps9ZN"
      },
      "execution_count": null,
      "outputs": []
    },
    {
      "cell_type": "code",
      "source": [
        "df = read_data()\n",
        "intim_dataset = IntimacyDataset(df)\n",
        "print(intim_dataset.labels)"
      ],
      "metadata": {
        "id": "LgDWLBeAzmFd",
        "colab": {
          "base_uri": "https://localhost:8080/"
        },
        "outputId": "9f9e529f-a5ce-4a22-ea41-46767616c2ef"
      },
      "execution_count": null,
      "outputs": [
        {
          "output_type": "stream",
          "name": "stdout",
          "text": [
            "[9, 0, 0, 6, 6, 2, 1, 4, 20, 0, 6, 3, 30, 34, 16, 0, 20, 16, 4, 9, 15, 2, 16, 1, 0, 15, 4, 0, 8, 0, 2, 5, 1, 30, 0, 11, 19, 2, 12, 3, 1, 6, 10, 5, 4, 0, 10, 8, 8, 0, 12, 0, 1, 14, 2, 11, 9, 0, 10, 0, 0, 2, 0, 16, 9, 10, 20, 4, 6, 22, 0, 6, 20, 6, 6, 21, 13, 9, 0, 8, 0, 12, 0, 0, 0, 1, 6, 19, 10, 20, 1, 10, 10, 10, 0, 20, 40, 2, 2, 6, 4, 4, 9, 21, 0, 16, 0, 1, 1, 14, 10, 10, 4, 22, 9, 6, 0, 3, 15, 8, 10, 1, 1, 6, 11, 10, 10, 2, 1, 4, 20, 11, 11, 2, 11, 9, 10, 22, 15, 0, 10, 14, 1, 2, 0, 11, 9, 3, 22, 6, 21, 9, 19, 9, 1, 18, 5, 4, 1, 8, 22, 0, 4, 11, 6, 10, 0, 8, 29, 6, 4, 11, 0, 0, 6, 27, 9, 6, 8, 5, 5, 30, 20, 4, 9, 7, 1, 6, 10, 1, 2, 18, 0, 9, 26, 10, 30, 14, 21, 9, 0, 11, 0, 25, 1, 15, 5, 23, 9, 14, 0, 2, 6, 13, 6, 10, 21, 18, 2, 8, 12, 11, 11, 8, 24, 4, 0, 9, 1, 19, 10, 0, 25, 29, 0, 11, 0, 0, 10, 0, 0, 0, 0, 10, 1, 6, 0, 10, 0, 6, 0, 6, 20, 0, 0, 20, 10, 0, 19, 0, 6, 10, 10, 18, 0, 30, 0, 11, 10, 6, 10, 8, 11, 19, 1, 2, 0, 0, 5, 8, 0, 2, 4, 15, 18, 20, 4, 10, 11, 4, 0, 0, 4, 0, 0, 6, 3, 10, 9, 0, 4, 0, 8, 16, 5, 7, 10, 10, 6, 5, 17, 10, 15, 11, 19, 4, 1, 21, 10, 6, 11, 0, 10, 1, 20, 5, 19, 6, 7, 10, 0, 0, 9, 8, 0, 3, 25, 2, 4, 1, 4, 0, 0, 0, 0, 1, 19, 6, 11, 0, 5, 8, 28, 6, 0, 14, 0, 5, 12, 2, 0, 0, 6, 1, 5, 4, 4, 14, 5, 16, 0, 9, 16, 14, 7, 4, 24, 4, 8, 0, 6, 18, 21, 6, 10, 5, 0, 0, 4, 16, 16, 4, 6, 8, 39, 4, 2, 14, 3, 6, 12, 16, 0, 0, 4, 2, 0, 1, 10, 6, 26, 0, 11, 20, 2, 3, 5, 6, 39, 9, 4, 1, 23, 1, 10, 0, 5, 1, 1, 11, 6, 19, 1, 9, 10, 16, 9, 2, 0, 16, 1, 5, 11, 6, 0, 16, 16, 0, 15, 1, 8, 6, 0, 1, 12, 10, 11, 0, 15, 11, 0, 6, 12, 4, 1, 19, 16, 18, 0, 20, 16, 7, 4, 4, 31, 6, 11, 0, 6, 21, 10, 10, 10, 0, 10, 11, 10, 4, 6, 9, 0, 2, 8, 14, 10, 5, 20, 12, 10, 2, 5, 0, 2, 0, 9, 14, 11, 12, 30, 8, 9, 14, 9, 0, 0, 24, 4, 4, 0, 18, 5, 0, 8, 0, 6, 0, 9, 9, 0, 9, 9, 22, 10, 11, 0, 6, 2, 21, 14, 0, 22, 0, 6, 16, 9, 16, 1, 2, 34, 14, 0, 8, 4, 22, 0, 6, 0, 1, 0, 0, 10, 4, 5, 5, 0, 16, 1, 20, 6, 10, 10, 0, 2, 4, 14, 5, 28, 10, 14, 1, 2, 1, 20, 0, 6, 16, 0, 11, 6, 16, 14, 1, 0, 8, 5, 0, 15, 5, 0, 3, 11, 0, 0, 0, 6, 15, 4, 0, 10, 7, 7, 0, 0, 22, 1, 6, 4, 14, 2, 2, 0, 30, 0, 2, 10, 4, 0, 0, 1, 7, 10, 0, 14, 11, 21, 15, 0, 5, 0, 11, 4, 15, 11, 31, 19, 7, 8, 0, 0, 20, 6, 6, 0, 16, 7, 12, 9, 31, 18, 21, 6, 9, 6, 6, 14, 30, 20, 10, 0, 12, 15, 40, 9, 0, 0, 10, 4, 11, 1, 20, 0, 30, 0, 15, 6, 1, 4, 4, 16, 0, 34, 10, 0, 12, 14, 5, 20, 3, 1, 0, 5, 5, 9, 4, 2, 10, 20, 1, 5, 0, 19, 1, 11, 4, 2, 10, 0, 20, 9, 10, 14, 5, 21, 14, 10, 5, 10, 0, 14, 10, 16, 1, 0, 21, 2, 21, 4, 0, 9, 34, 14, 18, 2, 9, 1, 12, 11, 6, 0, 0, 7, 24, 0, 10, 5, 40, 17, 1, 19, 0, 1, 5, 11, 22, 11, 7, 0, 9, 0, 0, 0, 11, 20, 15, 1, 5, 4, 20, 1, 2, 15, 1, 18, 4, 8, 5, 25, 6, 10, 10, 5, 11, 0, 5, 2, 25, 1, 8, 5, 18, 19, 9, 6, 40, 2, 12, 6, 19, 4, 20, 11, 2, 18, 23, 1, 0, 34, 0, 6, 0, 0, 5, 19, 11, 10, 1, 11, 0, 11, 4, 4, 12, 9, 0, 16, 0, 10, 14, 10, 2, 21, 15, 4, 10, 16, 9, 11, 0, 5, 21, 11, 14, 4, 1, 16, 9, 9, 12, 1, 16, 0, 9, 6, 0, 5, 10, 20, 11, 0, 5, 0, 5, 0, 20, 4, 18, 26, 4, 11, 4, 2, 14, 15, 15, 0, 11, 9, 2, 0, 2, 10, 6, 6, 19, 5, 16, 4, 21, 19, 8, 10, 2, 4, 10, 6, 5, 10, 0, 3, 12, 10, 30, 0, 8, 0, 0, 9, 10, 9, 0, 0, 10, 6, 9, 9, 11, 1, 0, 21, 29, 12, 0, 32, 40, 0, 0, 0, 3, 0, 16, 9, 20, 12, 10, 0, 2, 0, 26, 6, 34, 14, 6, 11, 0, 10, 16, 4, 12, 1, 0, 0, 4, 20, 10, 14, 9, 1, 25, 0, 8, 0, 11, 2, 0, 10, 0, 14, 4, 12, 5, 8, 4, 0, 12, 0, 24, 5, 10, 14, 0, 8, 30, 2, 19, 0, 9, 10, 0, 10, 20, 22, 3, 26, 26, 0, 12, 20, 0, 29, 0, 10, 15, 25, 1, 14, 0, 22, 7, 0, 9, 29, 31, 0, 0, 1, 16, 6, 9, 9, 25, 10, 8, 2, 10, 16, 22, 9, 24, 13, 29, 20, 2, 11, 0, 2, 0, 0, 24, 39, 9, 5, 6, 2, 22, 6, 3, 0, 20, 1, 7, 0, 0, 21, 1, 10, 5, 1, 0, 10, 8, 29, 15, 10, 10, 2, 2, 21, 0, 0, 0, 0, 1, 15, 0, 0, 2, 0, 9, 10, 0, 17, 0, 17, 29, 24, 22, 1, 8, 1, 10, 16, 10, 19, 21, 5, 26, 34, 0, 28, 0, 0, 7, 14, 0, 6, 6, 6, 39, 4, 10, 2, 24, 0, 5, 2, 7, 16, 0, 26, 1, 0, 0, 0, 1, 5, 4, 0, 0, 0, 10, 6, 1, 10, 5, 19, 5, 30, 0, 0, 9, 12, 6, 10, 31, 1, 0, 10, 16, 25, 6, 0, 10, 20, 26, 11, 0, 4, 22, 0, 24, 0, 34, 7, 5, 0, 10, 10, 10, 21, 3, 0, 0, 11, 0, 2, 2, 0, 8, 25, 6, 28, 0, 6, 0, 0, 11, 11, 20, 13, 0, 4, 21, 1, 0, 18, 20, 20, 31, 14, 0, 0, 19, 22, 11, 0, 19, 2, 1, 4, 4, 2, 10, 5, 8, 1, 1, 0, 33, 9, 0, 5, 5, 5, 7, 4, 4, 18, 4, 21, 0, 3, 2, 4, 11, 5, 1, 20, 10, 0, 10, 2, 12, 26, 21, 10, 14, 0, 0, 6, 10, 20, 26, 19, 11, 16, 16, 10, 0, 10, 0, 22, 19, 16, 5, 8, 39, 15, 3, 2, 6, 32, 12, 0, 0, 0, 20, 21, 0, 22, 0, 0, 2, 9, 19, 26, 0, 20, 11, 5, 0, 31, 2, 0, 9, 0, 4, 8, 16, 0, 31, 20, 2, 8, 0, 16, 15, 0, 2, 2, 22, 25, 28, 5, 0, 26, 20, 6, 17, 6, 10, 5, 4, 1, 0, 30, 0, 0, 18, 2, 0, 0, 21, 3, 0, 30, 8, 9, 2, 0, 17, 1, 1, 1, 0, 0, 9, 31, 5, 30, 0, 0, 0, 20, 38, 19, 0, 0, 22, 20, 0, 36, 30, 2, 8, 13, 8, 2, 1, 40, 2, 8, 3, 13, 14, 1, 4, 1, 4, 0, 10, 5, 23, 5, 0, 10, 24, 2, 5, 15, 0, 30, 21, 0, 1, 11, 26, 4, 7, 22, 1, 1, 40, 31, 0, 15, 0, 1, 0, 10, 17, 40, 3, 20, 11, 0, 5, 0, 16, 0, 22, 6, 2, 0, 0, 37, 4, 0, 0, 15, 1, 20, 10, 10, 0, 0, 5, 4, 16, 15, 20, 11, 20, 18, 5, 2, 9, 0, 8, 17, 0, 20, 8, 9, 0, 7, 0, 20, 0, 23, 1, 0, 6, 0, 0, 0, 9, 1, 16, 0, 0, 23, 13, 10, 32, 0, 18, 0, 25, 9, 0, 15, 14, 26, 2, 0, 0, 7, 6, 4, 12, 2, 15, 20, 20, 25, 4, 10, 25, 1, 6, 0, 5, 9, 10, 3, 0, 19, 20, 2, 0, 1, 0, 24, 20, 0, 10, 23, 16, 0, 0, 0, 19, 1, 10, 8, 16, 5, 23, 0, 26, 12, 5, 10, 11, 0, 26, 20, 20, 21, 18, 0, 29, 0, 7, 8, 26, 5, 0, 0, 17, 1, 3, 7, 2, 28, 0, 8, 7, 6, 0, 7, 5, 29, 34, 0, 15, 0, 0, 24, 20, 0, 0, 11, 6, 0, 26, 16, 6, 11, 21, 4, 13, 34, 18, 12, 4, 16, 24, 0, 26, 20, 10, 21, 0, 1, 0, 20, 14, 5, 9, 15, 4, 1, 39, 4, 12, 30, 10, 18, 0, 0, 6, 18, 1, 14, 4, 7, 11, 3, 10, 6, 30, 13, 10, 5, 15, 15, 25, 4, 0, 9, 16, 0, 9, 0, 0, 6, 26, 15, 21, 2, 16, 20, 16, 28, 2, 0, 6, 15, 8, 0, 0, 20, 9, 10, 18, 19, 6, 9, 15, 6, 2, 9, 10, 14, 6, 20, 2, 4, 1, 10, 24, 24, 21, 20, 20, 6, 10, 20, 29, 0, 14, 30, 8, 19, 11, 29, 12, 5, 6, 0, 4, 20, 10, 20, 28, 0, 32, 26, 18, 5, 25, 22, 12, 0, 0, 19, 5, 0, 4, 4, 4, 27, 20, 6, 0, 19, 1, 19, 24, 14, 1, 3, 9, 0, 2, 24, 2, 29, 0, 11, 0, 25, 10, 11, 3, 10, 10, 0, 14, 8, 0, 21, 6, 9, 23, 16, 0, 18, 15, 29, 0, 10, 22, 0, 7, 9, 6, 8, 8, 4, 6, 24, 10, 26, 9, 8, 6, 24, 14, 26, 2, 4, 11, 0, 11, 5, 9, 10, 4, 8, 1, 6, 28, 5, 20, 11, 33, 31, 0, 14, 7, 7, 0, 6, 20, 9, 10, 11, 10, 4, 2, 11, 5, 9, 22, 9, 19, 10, 10, 5, 8, 2, 4, 30, 5, 16, 0, 3, 11, 14, 10, 24, 8, 18, 21, 12, 0, 27, 10, 5, 0, 24, 0, 7, 8, 10, 35, 25, 11, 10, 10, 0, 10, 1, 31, 12, 11, 1, 5, 10, 14, 6, 14, 8, 18, 6, 20, 0, 25, 12, 10, 17, 26, 4, 6, 16, 10, 0, 4, 10, 24, 9, 6, 19, 6, 11, 1, 40, 0, 14, 32, 14, 36, 4, 6, 0, 16, 0, 15, 20, 20, 2, 10, 14, 14, 9, 5, 16, 3, 10, 7, 10, 14, 21, 11, 20, 6, 18, 10, 14, 10, 21, 19, 16, 9, 29, 0, 20, 1, 0, 10, 14, 2, 5, 9, 9, 24, 10, 12, 13, 8, 21, 10, 0, 22, 10, 4, 36, 30, 8, 14, 19, 10, 14, 0, 22, 8, 1, 0, 9, 4, 28, 0, 14, 22, 26, 1, 15, 6, 14, 16, 2, 8, 10, 20, 0, 0, 19, 21, 21, 8, 9, 30, 20, 0, 19, 24, 30, 12, 8, 6, 22, 18, 12, 18, 0, 20, 19, 6, 18, 31, 6, 20, 0, 20, 10, 14, 10, 31, 11, 8, 4, 10, 1, 12, 0, 1, 30, 20, 6, 10, 16, 22, 2, 32, 0, 1, 24, 20, 4, 19, 14, 25, 0, 26, 21, 0, 4, 5, 10, 2, 0, 20, 10, 2, 14, 9, 0, 29, 10, 29, 2, 1, 1, 19, 21, 21, 15, 4, 29, 0, 29, 11, 24, 19, 0, 25, 23, 0, 1, 10, 1, 31, 14, 20, 19, 4, 0, 9, 1, 14, 14, 4, 19, 1, 5, 1, 9, 9, 12, 8, 20, 11, 14, 5, 9, 1, 7, 0, 8, 10, 28, 0, 21, 8, 9, 1, 12, 2, 16, 20, 5, 20, 0, 36, 1, 24, 4, 21, 0, 15, 31, 18, 10, 30, 0, 6, 11, 36, 26, 8, 4, 1, 20, 16, 19, 16, 20, 14, 4, 0, 8, 24, 10, 29, 6, 19, 9, 10, 24, 0, 9, 2, 16, 20, 4, 5, 40, 30, 10, 26, 1, 10, 11, 1, 0, 34, 11, 26, 6, 6, 24, 6, 19, 9, 22, 11, 4, 0, 1, 14, 22, 2, 18, 1, 39, 9, 6, 10, 24, 0, 16, 0, 0, 1, 29, 15, 16, 20, 9, 20, 19, 4, 16, 1, 9, 10, 9, 19, 6, 6, 0, 0, 6, 0, 26, 21, 12, 4, 10, 10, 5, 9, 32, 29, 16, 0, 10, 12, 10, 10, 21, 10, 39, 19, 0, 29, 2, 24, 16, 9, 21, 20, 15, 2, 4, 35, 4, 24, 11, 30, 0, 28, 0, 6, 19, 16, 14, 11, 19, 11, 31, 6, 19, 16, 19, 5, 34, 22, 1, 20, 1, 16, 4, 26, 0, 25, 0, 21, 1, 10, 14, 26, 0, 1, 0, 0, 4, 15, 20, 25, 8, 0, 31, 2, 8, 6, 25, 19, 15, 24, 26, 6, 0, 20, 24, 0, 9, 5, 8, 14, 16, 20, 16, 20, 24, 8, 4, 6, 1, 10, 0, 24, 0, 4, 10, 0, 0, 10, 15, 0, 14, 12, 4, 12, 12, 12, 20, 24, 11, 4, 11, 5, 10, 15, 1, 0, 1, 2, 14, 39, 19, 8, 30, 10, 9, 18, 1, 19, 20, 20, 14, 19, 4, 19, 9, 11, 14, 6, 30, 14, 12, 9, 14, 11, 11, 26, 0, 30, 8, 1, 1, 0, 13, 0, 10, 21, 10, 0, 0, 16, 0, 9, 2, 20, 39, 0, 20, 5, 19, 14, 0, 30, 4, 15, 29, 4, 20, 2, 20, 14, 10, 6, 4, 4, 14, 21, 11, 1, 10, 2, 31, 19, 6, 10, 16, 30, 0, 16, 31, 9, 11, 1, 9, 9, 32, 0, 2, 36, 1, 11, 12, 9, 26, 29, 14, 14, 19, 14, 0, 16, 26, 0, 24, 4, 0, 30, 9, 0, 19, 2, 16, 0, 10, 36, 21, 16, 14, 31, 7, 29, 14, 1, 19, 0, 21, 10, 0, 20, 10, 9, 12, 10, 29, 21, 4, 0, 17, 10, 10, 1, 6, 12, 19, 10, 6, 4, 16, 4, 9, 11, 0, 10, 0, 11, 9, 12, 19, 24, 10, 10, 21, 9, 0, 5, 1, 14, 30, 6, 14, 19, 26, 21, 0, 24, 0, 0, 34, 4, 0, 11, 2, 4, 21, 4, 9, 20, 19, 4, 24, 10, 20, 9, 9, 4, 16, 1, 6, 6, 19, 4, 1, 0, 19, 26, 5, 0, 19, 29, 14, 4, 11, 6, 8, 11, 6, 10, 10, 19, 0, 20, 26, 20, 39, 6, 19, 19, 0, 24, 9, 4, 9, 5, 0, 4, 14, 0, 14, 14, 1, 12, 20, 12, 9, 5, 10, 9, 1, 24, 30, 0, 4, 29, 7, 9, 6, 20, 6, 11, 0, 0, 9, 0, 0, 9, 9, 4, 26, 24, 6, 24, 14, 26, 11, 11, 11, 1, 4, 19, 19, 10, 9, 19, 9, 0, 10, 0, 24, 1, 0, 34, 26, 11, 12, 10, 4, 1, 1, 6, 4, 10, 9, 14, 21, 16, 9, 11, 19, 19, 4, 14, 0, 0, 11, 6, 10, 0, 30, 10, 9, 4, 4, 1, 10, 0, 0, 19, 24, 3, 0, 6, 20, 24, 0, 4, 19, 6, 14, 6, 1, 9, 2, 9, 14, 11, 11, 0, 0, 10, 24, 0, 14, 9, 24, 4, 6, 31, 31, 10, 0, 10, 34, 6, 11, 34, 4, 0, 17, 1, 14, 6, 1, 9, 13, 2, 24, 26, 4, 4, 24, 0, 21, 24, 16, 10, 1, 24, 10, 26, 4, 2, 21, 0, 11, 21, 1, 18, 21, 0, 0, 29, 14, 10, 4, 29, 6, 14, 11, 4, 28, 16, 0, 20, 0, 4, 0, 11, 11, 20, 21, 34, 0, 38, 10, 8, 24, 16, 16, 8, 10, 10, 4, 18, 8, 18, 20, 0, 6, 32, 24, 1, 16, 19, 1, 31, 0, 9, 16, 10, 0, 17, 4, 9, 5, 1, 11, 1, 29, 31, 0, 4, 16, 16, 9, 30, 21, 9, 11, 5, 31, 14, 21, 9, 27, 3, 0, 0, 1, 36, 16, 20, 4, 19, 11, 5, 15, 14, 10, 6, 1, 19, 5, 6, 16, 16, 9, 5, 26, 4, 11, 2, 20, 31, 20, 4, 6, 9, 2, 0, 29, 21, 31, 24, 11, 10, 36, 19, 4, 20, 0, 30, 16, 6, 20, 24, 16, 2, 19, 11, 1, 6, 16, 2, 20, 9, 10, 12, 15, 19, 29, 1, 4, 21, 24, 23, 10, 31, 14, 8, 21, 0, 4, 12, 29, 26, 10, 24, 21, 26, 5, 21, 20, 21, 6, 28, 6, 0, 5, 9, 6, 28, 24, 14, 5, 28, 37, 0, 11, 5, 10, 19, 20, 0, 26, 16, 0, 13, 3, 6, 1, 21, 21, 20, 24, 19, 29, 20, 12, 30, 10, 4, 0, 9, 0, 22, 19, 10, 1, 5, 19, 0, 0, 10, 21, 1, 30, 7, 10, 24, 14, 19, 0, 1, 11, 8, 8, 26, 13, 1, 6, 10, 16, 15, 32, 25, 20, 24, 4, 9, 10, 29, 11, 4, 20, 0, 9, 6, 11, 20, 2, 0, 10, 4, 0, 5, 2, 1, 24, 0, 18, 21, 5, 11, 0, 15, 0, 11, 22, 9, 0, 0, 3, 20, 8, 13, 25, 11, 0, 24, 0, 19, 16, 14, 9, 25, 19, 11, 4, 24, 9, 14, 11, 24, 9, 5, 0, 0, 29, 26, 35, 22, 6, 29, 16, 0, 21, 9, 15, 21, 25, 8, 24, 5, 4, 11, 10, 2, 20, 25, 10, 2, 24, 30, 9, 12, 18, 26, 1, 15, 4, 21, 8, 11, 9, 6, 30, 0, 1, 6, 2, 10, 5, 20, 16, 30, 8, 10, 19, 5, 11, 24, 0, 15, 20, 0, 2, 4, 2, 2, 10, 19, 10, 29, 16, 11, 20, 18, 10, 4, 1, 20, 1, 0, 2, 3, 2, 14, 2, 11, 5, 16, 29, 26, 22, 0, 19, 11, 9, 14, 11, 0, 1, 0, 8, 35, 24, 26, 26, 14, 0, 10, 13, 34, 5, 15, 11, 21, 19, 4, 24, 1, 3, 0, 4, 25, 20, 30, 11, 0, 28, 28, 10, 1, 10, 8, 1, 14, 18, 10, 6, 26, 11, 0, 21, 11, 21, 10, 5, 16, 21, 7, 16, 31, 25, 21, 16, 31, 14, 11, 11, 6, 5, 26, 5, 14, 11, 16, 15, 0, 26, 24, 19, 3, 1, 0, 0, 24, 6, 14, 21, 14, 26, 21, 6, 26, 10, 10, 10, 26, 11, 4, 0, 28, 6, 29, 4, 16, 10, 14, 2, 0, 16, 10, 26, 1, 29, 26, 0, 20, 35, 8, 10, 2, 4, 0, 9, 16, 1, 11, 18, 10, 16, 6, 16, 19, 2, 11, 9, 0, 11, 20, 9, 0, 10, 12, 9, 14, 9, 9, 2, 20, 14, 0, 6, 11, 14, 21, 0, 4, 9, 21, 36, 14, 20, 25, 11, 16, 34, 20, 11, 4, 4, 0, 16, 20, 4, 0, 10, 4, 0, 30, 18, 0, 20, 16, 10, 14, 10, 16, 30, 1, 4, 4, 9, 7, 1, 2, 12, 8, 34, 2, 19, 31, 14, 22, 11, 10, 10, 18, 10, 9, 1, 19, 19, 9, 1, 5, 4, 12, 4, 1, 4, 1, 5, 6, 14, 10, 5, 19, 19, 10, 11, 0, 19, 2, 26, 29, 11, 20, 16, 28, 6, 4, 20, 26, 9, 9, 10, 9, 29, 1, 30, 9, 26, 0, 26, 5, 10, 11, 7, 10, 16, 14, 11, 9, 6, 19, 5, 0, 1, 21, 4, 0, 10, 6, 29, 11, 10, 19, 10, 0, 34, 16, 4, 1, 9, 6, 0, 19, 24, 24, 16, 30, 18, 1, 4, 11, 30, 20, 10, 10, 1, 9, 16, 11, 8, 6, 1, 14, 10, 20, 4, 2, 16, 1, 16, 4, 19, 19, 16, 26, 26, 1, 24, 11, 10, 1, 4, 14, 16, 0, 4, 9, 19, 21, 0, 6, 8, 11, 11, 4, 11, 19, 20, 9, 4, 8, 9, 13, 2, 0, 14, 23, 9, 10, 16, 6, 30, 19, 20, 24, 34, 20, 10, 35, 16, 4, 8, 17, 34, 20, 0, 12, 4, 6, 21, 4, 21, 6, 10, 10, 16, 12, 29, 19, 36, 4, 10, 20, 34, 10, 21, 14, 2, 19, 10, 0, 4, 20, 9, 29, 1, 21, 18, 20, 12, 15, 14, 9, 12, 9, 32, 5, 1, 5, 6, 4, 14, 8, 14, 10, 19, 16, 2, 7, 14, 14, 6, 6, 1, 0, 16, 9, 4, 1, 10, 1, 9, 10, 14, 19, 0, 25, 26, 19, 21, 16, 20, 9, 11, 12, 11, 20, 5, 9, 16, 20, 29, 9, 15, 6, 0, 21, 20, 4, 1, 4, 4, 0, 21, 20, 23, 11, 20, 0, 0, 6, 0, 5, 15, 1, 30, 21, 20, 10, 1, 16, 16, 3, 0, 0, 11, 2, 0, 9, 30, 34, 5, 18, 0, 12, 6, 25, 19, 12, 11, 4, 0, 8, 5, 6, 10, 10, 24, 26, 5, 11, 9, 1, 9, 4, 19, 1, 4, 11, 10, 11, 10, 1, 11, 20, 1, 22, 6, 10, 10, 4, 19, 8, 9, 20, 20, 9, 1, 16, 0, 20, 14, 6, 4, 14, 6, 20, 4, 6, 0, 8, 20, 2, 0, 26, 1, 1, 0, 19, 20, 31, 29, 12, 19, 0, 26, 11, 26, 0, 0, 19, 1, 1, 8, 0, 20, 0, 0, 14, 20, 14, 1, 0, 9, 11, 0, 11, 10, 31, 1, 4, 16, 19, 6, 1, 14, 31, 14, 0, 5, 20, 11, 10, 1, 14, 0, 5, 24, 1, 34, 29, 11, 0, 6, 6, 12, 10, 11, 12, 2, 4, 1, 2, 16, 11, 4, 6, 16, 3, 0, 10, 10, 19, 0, 1, 20, 10, 16, 36, 21, 6, 8, 0, 29, 24, 6, 20, 6, 3, 4, 0, 6, 6, 14, 6, 0, 19, 7, 16, 9, 4, 20, 0, 6, 8, 5, 16, 0, 31, 20, 1, 19, 10, 14, 14, 10, 20, 2, 11, 11, 0, 16, 19, 0, 2, 4, 0, 9, 4, 16, 0, 0, 19, 10, 6, 10, 14, 16, 20, 9, 8, 14, 11, 11, 11, 14, 4, 1, 20, 4, 0, 11, 12, 19, 14, 4, 11, 1, 14, 0, 0, 16, 11, 20, 14, 2, 20, 8, 14, 20, 6, 10, 4, 0, 9, 1, 3, 1, 29, 30, 30, 0, 4, 9, 11, 0, 1, 20, 1, 16, 10, 28, 0, 1, 10, 1, 6, 6, 1, 10, 20, 9, 9, 4, 0, 4, 0, 0, 6, 9, 26, 21, 16, 1, 9, 10, 24, 10, 0, 1, 18, 6, 31, 19, 19, 1, 19, 18, 26, 10, 9, 1, 20, 4, 6, 0, 19, 1, 21, 21, 21, 19, 20, 7, 8, 6, 4, 9, 4, 21, 15, 26, 4, 22, 19, 16, 11, 16, 24, 9, 31, 1, 11, 0, 31, 9, 28, 11, 14, 1, 10, 19, 21, 1, 11, 10, 19, 1, 10, 9, 16, 20, 5, 0, 11, 24, 14, 6, 20, 10, 4, 29, 0, 20, 0, 10, 9, 6, 4, 38, 26, 14, 30, 14, 11, 9, 16, 0, 24, 24, 1, 11, 9, 9, 6, 20, 11, 4, 6, 9, 14, 1, 5, 0, 4, 4, 11, 9, 5, 8, 25, 0, 3, 11, 10, 0, 10, 11, 9, 10, 29, 6, 19, 14, 20, 6, 9, 10, 21, 21, 8, 11, 6, 1, 20, 27, 20, 4, 4, 1, 14, 4, 0, 16, 4, 11, 16, 12, 8, 6, 1, 0, 1, 29, 9, 22, 16, 11, 9, 20, 18, 11, 1, 12, 4, 21, 19, 0, 8, 0, 16, 6, 20, 12, 14, 9, 17, 10, 20, 10, 13, 15, 12, 1, 15, 29, 19, 14, 4, 5, 5, 20, 0, 0, 10, 19, 26, 26, 14, 11, 1, 3, 12, 16, 0, 8, 25, 1, 6, 13, 9, 0, 10, 24, 9, 8, 4, 15, 28, 6, 0, 6, 6, 8, 9, 25, 11, 20, 0, 0, 24, 0, 18, 6, 11, 1, 20, 11, 4, 2, 20, 1, 20, 10, 9, 0, 9, 40, 24, 26, 12, 0, 5, 16, 5, 25, 20, 19, 18, 18, 9, 8, 11, 9, 12, 11, 9, 2, 25, 11, 10, 0, 9, 21, 4, 2, 9, 7, 5, 1, 21, 8, 10, 28, 10, 4, 5, 11, 14, 16, 5, 0, 6, 4, 28, 0, 20, 4, 36, 6, 13, 5, 0, 10, 5, 16, 0, 30, 11, 9, 8, 10, 5, 12, 10, 0, 10, 10, 10, 14, 19, 11, 11, 7, 0, 0, 9, 11, 9, 10, 4, 0, 4, 25, 9, 31, 10, 31, 10, 16, 0, 19, 4, 20, 9, 0, 8, 16, 30, 24, 19, 22, 10, 20, 0, 0, 6, 1, 30, 6, 4, 19, 8, 3, 4, 14, 2, 10, 3, 14, 28, 9, 10, 4, 0, 6, 31, 10, 5, 6, 6, 1, 12, 22, 3, 20, 0, 30, 5, 0, 5, 9, 15, 18, 29, 2, 2, 5, 21, 4, 11, 0, 20, 11, 3, 6, 4, 30, 13, 10, 0, 9, 6, 20, 28, 6, 14, 0, 20, 2, 29, 16, 38, 8, 0, 12, 12, 20, 0, 20, 8, 2, 15, 29, 5, 9, 12, 22, 29, 0, 5, 29, 14, 2, 12, 2, 19, 6, 11, 14, 20, 10, 14, 10, 10, 24, 20, 24, 24, 20, 15, 9, 0, 6, 10, 0, 6, 20, 16, 9, 21, 2, 4, 1, 26, 8, 19, 21, 20, 10, 4, 0, 18, 10, 19, 1, 24, 11, 10, 21, 10, 2, 26, 20, 19, 10, 21, 14, 0, 10, 1, 30, 21, 14, 0, 19, 5, 11, 10, 19, 31, 2, 9, 14, 14, 11, 11, 5, 0, 6, 34, 9, 4, 7, 4, 1, 16, 9, 21, 4, 29, 21, 9, 11, 1, 36, 20, 5, 17, 6, 14, 21, 1, 6, 5, 20, 4, 9, 21, 2, 24, 1, 4, 29, 20, 1, 29, 14, 9, 21, 10, 12, 9, 0, 4, 12, 10, 20, 16, 6, 11, 8, 14, 0, 2, 6, 10, 30, 8, 16, 19, 4, 26, 7, 33, 4, 1, 10, 4, 20, 0, 4, 6, 11, 3, 19, 10, 21, 10, 31, 19, 39, 11, 9, 21, 24, 14, 20, 31, 15, 12, 29, 4, 9, 11, 20, 5, 1, 11, 21, 22, 9, 16, 4, 21, 10, 19, 11, 20, 4, 9, 12, 11, 11, 10, 16, 6, 20, 0, 0, 2, 1, 17, 4, 9, 10, 5, 19, 11, 1, 19, 13, 19, 10, 10, 26, 4, 20, 8, 19, 0, 24, 19, 9, 1, 19, 6, 25, 14, 14, 11, 10, 19, 6, 14, 32, 1, 2, 6, 4, 4, 0, 30, 16, 11, 14, 2, 10, 4, 24, 0, 16, 6, 2, 10, 9, 24, 8, 21, 15, 5, 14, 0, 20, 10, 2, 4, 6, 3, 5, 19, 19, 4, 11, 8, 10, 1, 11, 14, 11, 16, 6, 20, 24, 4, 16, 12, 5, 20, 34, 16, 24, 0, 26, 16, 21, 15, 10, 9, 20, 30, 0, 20, 24, 21, 2, 16, 6, 10, 2, 8, 18, 9, 34, 9, 19, 5, 1, 22, 4, 11, 20, 25, 14, 20, 24, 12, 5, 32, 0, 25, 5, 2, 36, 14, 20, 16, 5, 16, 34, 8, 8, 6, 20, 8, 38, 19, 6, 6, 21, 0, 19, 22, 16, 34, 1, 24, 20, 14, 4, 19, 9, 9, 19, 22, 10, 14, 10, 10, 9, 4, 14, 11, 4, 0, 26, 10, 3, 10, 21, 7, 8, 29, 6, 4, 12, 0, 7, 14, 0, 9, 4, 29, 0, 1, 19, 6, 1, 2, 6, 28, 14, 0, 11, 14, 10, 5, 9, 0, 4, 19, 0, 5, 10, 10, 4, 4, 26, 14, 31, 0, 6, 0, 0, 10, 4, 4, 10, 4, 10, 11, 6, 3, 6, 4, 20, 0, 0, 4, 10, 18, 19, 1, 16, 4, 0, 18, 1, 34, 9, 11, 16, 0, 12, 21, 1, 10, 25, 7, 10, 0, 2, 5, 10, 0, 10, 12, 10, 10, 6, 6, 0, 26, 14, 2, 21, 1, 24, 8, 9, 1, 24, 21, 0, 0, 6, 10, 11, 14, 6, 14, 9, 9, 26, 11, 4, 1, 23, 0, 6, 19, 19, 4, 6, 11, 29, 5, 4, 12, 1, 19, 20, 6, 6, 8, 18, 6, 29, 21, 24, 7, 8, 19, 4, 20, 1, 11, 13, 9, 15, 9, 11, 19, 6, 19, 9, 5, 1, 2, 20, 2, 30, 22, 1, 5, 20, 20, 10, 3, 0, 24, 16, 0, 30, 31, 1, 3, 2, 9, 11, 1, 16, 0, 9, 7, 11, 9, 2, 16, 1, 15, 5, 28, 10, 10, 10, 0, 0, 6, 9, 9, 2, 4, 20, 0, 0, 9, 10, 21, 16, 14, 0, 10, 36, 10, 6, 4, 6, 2, 2, 15, 10, 5, 25, 0, 11, 0, 11, 4, 21, 9, 0, 6, 15, 0, 3, 1, 10, 14, 0, 4, 1, 21, 5, 20, 20, 0, 9, 19, 30, 14, 18, 12, 19, 0, 10, 11, 0, 22, 10, 16, 19, 0, 25, 0, 0, 0, 2, 4, 16, 11, 5, 0, 19, 21, 20, 10, 11, 11, 0, 29, 5, 5, 19, 21, 0, 15, 20, 0, 20, 12, 5, 10, 0, 1, 19, 9, 0, 12, 14, 29, 3, 11, 10, 15, 0, 25, 11, 26, 11, 20, 12, 0, 34, 21, 10, 20, 14, 14, 31, 2, 9, 17, 0, 15, 11, 4, 19, 21, 0, 0, 7, 6, 30, 12, 5, 10, 9, 36, 0, 10, 0, 11, 18, 1, 0, 4, 10, 24, 13, 14, 4, 0, 11, 15, 18, 0, 1, 0, 24, 5, 10, 12, 26, 18, 0, 9, 0, 1, 1, 19, 0, 26, 0, 25, 7, 8, 22, 16, 4, 20, 5, 11, 18, 18, 3, 19, 6, 0, 0, 30, 2, 16, 10, 20, 2, 20, 1, 9, 19, 0, 21, 0, 26, 3, 0, 0, 3, 14, 0, 10, 8, 1, 0, 0, 6, 14, 16, 1, 0, 6, 6, 2, 2, 0, 0, 10, 0, 4, 25, 0, 9, 4, 0, 14, 10, 29, 6, 0, 36, 0, 0, 0, 24, 25, 0, 7, 31, 4, 11, 14, 6, 30, 10, 0, 25, 29, 4, 1, 9, 16, 4, 5, 5, 38, 0, 4, 2, 16, 16, 10, 3, 8, 0, 10, 6, 8, 4, 10, 10, 4, 13, 9, 12, 7, 3, 0, 1, 4, 0, 4, 0, 4, 4, 0, 0, 0, 8, 6, 9, 0, 21, 0, 1, 16, 2, 10, 0, 16, 0, 4, 8, 8, 14, 19, 16, 2, 0, 0, 1, 15, 7, 0, 10, 9, 0, 13, 6, 10, 18, 15, 6, 10, 10, 19, 6, 6, 29, 10, 10, 1, 12, 1, 6, 11, 32, 1, 0, 0, 0, 8, 12, 20, 5, 6, 14, 12, 18, 6, 5, 4, 24, 15, 0, 13, 20, 20, 6, 16, 19, 1, 14, 10, 11, 1, 12, 19, 10, 40, 0, 21, 4, 24, 0, 0, 24, 19, 4, 8, 21, 2, 4, 0, 22, 19, 0, 20, 10, 10, 0, 12, 5, 8, 4, 12, 15, 20, 7, 0, 11, 6, 16, 16, 0, 25, 20, 16, 19, 1, 15, 1, 10, 6, 21, 0, 10, 10, 8, 10, 2, 16, 5, 8, 10, 14, 6, 0, 10, 14, 11, 9, 3, 6, 0, 6, 3, 3, 1, 0, 5, 10, 14, 20, 10, 0, 11, 9, 1, 20, 4, 20, 6, 4, 18, 8, 22, 9, 0, 26, 8, 4, 6, 5, 24, 0, 1, 29, 20, 0, 1, 1, 13, 16, 19, 19, 2, 2, 19, 1, 6, 0, 0, 8, 1, 10, 7, 6, 10, 5, 20, 0, 4, 8, 4, 11, 0, 0, 14, 6, 29, 25, 14, 8, 25, 14, 0, 0, 6, 18, 20, 21, 4, 0, 10, 1, 14, 2, 1, 1, 5, 1, 6, 1, 16, 6, 10, 19, 18, 1, 14, 10, 0, 0, 24, 1, 15, 12, 1, 11, 10, 20, 16, 0, 10, 1, 14, 0, 0, 20, 12, 9, 10, 8, 9, 6, 0, 20, 18, 0, 19, 8, 34, 30, 0, 12, 10, 16, 0, 26, 0, 0, 12, 25, 16, 0, 4, 1, 0, 14, 21, 4, 22, 16, 4, 11, 23, 6, 10, 9, 17, 8, 1, 2, 14, 12, 1, 0, 0, 5, 26, 6, 1, 30, 10, 2, 15, 16, 40, 6, 12, 0, 0, 20, 2, 23, 16, 0, 19, 4, 0, 4, 14, 9, 14, 8, 14, 6, 3, 4, 6, 17, 18, 10, 21, 8, 0, 21, 1, 1, 14, 0, 20, 8, 14, 1, 0, 1, 26, 0, 0, 12, 11, 1, 14, 0, 9, 31, 1, 17, 0, 6, 0, 0, 0, 14, 14, 0, 0, 6, 20, 34, 11, 0, 5, 0, 0, 0, 4, 4, 15, 1, 0, 14, 10, 0, 1, 26, 8, 0, 28, 21, 11, 9, 6, 6, 0, 10, 10, 11, 0, 16, 20, 9, 14, 6, 6, 16, 14, 12, 4, 10, 1, 20, 0, 4, 9, 26, 13, 0, 4, 3, 20, 14, 16, 20, 28, 9, 6, 10, 0, 9, 7, 10, 20, 19, 31, 5, 11, 4, 2, 24, 10, 6, 20, 2, 16, 3, 1, 0, 9, 9, 6, 2, 6, 16, 10, 6, 16, 9, 6, 0, 10, 24, 0, 39, 4, 21, 14, 6, 12, 26, 0, 3, 0, 8, 1, 20, 19, 19, 9, 8, 0, 14, 15, 0, 20, 0, 14, 20, 11, 16, 19, 4, 10, 20, 0, 4, 0, 9, 17, 11, 5, 14, 9, 16, 14, 1, 14, 11, 0, 0, 14, 0, 0, 10, 4, 22, 9, 10, 6, 1, 10, 26, 0, 1, 14, 30, 0, 2, 2, 2, 2, 4, 0, 5, 10, 10, 11, 2, 1, 6, 18, 0, 2, 0, 16, 11, 29, 31, 1, 16, 19, 14, 15, 16, 15, 20, 4, 21, 9, 19, 9, 4, 14, 4, 10, 39, 4, 1, 16, 0, 10, 16, 1, 6, 13, 0, 4, 13, 6, 0, 6, 9, 4, 5, 0, 6, 5, 9, 30, 10, 0, 6, 4, 14, 20, 4, 20, 26, 26, 9, 20, 11, 0, 14, 30, 1, 9, 0, 0, 4, 14, 18, 9, 9, 19, 10, 2, 0, 20, 2, 9, 6, 3, 32, 0, 7, 10, 0, 14, 19, 9, 4, 19, 0, 16, 1, 29, 4, 20, 9, 4, 16, 9, 20, 16, 11, 9, 10, 6, 1, 10, 9, 0, 20, 16, 5, 8, 0, 5, 21, 8, 10, 0, 10, 2, 20, 0, 0, 25, 1, 0, 21, 6, 0, 1, 9, 6, 5, 5, 8, 9, 9, 6, 9, 26, 1, 0, 15, 15, 0, 11, 0, 6, 1, 0, 0, 1, 20, 29, 3, 10, 9, 0, 5, 9, 14, 0, 19, 0, 28, 14, 11, 18, 4, 4, 10, 4, 0, 2, 0, 18, 8, 9, 1, 20, 1, 10, 2, 0, 4, 31, 1, 20, 11, 16, 14, 6, 12, 6, 0, 2, 0, 14, 4, 11, 10, 9, 0, 1, 4, 11, 1, 5, 1, 4, 4, 10, 14, 14, 20, 30, 14, 9, 10, 11, 24, 12, 22, 0, 4, 9, 0, 10, 12, 20, 4, 0, 0, 9, 16, 15, 31, 16, 9, 0, 10, 12, 2, 14, 4, 1, 1, 4, 26, 21, 20, 9, 0, 4, 11, 8, 10, 14, 20, 5, 21, 0, 20, 6, 6, 26, 31, 9, 20, 5, 0, 1, 30, 4, 4, 10, 10, 15, 6, 28, 16, 0, 16, 0, 0, 4, 16, 10, 8, 11, 0, 11, 11, 10, 5, 9, 4, 10, 4, 10, 10, 5, 0, 0, 0, 10, 3, 0, 4, 19, 29, 10, 6, 16, 1, 16, 10, 10, 2, 0, 6, 20, 10, 9, 6, 14, 10, 0, 0, 2, 8, 0, 0, 29, 10, 0, 1, 1, 20, 6, 26, 0, 2, 4, 0, 6, 21, 1, 5, 6, 3, 0, 0, 10, 0, 16, 11, 8, 0, 14, 8, 26, 0, 6, 1, 15, 4, 24, 0, 8, 10, 0, 6, 9, 14, 16, 1, 4, 5, 1, 10, 6, 9, 19, 28, 5, 20, 25, 0, 16, 0, 7, 9, 2, 16, 8, 20, 4, 4, 16, 10, 4, 22, 10, 26, 12, 8, 10, 0, 2, 0, 0, 6, 6, 11, 14, 0, 0, 20, 9, 0, 5, 4, 28, 9, 16, 4, 8, 11, 21, 0, 10, 10, 0, 10, 0, 10, 0, 0, 3, 0, 26, 20, 11, 5, 0, 0, 0, 4, 26, 3, 1, 10, 4, 10, 14, 6, 6, 0, 2, 3, 0, 9, 0, 10, 14, 0, 1, 0, 18, 0, 6, 0, 20, 5, 9, 24, 0, 10, 6, 4, 9, 0, 0, 0, 9, 30, 23, 0, 10, 29, 0, 0, 11, 0, 0, 11, 1, 4, 1, 19, 9, 4, 10, 8, 0, 0, 5, 0, 16, 24, 10, 10, 1, 5, 6, 11, 20, 1, 29, 28, 9, 20, 29, 16, 11, 1, 4, 9, 9, 30, 0, 9, 9, 5, 20, 10, 1, 16, 14, 21, 0, 11, 0, 12, 19, 11, 26, 20, 15, 6, 29, 0, 11, 10, 2, 4, 22, 38, 10, 10, 14, 20, 13, 1, 20, 6, 0, 1, 16, 10, 11, 21, 0, 0, 2, 1, 11, 9, 18, 10, 5, 0, 4, 9, 19, 0, 11, 0, 29, 14, 4, 10, 1, 34, 18, 0, 6, 24, 28, 26, 11, 34, 11, 1, 4, 26, 8, 11, 24, 11, 10, 10, 36, 6, 6, 8, 19, 9, 14, 22, 0, 12, 18, 4, 5, 21, 1, 4, 14, 6, 30, 1, 21, 6, 8, 12, 10, 1, 9, 14, 4, 0, 20, 26, 10, 35, 12, 0, 14, 6, 6, 0, 22, 20, 1, 0, 10, 0, 10, 0, 1, 14, 29, 19, 24, 2, 31, 9, 10, 14, 24, 10, 10, 0, 16, 11, 38, 1, 0, 22, 21, 9, 8, 0, 19, 10, 15, 1, 20, 16, 6, 0, 1, 6, 24, 9, 10, 6, 20, 14, 4, 26, 8, 39, 9, 31, 0, 11, 6, 12, 16, 19, 6, 20, 20, 5, 6, 0, 14, 21, 0, 30, 16, 9, 11, 19, 11, 6, 18, 7, 11, 1, 3, 0, 0, 16, 0, 0, 10, 9, 1, 6, 20, 19, 16, 9, 2, 21, 26, 21, 0, 21, 4, 0, 0, 4, 31, 9, 11, 0, 4, 4, 14, 11, 6, 20, 0, 18, 11, 16, 9, 4, 24, 12, 1, 34, 20, 34, 0, 0, 12, 10, 19, 18, 1, 16, 15, 20, 7, 16, 31, 1, 4, 14, 0, 39, 16, 11, 4, 19, 29, 26, 31, 10, 4, 9, 11, 0, 14, 30, 14, 10, 4, 11, 16, 6, 11, 4, 0, 16, 19, 0, 6, 11, 20, 4, 29, 0, 0, 0, 9, 9, 30, 8, 14, 16, 11, 21, 11, 1, 20, 4, 20, 26, 0, 5, 34, 16, 1, 20, 6, 9, 9, 2, 19, 2, 10, 4, 9, 31, 4, 10, 1, 16, 0, 1, 6, 18, 10, 4, 12, 21, 29, 21, 6, 19, 10, 1, 16, 6, 20, 4, 4, 21, 22, 9, 0, 16, 0, 11, 13, 1, 6, 8, 4, 30, 1, 0, 9, 9, 26, 20, 14, 20, 15, 19, 14, 0, 3, 14, 6, 12, 10, 5, 16, 36, 6, 35, 11, 10, 19, 5, 12, 0, 21, 19, 34, 12, 26, 9, 0, 6, 0, 0, 6, 21, 26, 21, 6, 26, 24, 14, 1, 16, 24, 40, 22, 9, 10, 0, 11, 6, 10, 0, 1, 0, 19, 4, 9, 0, 0, 0, 10, 14, 14, 1, 0, 2, 0, 16, 19, 16, 13, 11, 14, 14, 20, 4, 6, 19, 1, 0, 19, 10, 18, 9, 12, 24, 1, 0, 16, 2, 4, 1, 18, 9, 32, 2, 20, 16, 14, 5, 1, 0, 4, 18, 0, 16, 4, 6, 1, 7, 4, 1, 1, 6, 6, 0, 0, 21, 8, 0, 10, 3, 15, 22, 19, 2, 1, 7, 12, 11, 21, 0, 4, 2, 4, 8, 1, 2, 15, 4, 6, 14, 24, 0, 14, 14, 8, 0, 11, 19, 19, 0, 4, 12, 8, 16, 16, 11, 4, 10, 0, 30, 8, 1, 10, 18, 8, 20, 9, 16, 0, 1, 20, 0, 5, 14, 5, 0, 9, 0, 0, 10, 1, 10, 18, 6, 1, 1, 4, 1, 0, 0, 0, 0, 1, 0, 1, 6, 31, 22, 0, 9, 4, 4, 6, 5, 1, 20, 2, 1, 4, 20, 11, 9, 10, 20, 10, 10, 0, 7, 0, 7, 11, 11, 4, 5, 6, 21, 11, 1, 1, 37, 9, 9, 14, 10, 0, 30, 0, 21, 4, 10, 2, 15, 1, 16, 0, 11, 0, 30, 10, 10, 10, 10, 5, 18, 10, 6, 17, 4, 10, 4, 14, 19, 10, 19, 10, 11, 4, 1, 5, 4, 17, 1, 9, 14, 15, 4, 1, 12, 5, 4, 9, 9, 21, 31, 14, 4, 0, 0, 12, 10, 3, 10, 1, 8, 11, 1, 10, 0, 0, 0, 0, 2, 12, 11, 0, 0, 0, 0, 4, 6, 4, 0, 0, 19, 0, 11, 4, 1, 1, 10, 0, 1, 0, 14, 5, 6, 24, 8, 16, 22, 11, 0, 9, 0, 11, 0, 0, 9, 10, 5, 6, 0, 4, 21, 1, 2, 4, 6, 15, 0, 9, 1, 9, 4, 6, 0, 10, 11, 21, 34, 0, 9, 30, 2, 26, 10, 0, 5, 6, 1, 0, 10, 15, 10, 4, 0, 0, 16, 6, 0, 34, 0, 35, 1, 1, 21, 16, 6, 6, 16, 25, 2, 4, 26, 20, 4, 14, 0, 10, 10, 8, 10, 0, 1, 17, 0, 6, 0, 14, 16, 11, 10, 0, 16, 21, 11, 1, 1, 2, 0, 6, 20, 0, 9, 16, 16, 20, 6, 6, 3, 4, 11, 8, 24, 4, 2, 31, 9, 1, 0, 0, 11, 1, 11, 0, 11, 16, 9, 30, 2, 20, 1, 12, 2, 28, 9, 6, 10, 18, 16, 3, 16, 22, 12, 16, 5, 10, 6, 4, 6, 0, 10, 5, 14, 0, 10, 4, 2, 0, 4, 19, 20, 6, 32, 10, 0, 10, 5, 5, 9, 30, 4, 20, 0, 1, 0, 21, 4, 6, 1, 19, 24, 1, 11, 14, 12, 5, 6, 0, 22, 0, 11, 16, 28, 6, 2, 5, 16, 0, 14, 32, 16, 28, 30, 12, 26, 6, 0, 20, 10, 18, 4, 6, 9, 26, 22, 10, 6, 14, 11, 12, 0, 19, 19, 19, 18, 6, 1, 18, 21, 8, 10, 4, 23, 36, 10, 0, 24, 11, 6, 35, 0, 10, 18, 9, 0, 20, 1, 2, 0, 4, 11, 4, 9, 1, 9, 2, 29, 21, 12, 0, 0, 14, 21, 4, 2, 10, 10, 5, 14, 21, 10, 10, 1, 6, 6, 2, 4, 10, 5, 19, 22, 1, 10, 10, 2, 21, 14, 12, 1, 0, 11, 0, 4, 20, 4, 16, 0, 0, 1, 36, 19, 21, 8, 14, 1, 13, 24, 19, 7, 21, 26, 0, 6, 11, 9, 20, 34, 11, 10, 14, 1, 0, 14, 26, 20, 8, 6, 5, 2, 4, 4, 14, 0, 20, 15, 20, 17, 10, 16, 0, 29, 7, 0, 9, 5, 20, 12, 28, 8, 4, 10, 0, 14, 10, 6, 1, 10, 4, 20, 6, 10, 1, 15, 34, 0, 22, 5, 2, 0, 10, 4, 26, 13, 10, 10, 2, 30, 9, 10, 0, 16, 10, 0, 16, 24, 10, 31, 10, 1, 12, 19, 16, 6, 1, 11, 5, 0, 11, 0, 0, 10, 21, 5, 0, 0, 24, 10, 0, 8, 0, 0, 10, 4, 6, 14, 21, 11, 1, 34, 20, 15, 16, 26, 11, 26, 20, 18, 11, 10, 31, 6, 19, 1, 8, 0, 0, 1, 0, 0, 5, 26, 21, 10, 0, 16, 4, 16, 0, 35, 22, 20, 9, 16, 20, 29, 10, 18, 9, 10, 11, 0, 29, 15, 16, 10, 10, 2, 11, 14, 6, 19, 19, 0, 10, 8, 0, 2, 10, 10, 5, 10, 3, 21, 31, 19, 22, 18, 2, 0, 12, 9, 3, 20, 14, 9, 0, 6, 9, 0, 6, 10, 26, 30, 15, 14, 19, 8, 16, 9, 14, 2, 24, 10, 2, 4, 13, 16, 4, 10, 30, 28, 24, 0, 0, 25, 8, 6, 12, 0, 22, 10, 2, 9, 6, 11, 8, 9, 27, 12, 11, 11, 0, 10, 10, 10, 19, 10, 8, 0, 19, 15, 0, 8, 31, 21, 20, 21, 5, 0, 10, 0, 6, 10, 21, 8, 29, 10, 4, 18, 20, 6, 5, 10, 4, 18, 0, 6, 19, 0, 10, 2, 0, 30, 21, 16, 19, 15, 22, 24, 10, 0, 36, 0, 10, 6, 1, 8, 6, 7, 4, 0, 0, 21, 11, 24, 0, 18, 8, 2, 10, 10, 0, 6, 0, 14, 10, 2, 28, 0, 24, 0, 10, 16, 1, 39, 14, 24, 15, 16, 21, 0, 21, 14, 15, 12, 14, 0, 4, 10, 19, 0, 9, 4, 20, 5, 25, 5, 3, 17, 8, 20, 0, 4, 20, 1, 0, 20, 10, 11, 0, 0, 20, 10, 30, 8, 10, 0, 2, 11, 0, 27, 16, 18, 4, 1, 13, 15, 8, 0, 0, 6, 1, 1, 8, 0, 17, 20, 0, 0, 6, 19, 6, 2, 0, 14, 1, 21, 16, 14, 11, 35, 0, 33, 12, 20, 0, 6, 15, 9, 19, 1, 0, 1, 10, 1, 4, 10, 2, 9, 14, 0, 2, 5, 19, 16, 9, 14, 23, 2, 21, 11, 0, 14, 0, 5, 18, 20, 5, 20, 24, 14, 13, 0, 26, 9, 19, 4, 9, 12, 6, 2, 12, 14, 4, 25, 0, 4, 4, 17, 6, 6, 24, 7, 19, 0, 0, 5, 10, 5, 16, 0, 8, 20, 0, 19, 10, 4, 18, 10, 10, 6, 8, 6, 10, 20, 15, 18, 14, 24, 11, 2, 9, 10, 22, 12, 6, 11, 11, 20, 9, 21, 22, 23, 12, 11, 22, 10, 20, 29, 38, 12, 20, 18, 25, 0, 6, 0, 1, 30, 30, 0, 0, 12, 12, 11, 4, 10, 26, 4, 10, 2, 1, 4, 10, 20, 14, 24, 3, 6, 2, 9, 12, 9, 2, 11, 24, 10, 20, 14, 26, 0, 10, 0, 21, 6, 10, 2, 10, 9, 10, 0, 0, 10, 0, 2, 11, 19, 11, 15, 11, 0, 14, 1, 18, 1, 0, 4, 1, 6, 1, 32, 15, 9, 0, 19, 4, 22, 25, 9, 11, 10, 14, 8, 6, 14, 9, 9, 25, 0, 10, 21, 20, 16, 11, 10, 24, 10, 21, 9, 11, 20, 8, 20, 9, 21, 34, 26, 19, 25, 31, 0, 4, 25, 11, 36, 7, 16, 2, 4, 21, 16, 10, 16, 6, 1, 20, 25, 2, 2, 18, 3, 24, 10, 29, 5, 0, 8, 3, 16, 10, 10, 12, 8, 30, 5, 15, 12, 15, 11, 24, 18, 6, 0, 8, 16, 10, 24, 20, 6, 8, 11, 20, 11, 16, 0, 0, 12, 1, 3, 2, 30, 10, 2, 19, 20, 25, 10, 20, 10, 25, 19, 4, 12, 0, 20, 25, 30, 5, 0, 11, 29, 6, 14, 29, 26, 22, 0, 14, 3, 10, 16, 5, 14, 10, 10, 20, 25, 1, 4, 6, 4, 6, 9, 32, 6, 18, 16, 16, 18, 21, 10, 3, 10, 6, 10, 18, 20, 0, 11, 10, 6, 11, 23, 20, 12, 14, 16, 12, 11, 32, 6, 15, 11, 16, 20, 6, 8, 2, 10, 5, 10, 11, 14, 11, 6, 20, 14, 22, 0, 5, 20, 19, 18, 30, 8, 4, 1, 9, 19, 6, 0, 9, 9, 18, 36, 16, 20, 21, 9, 0, 9, 10, 34, 11, 20, 11, 1, 10, 11, 11, 1, 11, 1, 9, 6, 4, 21, 25, 16, 8, 10, 30, 2, 20, 14, 16, 14, 10, 20, 15, 2, 14, 11, 29, 18, 20, 4, 26, 19, 16, 15, 11, 6, 10, 6, 0, 16, 31, 30, 38, 12, 5, 40, 2, 4, 18, 20, 21, 5, 29, 11, 10, 19, 11, 16, 26, 6, 19, 9, 31, 31, 23, 0, 20, 16, 6, 20, 20, 3, 14, 20, 0, 11, 11, 9, 10, 1, 16, 20, 8, 29, 10, 10, 23, 21, 11, 9, 10, 9, 16, 32, 8, 40, 24, 24, 8, 39, 39, 18, 16, 0, 14, 5, 6, 18, 40, 21, 4, 20, 5, 10, 4, 22, 10, 9, 5, 9, 14, 20, 9, 29, 9, 10, 10, 11, 6, 11, 30, 10, 0, 0, 20, 4, 26, 20, 10, 8, 5, 3, 10, 0, 16, 6, 34, 16, 6, 17, 19, 30, 10, 10, 21, 20, 14, 20, 29, 19, 29, 10, 29, 11, 15, 8, 28, 10, 6, 10, 10, 21, 16, 16, 8, 19, 10, 21, 11, 19, 10, 10, 10, 10, 14, 9, 34, 16, 38, 4, 18, 9, 24, 3, 4, 18, 9, 4, 11, 21, 10, 5, 2, 10, 10, 4, 5, 4, 31, 18, 30, 10, 26, 6, 14, 19, 1, 6, 25, 2, 12, 24, 16, 6, 30, 15, 20, 21, 32, 10, 18, 22, 7, 24, 10, 11, 40, 4, 5, 24, 19, 19, 16, 30, 5, 12, 14, 5, 12, 11, 1, 29, 19, 18, 8, 14, 16, 11, 26, 10, 14, 10, 11, 0, 26, 1, 1, 1, 5, 29, 19, 7, 10, 40, 1, 0, 10, 12, 14, 1, 19, 7, 11, 14, 2, 30, 5, 9, 19, 2, 0, 10, 0, 16, 6, 2, 19, 11, 9, 20, 16, 21, 26, 14, 9, 0, 29, 34, 15, 10, 2, 24, 10, 24, 22, 2, 30, 11, 10, 1, 0, 12, 0, 16, 4, 11, 20, 10, 6, 1, 6, 0, 26, 30, 30, 5, 20, 2, 5, 10, 0, 9, 5, 40, 7, 14, 30, 0, 14, 12, 26, 36, 19, 9, 9, 11, 16, 20, 0, 9, 6, 20, 6, 18, 7, 21, 2, 11, 29, 10, 19, 21, 12, 7, 20, 6, 20, 35, 8, 5, 6, 20, 8, 15, 6, 4, 6, 19, 29, 0, 10, 14, 9, 0, 20, 22, 15, 9, 21, 21, 1, 21, 28, 20, 10, 10, 6, 7, 36, 21, 15, 30, 34, 6, 39, 10, 2, 0, 19, 10, 29, 5, 30, 20, 10, 6, 9, 5, 20, 7, 32, 18, 16, 15, 1, 6, 1, 24, 28, 2, 22, 14, 0, 16, 10, 0, 23, 21, 24, 20, 19, 8, 29, 18, 8, 21, 0, 10, 11, 24, 16, 9, 5, 6, 26, 17, 20, 2, 1, 9, 14, 0, 0, 6, 34, 1, 26, 0, 5, 21, 14, 12, 10, 8, 10, 20, 10, 20, 20, 31, 5, 21, 11, 11, 4, 25, 14, 10, 10, 0, 10, 31, 0, 31, 24, 6, 5, 19, 11, 15, 0, 20, 10, 6, 29, 10, 3, 0, 10, 20, 9, 1, 11, 29, 6, 19, 25, 39, 24, 14, 20, 22, 1, 0, 8, 9, 31, 6, 1, 0, 0, 22, 10, 16, 3, 14, 21, 11, 9, 10, 9, 28, 19, 20, 0, 5, 4, 29, 10, 15, 9, 22, 1, 20, 29, 12, 17, 19, 20, 4, 16, 20, 37, 14, 4, 20, 4, 26, 34, 8, 29, 9, 31, 2, 12, 8, 11, 15, 19, 0, 22, 0, 16, 35, 5, 19, 0, 15, 11, 21, 1, 1, 1, 8, 2, 1, 10, 20, 9, 0, 25, 36, 10, 10, 10, 26, 20, 8, 30, 5, 14, 8, 2, 11, 14, 14, 19, 18, 2, 12, 0, 39, 12, 26, 9, 5, 3, 17, 21, 19, 30, 18, 29, 11, 9, 8, 9, 6, 10, 6, 4, 10, 10, 16, 10, 2, 26, 4, 27, 21, 24, 10, 20, 0, 9, 4, 2, 2, 3, 0, 36, 0, 39, 19, 3, 12, 20, 1, 15, 11, 0, 25, 8, 26, 6, 21, 19, 3, 9, 27, 1, 31, 30, 0, 16, 12, 9, 0, 8, 9, 0, 17, 18, 0, 8, 3, 6, 19, 0, 22, 4, 10, 4, 11, 10, 20, 0, 1, 5, 10, 36, 0, 1, 0, 11, 15, 12, 7, 10, 22, 4, 4, 21, 20, 14, 10, 20, 15, 19, 1, 20, 16, 0, 19, 22, 4, 4, 19, 15, 9, 21, 7, 4, 6, 19, 18, 31, 26, 1, 29, 20, 7, 0, 40, 18, 5, 3, 22, 10, 0, 11, 29, 16, 14, 0, 29, 29, 0, 4, 9, 17, 0, 4, 29, 20, 19, 0, 16, 9, 36, 19, 12, 26, 4, 10, 21, 20, 28, 0, 10, 0, 0, 26, 9, 25, 0, 0, 9, 2, 21, 33, 0, 0, 0, 18, 5, 6, 22, 4, 16, 0, 12, 4, 24, 5, 6, 9, 15, 2, 10, 0, 10, 2, 11, 15, 24, 20, 2, 31, 1, 12, 1, 11, 15, 4, 6, 12, 9, 10, 7, 11, 0, 14, 0, 0, 19, 5, 16, 20, 12, 0, 14, 6, 5, 12, 4, 0, 14, 19, 2, 20, 34, 6, 2, 2, 35, 10, 1, 9, 14, 8, 1, 26, 9, 16, 0, 1, 14, 4, 32, 0, 8, 14, 9, 24, 0, 1, 2, 34, 0, 29, 0, 18, 10, 13, 2, 37, 0, 24, 38, 0, 6, 1, 39, 2, 28, 19, 0, 15, 20, 2, 0, 20, 26, 26, 10, 18, 10, 0, 8, 10, 8, 34, 11, 19, 23, 0, 16, 10, 15, 0, 20, 8, 25, 0, 0, 30, 11, 15, 24, 16, 9, 2, 16, 24, 10, 8, 14, 6, 29, 19, 6, 1, 0, 10, 11, 16, 9, 0, 0, 6, 40, 8, 0, 1, 10, 24, 10, 0, 0, 15, 24, 36, 9, 12, 4, 10, 14, 9, 1, 2, 16, 11, 14, 29, 4, 2, 10, 9, 20, 29, 10, 16, 11, 4, 24, 3, 0, 18, 5, 15, 26, 4, 7, 9, 0, 18, 0, 4, 12, 12, 4, 29, 10, 6, 4, 1, 11, 10, 10, 1, 16, 2, 0, 0, 0, 9, 11, 0, 38, 15, 9, 4, 18, 14, 4, 16, 29, 14, 9, 10, 19, 14, 1, 0, 0, 10, 21, 30, 15, 11, 6, 0, 24, 1, 10, 12, 15, 9, 10, 4, 10, 2, 21, 20, 16, 9, 10, 18, 8, 18, 4, 0, 4, 14, 10, 19, 10, 10, 6, 31, 6, 20, 19, 0, 8, 0, 2, 26, 24, 10, 14, 10, 0, 1, 11, 6, 0, 4, 10, 6, 11, 11, 8, 2, 22, 0, 6, 30, 4, 20, 24, 6, 25, 30, 4, 14, 4, 14, 22, 2, 0, 16, 9, 19, 10, 9, 19, 4, 12, 26, 9, 29, 24, 16, 15, 9, 11, 6, 6, 8, 16, 10, 11, 16, 19, 31, 8, 24, 11, 6, 12, 4, 29, 6, 5, 12, 2, 0, 10, 1, 21, 2, 0, 9, 1, 13, 8, 4, 20, 1, 35, 21, 4, 0, 6, 19, 5, 17, 2, 14, 6, 1, 2, 13, 5, 0, 14, 0, 0, 6, 10, 14, 0, 30, 4, 9, 19, 14, 30, 10, 9, 20, 7, 24, 18, 11, 32, 10, 4, 9, 10, 11, 10, 4, 29, 10, 0, 9, 11, 26, 6, 11, 6, 24, 28, 14, 6, 1, 1, 8, 4, 4, 0, 1, 11, 4, 6, 18, 28, 16, 20, 2, 10, 24, 29, 16, 14, 11, 18, 10, 20, 9, 22, 1, 5, 8, 6, 1, 18, 15, 6, 32, 9, 16, 8, 11, 16, 8, 24, 0, 5, 12, 20, 1, 9, 10, 10, 16, 19, 0, 19, 11, 31, 6, 14, 11, 13, 11, 9, 0, 6, 7, 1, 1, 30, 12, 4, 30, 0, 0, 4, 25, 30, 14, 13, 21, 2, 10, 18, 6, 14, 0, 26, 9, 1, 6, 9, 10, 12, 28, 11, 10, 11, 14, 13, 14, 19, 10, 1, 5, 10, 25, 20, 6, 6, 32, 4, 15, 21, 29, 30, 22, 9, 21, 16, 22, 1, 12, 20, 9, 26, 1, 1, 0, 9, 24, 6, 1, 29, 0, 10, 29, 9, 6]\n"
          ]
        }
      ]
    },
    {
      "cell_type": "code",
      "source": [
        "len(intim_dataset.scores_to_labels)"
      ],
      "metadata": {
        "colab": {
          "base_uri": "https://localhost:8080/"
        },
        "id": "V9_gNdp1Hhjl",
        "outputId": "7d7eb261-455f-4384-d2dc-990495630230"
      },
      "execution_count": null,
      "outputs": [
        {
          "output_type": "execute_result",
          "data": {
            "text/plain": [
              "41"
            ]
          },
          "metadata": {},
          "execution_count": 17
        }
      ]
    },
    {
      "cell_type": "code",
      "source": [
        "# dataloader = DataLoader(intim_dataset, batch_size = 64, shuffle = True, num_workers = 0)\n",
        "\n",
        "# for i_batch, sample_batched in enumerate(dataloader):\n",
        "#     print(i_batch, sample_batched[0], sample_batched[1])"
      ],
      "metadata": {
        "id": "l4QYv0TTzcq6"
      },
      "execution_count": null,
      "outputs": []
    },
    {
      "cell_type": "markdown",
      "source": [
        "## Defining Model"
      ],
      "metadata": {
        "id": "60ELy8EVaQKn"
      }
    },
    {
      "cell_type": "code",
      "source": [
        "class BertClassifier(nn.Module):\n",
        "    def __init__(self, n_class, dropout = 0.5):\n",
        "        super(BertClassifier, self).__init__()\n",
        "\n",
        "        self.bert = BertModel.from_pretrained('bert-base-cased')\n",
        "        self.dropout = nn.Dropout(dropout)\n",
        "        self.linear = nn.Linear(768, n_class)\n",
        "        self.relu = nn.ReLU()\n",
        "\n",
        "    def forward(self, input_id, mask):\n",
        "        _, pooled_output = self.bert(input_ids = input_id, attention_mask = mask,return_dict = False)\n",
        "        dropout_output = self.dropout(pooled_output)\n",
        "        linear_output = self.linear(dropout_output)\n",
        "        final_layer = self.relu(linear_output)\n",
        "\n",
        "        return final_layer"
      ],
      "metadata": {
        "id": "8tzoXArUaUEY"
      },
      "execution_count": null,
      "outputs": []
    },
    {
      "cell_type": "markdown",
      "source": [
        "## Training Loop"
      ],
      "metadata": {
        "id": "03lqdpuIfR-p"
      }
    },
    {
      "cell_type": "code",
      "source": [
        "def train(model, train_data, val_data, learning_rate, epochs):\n",
        "    train, val = IntimacyDataset(train_data), IntimacyDataset(val_data)\n",
        "\n",
        "    train_dataloader = torch.utils.data.DataLoader(train, batch_size = 2, shuffle = True)\n",
        "    val_dataloader = torch.utils.data.DataLoader(val, batch_size = 2, shuffle = True)\n",
        "\n",
        "    use_cuda = torch.cuda.is_available()\n",
        "    device = torch.device(\"cuda\" if use_cuda else \"cpu\")\n",
        "\n",
        "    criterion = nn.CrossEntropyLoss()\n",
        "    optimizer = Adam(model.parameters(), lr = learning_rate)\n",
        "\n",
        "    if use_cuda:\n",
        "        model = model.cuda()\n",
        "        criterion = criterion.cuda()\n",
        "\n",
        "    for epoch_num in range(epochs):\n",
        "        total_acc_train = 0\n",
        "        total_loss_train = 0\n",
        "\n",
        "        for train_input, train_label in tqdm(train_dataloader):\n",
        "            train_label = train_label.to(device)\n",
        "            mask = train_input['attention_mask'].to(device)\n",
        "            input_id = train_input['input_ids'].squeeze(1).to(device)\n",
        "\n",
        "            output = model(input_id, mask)\n",
        "            \n",
        "            batch_loss = criterion(output, train_label.long())\n",
        "            total_loss_train += batch_loss.item()\n",
        "            \n",
        "            acc = (output.argmax(dim = 1) == train_label).sum().item()\n",
        "            total_acc_train += acc\n",
        "\n",
        "            model.zero_grad()\n",
        "            batch_loss.backward()\n",
        "            optimizer.step()\n",
        "        \n",
        "        total_acc_val = 0\n",
        "        total_loss_val = 0\n",
        "\n",
        "        with torch.no_grad():\n",
        "            for val_input, val_label in val_dataloader:\n",
        "                val_label = val_label.to(device)\n",
        "                mask = val_input['attention_mask'].to(device)\n",
        "                input_id = val_input['input_ids'].squeeze(1).to(device)\n",
        "\n",
        "                output = model(input_id, mask)\n",
        "\n",
        "                batch_loss = criterion(output, val_label.long())\n",
        "                total_loss_val += batch_loss.item()\n",
        "                \n",
        "                acc = (output.argmax(dim = 1) == val_label).sum().item()\n",
        "                total_acc_val += acc\n",
        "        \n",
        "        print(\n",
        "            f'Epochs: {epoch_num + 1} | Train Loss: {total_loss_train / len(train_data): .3f} \\\n",
        "            | Train Accuracy: {total_acc_train / len(train_data): .3f} \\\n",
        "            | Val Loss: {total_loss_val / len(val_data): .3f} \\\n",
        "            | Val Accuracy: {total_acc_val / len(val_data): .3f}')\n",
        "                \n",
        "EPOCHS = 5\n",
        "model = BertClassifier(41) # len(intim_dataset.scores_to_labels)\n",
        "LR = 1e-6\n",
        "\n",
        "df_train, df_val, df_test = train_val_test_split(df)\n",
        "train(model, df_train, df_val, LR, EPOCHS)"
      ],
      "metadata": {
        "id": "YgX1rdzUfUOP"
      },
      "execution_count": null,
      "outputs": []
    },
    {
      "cell_type": "markdown",
      "source": [
        "## Evaluate Model"
      ],
      "metadata": {
        "id": "KKw5AMGpfWNf"
      }
    },
    {
      "cell_type": "code",
      "source": [
        "def evaluate(model, test_data):\n",
        "    test = Dataset(test_data)\n",
        "    test_dataloader = torch.utils.data.DataLoader(test, batch_size=2)\n",
        "\n",
        "    use_cuda = torch.cuda.is_available()\n",
        "    device = torch.device(\"cuda\" if use_cuda else \"cpu\")\n",
        "\n",
        "    if use_cuda:\n",
        "        model = model.cuda()\n",
        "\n",
        "    total_acc_test = 0\n",
        "    with torch.no_grad():\n",
        "        for test_input, test_label in test_dataloader:\n",
        "            test_label = test_label.to(device)\n",
        "            mask = test_input['attention_mask'].to(device)\n",
        "            input_id = test_input['input_ids'].squeeze(1).to(device)\n",
        "\n",
        "            output = model(input_id, mask)\n",
        "\n",
        "            acc = (output.argmax(dim=1) == test_label).sum().item()\n",
        "            total_acc_test += acc\n",
        "    \n",
        "    print(f'Test Accuracy: {total_acc_test / len(test_data): .3f}')\n",
        "    \n",
        "evaluate(model, df_test)"
      ],
      "metadata": {
        "id": "gKgO9I15fZym"
      },
      "execution_count": null,
      "outputs": []
    },
    {
      "cell_type": "markdown",
      "source": [
        "# scratchpad"
      ],
      "metadata": {
        "id": "j-hWk9fXZlho"
      }
    },
    {
      "cell_type": "code",
      "source": [
        "df = read_data()\n",
        "print(df.head())\n",
        "\n",
        "print(max(df['len']))\n",
        "print(df['text'].iloc[0])\n",
        "print(df['label'].dtype)\n",
        "\n",
        "vc = df['label'].value_counts()\n",
        "u = df['label'].unique()\n",
        "u = sorted(u)\n",
        "classes = dict()\n",
        "for i, item in enumerate(u):\n",
        "    classes[item] = i\n",
        "\n",
        "print(classes)\n",
        "\n",
        "\n",
        "print(len(df['label'].value_counts())) # number of labels\n",
        "print(df['label'].value_counts()) # number of data for each label\n",
        "df.groupby(['label']).size().plot.bar() # plot distribution for labels\n",
        "print(\"************************\")\n",
        "print(df.groupby(['label']).size())\n"
      ],
      "metadata": {
        "id": "Wi6E6r6DZlMy"
      },
      "execution_count": null,
      "outputs": []
    },
    {
      "cell_type": "code",
      "source": [
        "df.groupby(['language']).size().plot.bar()"
      ],
      "metadata": {
        "colab": {
          "base_uri": "https://localhost:8080/",
          "height": 344
        },
        "id": "0f0vRnYektVh",
        "outputId": "106ebaa7-fdc4-48d5-ccd5-4ef80466a241"
      },
      "execution_count": null,
      "outputs": [
        {
          "output_type": "execute_result",
          "data": {
            "text/plain": [
              "<matplotlib.axes._subplots.AxesSubplot at 0x7f900045cb80>"
            ]
          },
          "metadata": {},
          "execution_count": 7
        },
        {
          "output_type": "display_data",
          "data": {
            "text/plain": [
              "<Figure size 432x288 with 1 Axes>"
            ],
            "image/png": "[encoded data removed]"
          },
          "metadata": {
            "needs_background": "light"
          }
        }
      ]
    },
    {
      "cell_type": "code",
      "source": [
        "print(len(df))\n",
        "english_tweets = filter_tweet_language(df)\n",
        "print(len(english_tweets))\n",
        "aa = filter_tweet_intimacy(df,4.25,4.3)"
      ],
      "metadata": {
        "id": "CtWVWMTZZyEB",
        "colab": {
          "base_uri": "https://localhost:8080/"
        },
        "outputId": "95059828-2f17-4d55-9b76-9aadf45db9cf"
      },
      "execution_count": null,
      "outputs": [
        {
          "output_type": "stream",
          "name": "stdout",
          "text": [
            "9491\n",
            "1587\n"
          ]
        }
      ]
    },
    {
      "cell_type": "code",
      "source": [],
      "metadata": {
        "colab": {
          "base_uri": "https://localhost:8080/"
        },
        "id": "9P2bVU69aOme",
        "outputId": "8795e846-e46e-471f-e301-366a6a9f9ba7"
      },
      "execution_count": null,
      "outputs": [
        {
          "output_type": "stream",
          "name": "stdout",
          "text": [
            "Looking in indexes: https://pypi.org/simple, https://us-python.pkg.dev/colab-wheels/public/simple/\n",
            "Collecting emoji\n",
            "  Downloading emoji-2.2.0.tar.gz (240 kB)\n",
            "\u001b[2K     \u001b[90m━━━━━━━━━━━━━━━━━━━━━━━━━━━━━━━━━━━━━━\u001b[0m \u001b[32m240.9/240.9 KB\u001b[0m \u001b[31m10.5 MB/s\u001b[0m eta \u001b[36m0:00:00\u001b[0m\n",
            "\u001b[?25h  Preparing metadata (setup.py) ... \u001b[?25l\u001b[?25hdone\n",
            "Building wheels for collected packages: emoji\n",
            "  Building wheel for emoji (setup.py) ... \u001b[?25l\u001b[?25hdone\n",
            "  Created wheel for emoji: filename=emoji-2.2.0-py3-none-any.whl size=234926 sha256=1f8d8c0b663b421454e55037072a02d82171967a962346ac12b89a97a46894d0\n",
            "  Stored in directory: /root/.cache/pip/wheels/86/62/9e/a6b27a681abcde69970dbc0326ff51955f3beac72f15696984\n",
            "Successfully built emoji\n",
            "Installing collected packages: emoji\n",
            "Successfully installed emoji-2.2.0\n"
          ]
        }
      ]
    },
    {
      "cell_type": "code",
      "source": [
        "len(extract_emojis(df))\n"
      ],
      "metadata": {
        "colab": {
          "base_uri": "https://localhost:8080/"
        },
        "id": "5lH8SRyMaTRJ",
        "outputId": "865f0703-d855-4656-8d35-f711d855cc1f"
      },
      "execution_count": null,
      "outputs": [
        {
          "output_type": "execute_result",
          "data": {
            "text/plain": [
              "513"
            ]
          },
          "metadata": {},
          "execution_count": 24
        }
      ]
    },
    {
      "cell_type": "code",
      "source": [
        "def preprocess(text):\n",
        "    new_text = []\n",
        "    for t in text.split(\" \"):\n",
        "        t = '@user' if t.startswith('@') and len(t) > 1 else t\n",
        "        t = 'http' if t.startswith('http') else t\n",
        "        new_text.append(t)\n",
        "    return \" \".join(new_text)\n",
        "\n",
        "def get_embedding(text):\n",
        "    text = preprocess(text)\n",
        "    encoded_input = tokenizer(text, return_tensors='pt')\n",
        "    features = model(**encoded_input)\n",
        "    features = features[0].detach().numpy() \n",
        "    features_mean = np.mean(features[0], axis=0) \n",
        "    return features_mean\n",
        "\n",
        "query = \"Acabo de pedir pollo frito 🐣\" #spanish\n",
        "\n",
        "tweets = [\"We had a great time! ⚽️\", # english\n",
        "          \"We hebben een geweldige tijd gehad! ⛩\", # dutch\n",
        "          \"Nous avons passé un bon moment! 🎥\", # french\n",
        "          \"Ci siamo divertiti! 🍝\"] # italian\n",
        "\n",
        "d = defaultdict(int)\n",
        "for tweet in tweets:\n",
        "    sim = 1-cosine(get_embedding(query),get_embedding(tweet))\n",
        "    d[tweet] = sim\n",
        "    \n",
        "print('Most similar to: ',query)\n",
        "print('----------------------------------------')\n",
        "for idx,x in enumerate(sorted(d.items(), key=lambda x:x[1], reverse=True)):\n",
        "  print(idx+1,x[0])"
      ],
      "metadata": {
        "id": "Xw-2zLBDbYfn"
      },
      "execution_count": null,
      "outputs": []
    },
    {
      "cell_type": "code",
      "source": [
        "df_train, df_val, df_test = train_val_test_split(df)\n",
        "train, val = RegressionIntimacyDataset(df_train, xlmt_tokenizer), RegressionIntimacyDataset(df_val, xlmt_tokenizer)\n",
        "train_dataloader = torch.utils.data.DataLoader(train, batch_size = 2, shuffle = True)\n",
        "val_dataloader = torch.utils.data.DataLoader(val, batch_size = 2, shuffle = True)"
      ],
      "metadata": {
        "id": "OwLTracQ0PGp"
      },
      "execution_count": null,
      "outputs": []
    },
    {
      "cell_type": "code",
      "source": [
        "xlmt = AutoModel.from_pretrained(\"cardiffnlp/twitter-xlm-roberta-base\")\n"
      ],
      "metadata": {
        "id": "T5_QRPIr0Whl"
      },
      "execution_count": null,
      "outputs": []
    },
    {
      "cell_type": "code",
      "source": [
        "for inp, lab in train_dataloader:\n",
        "    print(inp, lab)\n",
        "    input_ids = inp['input_ids']\n",
        "    attention_mask = inp['attention_mask']#.squeeze(1)\n",
        "    print(50*\"*\")\n",
        "    print(input_ids.size())\n",
        "    print(50*\"*\")\n",
        "    print(attention_mask.size())\n",
        "\n",
        "\n",
        "    encoding_output = xlmt(input_ids = input_ids[0], attention_mask = attention_mask[0])\n",
        "    # print(encoding_output)\n",
        "    print(50*\"*\")\n",
        "    print(encoding_output[1].size())\n",
        "    break"
      ],
      "metadata": {
        "id": "6E46qxYV0ail"
      },
      "execution_count": null,
      "outputs": []
    }
  ]
}