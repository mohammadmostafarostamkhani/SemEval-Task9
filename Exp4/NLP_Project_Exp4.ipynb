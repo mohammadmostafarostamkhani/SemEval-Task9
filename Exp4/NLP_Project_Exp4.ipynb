{
  "nbformat": 4,
  "nbformat_minor": 0,
  "metadata": {
    "colab": {
      "provenance": [],
      "collapsed_sections": [
        "aoKnGMvyu6sp",
        "jh2aua1N1xT9",
        "87n_a9buJo6g",
        "943oqyS411gI",
        "FR9OR2lt7DWq",
        "bY4u7hSPxMXC",
        "60ELy8EVaQKn",
        "03lqdpuIfR-p",
        "KKw5AMGpfWNf",
        "j-hWk9fXZlho"
      ],
      "toc_visible": true
    },
    "kernelspec": {
      "name": "python3",
      "display_name": "Python 3"
    },
    "language_info": {
      "name": "python"
    },
    "gpuClass": "standard",
    "accelerator": "GPU",
    "widgets": {
      "application/vnd.jupyter.widget-state+json": {
        "f0a3e01389df421cbd84f7ca3b11ac38": {
          "model_module": "@jupyter-widgets/controls",
          "model_name": "HBoxModel",
          "model_module_version": "1.5.0",
          "state": {
            "_dom_classes": [],
            "_model_module": "@jupyter-widgets/controls",
            "_model_module_version": "1.5.0",
            "_model_name": "HBoxModel",
            "_view_count": null,
            "_view_module": "@jupyter-widgets/controls",
            "_view_module_version": "1.5.0",
            "_view_name": "HBoxView",
            "box_style": "",
            "children": [
              "IPY_MODEL_bc3df06d7c7f45c3af108a53d3d5d078",
              "IPY_MODEL_a8322c4e7dc044a5a27829120b8e97ca",
              "IPY_MODEL_3dfb09a61a3d4eceae344168c3600c68"
            ],
            "layout": "IPY_MODEL_6a7d8959b0644b5fa09207078996ac05"
          }
        },
        "bc3df06d7c7f45c3af108a53d3d5d078": {
          "model_module": "@jupyter-widgets/controls",
          "model_name": "HTMLModel",
          "model_module_version": "1.5.0",
          "state": {
            "_dom_classes": [],
            "_model_module": "@jupyter-widgets/controls",
            "_model_module_version": "1.5.0",
            "_model_name": "HTMLModel",
            "_view_count": null,
            "_view_module": "@jupyter-widgets/controls",
            "_view_module_version": "1.5.0",
            "_view_name": "HTMLView",
            "description": "",
            "description_tooltip": null,
            "layout": "IPY_MODEL_dd1eb825ee494fc8ab4e2518f65bc017",
            "placeholder": "​",
            "style": "IPY_MODEL_797084cf16cb42149fdbdcd4cb454d4b",
            "value": "Downloading (…)lve/main/config.json: 100%"
          }
        },
        "a8322c4e7dc044a5a27829120b8e97ca": {
          "model_module": "@jupyter-widgets/controls",
          "model_name": "FloatProgressModel",
          "model_module_version": "1.5.0",
          "state": {
            "_dom_classes": [],
            "_model_module": "@jupyter-widgets/controls",
            "_model_module_version": "1.5.0",
            "_model_name": "FloatProgressModel",
            "_view_count": null,
            "_view_module": "@jupyter-widgets/controls",
            "_view_module_version": "1.5.0",
            "_view_name": "ProgressView",
            "bar_style": "success",
            "description": "",
            "description_tooltip": null,
            "layout": "IPY_MODEL_b1ce785eaf24435ebe54e0746ca33238",
            "max": 652,
            "min": 0,
            "orientation": "horizontal",
            "style": "IPY_MODEL_1ba1cfe20b434f208677b89e5a5314a2",
            "value": 652
          }
        },
        "3dfb09a61a3d4eceae344168c3600c68": {
          "model_module": "@jupyter-widgets/controls",
          "model_name": "HTMLModel",
          "model_module_version": "1.5.0",
          "state": {
            "_dom_classes": [],
            "_model_module": "@jupyter-widgets/controls",
            "_model_module_version": "1.5.0",
            "_model_name": "HTMLModel",
            "_view_count": null,
            "_view_module": "@jupyter-widgets/controls",
            "_view_module_version": "1.5.0",
            "_view_name": "HTMLView",
            "description": "",
            "description_tooltip": null,
            "layout": "IPY_MODEL_fdb117c5ec69401bb49898733409d6f3",
            "placeholder": "​",
            "style": "IPY_MODEL_ddc5dfd42bd54da2b38342cd463b3314",
            "value": " 652/652 [00:00&lt;00:00, 23.1kB/s]"
          }
        },
        "6a7d8959b0644b5fa09207078996ac05": {
          "model_module": "@jupyter-widgets/base",
          "model_name": "LayoutModel",
          "model_module_version": "1.2.0",
          "state": {
            "_model_module": "@jupyter-widgets/base",
            "_model_module_version": "1.2.0",
            "_model_name": "LayoutModel",
            "_view_count": null,
            "_view_module": "@jupyter-widgets/base",
            "_view_module_version": "1.2.0",
            "_view_name": "LayoutView",
            "align_content": null,
            "align_items": null,
            "align_self": null,
            "border": null,
            "bottom": null,
            "display": null,
            "flex": null,
            "flex_flow": null,
            "grid_area": null,
            "grid_auto_columns": null,
            "grid_auto_flow": null,
            "grid_auto_rows": null,
            "grid_column": null,
            "grid_gap": null,
            "grid_row": null,
            "grid_template_areas": null,
            "grid_template_columns": null,
            "grid_template_rows": null,
            "height": null,
            "justify_content": null,
            "justify_items": null,
            "left": null,
            "margin": null,
            "max_height": null,
            "max_width": null,
            "min_height": null,
            "min_width": null,
            "object_fit": null,
            "object_position": null,
            "order": null,
            "overflow": null,
            "overflow_x": null,
            "overflow_y": null,
            "padding": null,
            "right": null,
            "top": null,
            "visibility": null,
            "width": null
          }
        },
        "dd1eb825ee494fc8ab4e2518f65bc017": {
          "model_module": "@jupyter-widgets/base",
          "model_name": "LayoutModel",
          "model_module_version": "1.2.0",
          "state": {
            "_model_module": "@jupyter-widgets/base",
            "_model_module_version": "1.2.0",
            "_model_name": "LayoutModel",
            "_view_count": null,
            "_view_module": "@jupyter-widgets/base",
            "_view_module_version": "1.2.0",
            "_view_name": "LayoutView",
            "align_content": null,
            "align_items": null,
            "align_self": null,
            "border": null,
            "bottom": null,
            "display": null,
            "flex": null,
            "flex_flow": null,
            "grid_area": null,
            "grid_auto_columns": null,
            "grid_auto_flow": null,
            "grid_auto_rows": null,
            "grid_column": null,
            "grid_gap": null,
            "grid_row": null,
            "grid_template_areas": null,
            "grid_template_columns": null,
            "grid_template_rows": null,
            "height": null,
            "justify_content": null,
            "justify_items": null,
            "left": null,
            "margin": null,
            "max_height": null,
            "max_width": null,
            "min_height": null,
            "min_width": null,
            "object_fit": null,
            "object_position": null,
            "order": null,
            "overflow": null,
            "overflow_x": null,
            "overflow_y": null,
            "padding": null,
            "right": null,
            "top": null,
            "visibility": null,
            "width": null
          }
        },
        "797084cf16cb42149fdbdcd4cb454d4b": {
          "model_module": "@jupyter-widgets/controls",
          "model_name": "DescriptionStyleModel",
          "model_module_version": "1.5.0",
          "state": {
            "_model_module": "@jupyter-widgets/controls",
            "_model_module_version": "1.5.0",
            "_model_name": "DescriptionStyleModel",
            "_view_count": null,
            "_view_module": "@jupyter-widgets/base",
            "_view_module_version": "1.2.0",
            "_view_name": "StyleView",
            "description_width": ""
          }
        },
        "b1ce785eaf24435ebe54e0746ca33238": {
          "model_module": "@jupyter-widgets/base",
          "model_name": "LayoutModel",
          "model_module_version": "1.2.0",
          "state": {
            "_model_module": "@jupyter-widgets/base",
            "_model_module_version": "1.2.0",
            "_model_name": "LayoutModel",
            "_view_count": null,
            "_view_module": "@jupyter-widgets/base",
            "_view_module_version": "1.2.0",
            "_view_name": "LayoutView",
            "align_content": null,
            "align_items": null,
            "align_self": null,
            "border": null,
            "bottom": null,
            "display": null,
            "flex": null,
            "flex_flow": null,
            "grid_area": null,
            "grid_auto_columns": null,
            "grid_auto_flow": null,
            "grid_auto_rows": null,
            "grid_column": null,
            "grid_gap": null,
            "grid_row": null,
            "grid_template_areas": null,
            "grid_template_columns": null,
            "grid_template_rows": null,
            "height": null,
            "justify_content": null,
            "justify_items": null,
            "left": null,
            "margin": null,
            "max_height": null,
            "max_width": null,
            "min_height": null,
            "min_width": null,
            "object_fit": null,
            "object_position": null,
            "order": null,
            "overflow": null,
            "overflow_x": null,
            "overflow_y": null,
            "padding": null,
            "right": null,
            "top": null,
            "visibility": null,
            "width": null
          }
        },
        "1ba1cfe20b434f208677b89e5a5314a2": {
          "model_module": "@jupyter-widgets/controls",
          "model_name": "ProgressStyleModel",
          "model_module_version": "1.5.0",
          "state": {
            "_model_module": "@jupyter-widgets/controls",
            "_model_module_version": "1.5.0",
            "_model_name": "ProgressStyleModel",
            "_view_count": null,
            "_view_module": "@jupyter-widgets/base",
            "_view_module_version": "1.2.0",
            "_view_name": "StyleView",
            "bar_color": null,
            "description_width": ""
          }
        },
        "fdb117c5ec69401bb49898733409d6f3": {
          "model_module": "@jupyter-widgets/base",
          "model_name": "LayoutModel",
          "model_module_version": "1.2.0",
          "state": {
            "_model_module": "@jupyter-widgets/base",
            "_model_module_version": "1.2.0",
            "_model_name": "LayoutModel",
            "_view_count": null,
            "_view_module": "@jupyter-widgets/base",
            "_view_module_version": "1.2.0",
            "_view_name": "LayoutView",
            "align_content": null,
            "align_items": null,
            "align_self": null,
            "border": null,
            "bottom": null,
            "display": null,
            "flex": null,
            "flex_flow": null,
            "grid_area": null,
            "grid_auto_columns": null,
            "grid_auto_flow": null,
            "grid_auto_rows": null,
            "grid_column": null,
            "grid_gap": null,
            "grid_row": null,
            "grid_template_areas": null,
            "grid_template_columns": null,
            "grid_template_rows": null,
            "height": null,
            "justify_content": null,
            "justify_items": null,
            "left": null,
            "margin": null,
            "max_height": null,
            "max_width": null,
            "min_height": null,
            "min_width": null,
            "object_fit": null,
            "object_position": null,
            "order": null,
            "overflow": null,
            "overflow_x": null,
            "overflow_y": null,
            "padding": null,
            "right": null,
            "top": null,
            "visibility": null,
            "width": null
          }
        },
        "ddc5dfd42bd54da2b38342cd463b3314": {
          "model_module": "@jupyter-widgets/controls",
          "model_name": "DescriptionStyleModel",
          "model_module_version": "1.5.0",
          "state": {
            "_model_module": "@jupyter-widgets/controls",
            "_model_module_version": "1.5.0",
            "_model_name": "DescriptionStyleModel",
            "_view_count": null,
            "_view_module": "@jupyter-widgets/base",
            "_view_module_version": "1.2.0",
            "_view_name": "StyleView",
            "description_width": ""
          }
        },
        "5ed32bcf9e8f42fc8a8407dc27c9ede4": {
          "model_module": "@jupyter-widgets/controls",
          "model_name": "HBoxModel",
          "model_module_version": "1.5.0",
          "state": {
            "_dom_classes": [],
            "_model_module": "@jupyter-widgets/controls",
            "_model_module_version": "1.5.0",
            "_model_name": "HBoxModel",
            "_view_count": null,
            "_view_module": "@jupyter-widgets/controls",
            "_view_module_version": "1.5.0",
            "_view_name": "HBoxView",
            "box_style": "",
            "children": [
              "IPY_MODEL_29d7537077024d26aa6e7364cb8ad743",
              "IPY_MODEL_a17b7bda3b54484697c0e06688f13bc4",
              "IPY_MODEL_e6794fb5c69b4c199a5a0cc4f26754b1"
            ],
            "layout": "IPY_MODEL_7ccc553c73224fea8beb772bad7c2290"
          }
        },
        "29d7537077024d26aa6e7364cb8ad743": {
          "model_module": "@jupyter-widgets/controls",
          "model_name": "HTMLModel",
          "model_module_version": "1.5.0",
          "state": {
            "_dom_classes": [],
            "_model_module": "@jupyter-widgets/controls",
            "_model_module_version": "1.5.0",
            "_model_name": "HTMLModel",
            "_view_count": null,
            "_view_module": "@jupyter-widgets/controls",
            "_view_module_version": "1.5.0",
            "_view_name": "HTMLView",
            "description": "",
            "description_tooltip": null,
            "layout": "IPY_MODEL_9ce9c9a34b67490abab727043a7457b0",
            "placeholder": "​",
            "style": "IPY_MODEL_e15c5707f8444ba99eaec486324ffb87",
            "value": "Downloading (…)ncepiece.bpe.model&quot;;: 100%"
          }
        },
        "a17b7bda3b54484697c0e06688f13bc4": {
          "model_module": "@jupyter-widgets/controls",
          "model_name": "FloatProgressModel",
          "model_module_version": "1.5.0",
          "state": {
            "_dom_classes": [],
            "_model_module": "@jupyter-widgets/controls",
            "_model_module_version": "1.5.0",
            "_model_name": "FloatProgressModel",
            "_view_count": null,
            "_view_module": "@jupyter-widgets/controls",
            "_view_module_version": "1.5.0",
            "_view_name": "ProgressView",
            "bar_style": "success",
            "description": "",
            "description_tooltip": null,
            "layout": "IPY_MODEL_9a491b0454354d56abdff57881318377",
            "max": 5069051,
            "min": 0,
            "orientation": "horizontal",
            "style": "IPY_MODEL_8b26601d9a544770853c5706c19e77df",
            "value": 5069051
          }
        },
        "e6794fb5c69b4c199a5a0cc4f26754b1": {
          "model_module": "@jupyter-widgets/controls",
          "model_name": "HTMLModel",
          "model_module_version": "1.5.0",
          "state": {
            "_dom_classes": [],
            "_model_module": "@jupyter-widgets/controls",
            "_model_module_version": "1.5.0",
            "_model_name": "HTMLModel",
            "_view_count": null,
            "_view_module": "@jupyter-widgets/controls",
            "_view_module_version": "1.5.0",
            "_view_name": "HTMLView",
            "description": "",
            "description_tooltip": null,
            "layout": "IPY_MODEL_1d70e2ff33ec46d2bba5e095f62d57a6",
            "placeholder": "​",
            "style": "IPY_MODEL_d118f68d76694f3fb8b1d007607f65ad",
            "value": " 5.07M/5.07M [00:00&lt;00:00, 73.0MB/s]"
          }
        },
        "7ccc553c73224fea8beb772bad7c2290": {
          "model_module": "@jupyter-widgets/base",
          "model_name": "LayoutModel",
          "model_module_version": "1.2.0",
          "state": {
            "_model_module": "@jupyter-widgets/base",
            "_model_module_version": "1.2.0",
            "_model_name": "LayoutModel",
            "_view_count": null,
            "_view_module": "@jupyter-widgets/base",
            "_view_module_version": "1.2.0",
            "_view_name": "LayoutView",
            "align_content": null,
            "align_items": null,
            "align_self": null,
            "border": null,
            "bottom": null,
            "display": null,
            "flex": null,
            "flex_flow": null,
            "grid_area": null,
            "grid_auto_columns": null,
            "grid_auto_flow": null,
            "grid_auto_rows": null,
            "grid_column": null,
            "grid_gap": null,
            "grid_row": null,
            "grid_template_areas": null,
            "grid_template_columns": null,
            "grid_template_rows": null,
            "height": null,
            "justify_content": null,
            "justify_items": null,
            "left": null,
            "margin": null,
            "max_height": null,
            "max_width": null,
            "min_height": null,
            "min_width": null,
            "object_fit": null,
            "object_position": null,
            "order": null,
            "overflow": null,
            "overflow_x": null,
            "overflow_y": null,
            "padding": null,
            "right": null,
            "top": null,
            "visibility": null,
            "width": null
          }
        },
        "9ce9c9a34b67490abab727043a7457b0": {
          "model_module": "@jupyter-widgets/base",
          "model_name": "LayoutModel",
          "model_module_version": "1.2.0",
          "state": {
            "_model_module": "@jupyter-widgets/base",
            "_model_module_version": "1.2.0",
            "_model_name": "LayoutModel",
            "_view_count": null,
            "_view_module": "@jupyter-widgets/base",
            "_view_module_version": "1.2.0",
            "_view_name": "LayoutView",
            "align_content": null,
            "align_items": null,
            "align_self": null,
            "border": null,
            "bottom": null,
            "display": null,
            "flex": null,
            "flex_flow": null,
            "grid_area": null,
            "grid_auto_columns": null,
            "grid_auto_flow": null,
            "grid_auto_rows": null,
            "grid_column": null,
            "grid_gap": null,
            "grid_row": null,
            "grid_template_areas": null,
            "grid_template_columns": null,
            "grid_template_rows": null,
            "height": null,
            "justify_content": null,
            "justify_items": null,
            "left": null,
            "margin": null,
            "max_height": null,
            "max_width": null,
            "min_height": null,
            "min_width": null,
            "object_fit": null,
            "object_position": null,
            "order": null,
            "overflow": null,
            "overflow_x": null,
            "overflow_y": null,
            "padding": null,
            "right": null,
            "top": null,
            "visibility": null,
            "width": null
          }
        },
        "e15c5707f8444ba99eaec486324ffb87": {
          "model_module": "@jupyter-widgets/controls",
          "model_name": "DescriptionStyleModel",
          "model_module_version": "1.5.0",
          "state": {
            "_model_module": "@jupyter-widgets/controls",
            "_model_module_version": "1.5.0",
            "_model_name": "DescriptionStyleModel",
            "_view_count": null,
            "_view_module": "@jupyter-widgets/base",
            "_view_module_version": "1.2.0",
            "_view_name": "StyleView",
            "description_width": ""
          }
        },
        "9a491b0454354d56abdff57881318377": {
          "model_module": "@jupyter-widgets/base",
          "model_name": "LayoutModel",
          "model_module_version": "1.2.0",
          "state": {
            "_model_module": "@jupyter-widgets/base",
            "_model_module_version": "1.2.0",
            "_model_name": "LayoutModel",
            "_view_count": null,
            "_view_module": "@jupyter-widgets/base",
            "_view_module_version": "1.2.0",
            "_view_name": "LayoutView",
            "align_content": null,
            "align_items": null,
            "align_self": null,
            "border": null,
            "bottom": null,
            "display": null,
            "flex": null,
            "flex_flow": null,
            "grid_area": null,
            "grid_auto_columns": null,
            "grid_auto_flow": null,
            "grid_auto_rows": null,
            "grid_column": null,
            "grid_gap": null,
            "grid_row": null,
            "grid_template_areas": null,
            "grid_template_columns": null,
            "grid_template_rows": null,
            "height": null,
            "justify_content": null,
            "justify_items": null,
            "left": null,
            "margin": null,
            "max_height": null,
            "max_width": null,
            "min_height": null,
            "min_width": null,
            "object_fit": null,
            "object_position": null,
            "order": null,
            "overflow": null,
            "overflow_x": null,
            "overflow_y": null,
            "padding": null,
            "right": null,
            "top": null,
            "visibility": null,
            "width": null
          }
        },
        "8b26601d9a544770853c5706c19e77df": {
          "model_module": "@jupyter-widgets/controls",
          "model_name": "ProgressStyleModel",
          "model_module_version": "1.5.0",
          "state": {
            "_model_module": "@jupyter-widgets/controls",
            "_model_module_version": "1.5.0",
            "_model_name": "ProgressStyleModel",
            "_view_count": null,
            "_view_module": "@jupyter-widgets/base",
            "_view_module_version": "1.2.0",
            "_view_name": "StyleView",
            "bar_color": null,
            "description_width": ""
          }
        },
        "1d70e2ff33ec46d2bba5e095f62d57a6": {
          "model_module": "@jupyter-widgets/base",
          "model_name": "LayoutModel",
          "model_module_version": "1.2.0",
          "state": {
            "_model_module": "@jupyter-widgets/base",
            "_model_module_version": "1.2.0",
            "_model_name": "LayoutModel",
            "_view_count": null,
            "_view_module": "@jupyter-widgets/base",
            "_view_module_version": "1.2.0",
            "_view_name": "LayoutView",
            "align_content": null,
            "align_items": null,
            "align_self": null,
            "border": null,
            "bottom": null,
            "display": null,
            "flex": null,
            "flex_flow": null,
            "grid_area": null,
            "grid_auto_columns": null,
            "grid_auto_flow": null,
            "grid_auto_rows": null,
            "grid_column": null,
            "grid_gap": null,
            "grid_row": null,
            "grid_template_areas": null,
            "grid_template_columns": null,
            "grid_template_rows": null,
            "height": null,
            "justify_content": null,
            "justify_items": null,
            "left": null,
            "margin": null,
            "max_height": null,
            "max_width": null,
            "min_height": null,
            "min_width": null,
            "object_fit": null,
            "object_position": null,
            "order": null,
            "overflow": null,
            "overflow_x": null,
            "overflow_y": null,
            "padding": null,
            "right": null,
            "top": null,
            "visibility": null,
            "width": null
          }
        },
        "d118f68d76694f3fb8b1d007607f65ad": {
          "model_module": "@jupyter-widgets/controls",
          "model_name": "DescriptionStyleModel",
          "model_module_version": "1.5.0",
          "state": {
            "_model_module": "@jupyter-widgets/controls",
            "_model_module_version": "1.5.0",
            "_model_name": "DescriptionStyleModel",
            "_view_count": null,
            "_view_module": "@jupyter-widgets/base",
            "_view_module_version": "1.2.0",
            "_view_name": "StyleView",
            "description_width": ""
          }
        },
        "9e3abe758c554b17b7ffc13739f09678": {
          "model_module": "@jupyter-widgets/controls",
          "model_name": "HBoxModel",
          "model_module_version": "1.5.0",
          "state": {
            "_dom_classes": [],
            "_model_module": "@jupyter-widgets/controls",
            "_model_module_version": "1.5.0",
            "_model_name": "HBoxModel",
            "_view_count": null,
            "_view_module": "@jupyter-widgets/controls",
            "_view_module_version": "1.5.0",
            "_view_name": "HBoxView",
            "box_style": "",
            "children": [
              "IPY_MODEL_db413c6cce22437f944773600a79868d",
              "IPY_MODEL_ba8f7d861cc348c5a31d03299d18db0f",
              "IPY_MODEL_885ed9c15d6541058b59734675c6f43e"
            ],
            "layout": "IPY_MODEL_ae7a6f7944e74bc084b344763a39cde7"
          }
        },
        "db413c6cce22437f944773600a79868d": {
          "model_module": "@jupyter-widgets/controls",
          "model_name": "HTMLModel",
          "model_module_version": "1.5.0",
          "state": {
            "_dom_classes": [],
            "_model_module": "@jupyter-widgets/controls",
            "_model_module_version": "1.5.0",
            "_model_name": "HTMLModel",
            "_view_count": null,
            "_view_module": "@jupyter-widgets/controls",
            "_view_module_version": "1.5.0",
            "_view_name": "HTMLView",
            "description": "",
            "description_tooltip": null,
            "layout": "IPY_MODEL_eb3bd6aa212f4ddf80b82d3db782c215",
            "placeholder": "​",
            "style": "IPY_MODEL_7d679ca741914d75bbc52bff7bc5560a",
            "value": "Downloading (…)/main/tokenizer.json: 100%"
          }
        },
        "ba8f7d861cc348c5a31d03299d18db0f": {
          "model_module": "@jupyter-widgets/controls",
          "model_name": "FloatProgressModel",
          "model_module_version": "1.5.0",
          "state": {
            "_dom_classes": [],
            "_model_module": "@jupyter-widgets/controls",
            "_model_module_version": "1.5.0",
            "_model_name": "FloatProgressModel",
            "_view_count": null,
            "_view_module": "@jupyter-widgets/controls",
            "_view_module_version": "1.5.0",
            "_view_name": "ProgressView",
            "bar_style": "success",
            "description": "",
            "description_tooltip": null,
            "layout": "IPY_MODEL_d4c51c313d884e31ba2f4fe0e6eb6476",
            "max": 9096718,
            "min": 0,
            "orientation": "horizontal",
            "style": "IPY_MODEL_a3acfc4a1078430da017a40a8ff3a70a",
            "value": 9096718
          }
        },
        "885ed9c15d6541058b59734675c6f43e": {
          "model_module": "@jupyter-widgets/controls",
          "model_name": "HTMLModel",
          "model_module_version": "1.5.0",
          "state": {
            "_dom_classes": [],
            "_model_module": "@jupyter-widgets/controls",
            "_model_module_version": "1.5.0",
            "_model_name": "HTMLModel",
            "_view_count": null,
            "_view_module": "@jupyter-widgets/controls",
            "_view_module_version": "1.5.0",
            "_view_name": "HTMLView",
            "description": "",
            "description_tooltip": null,
            "layout": "IPY_MODEL_b1fa5f115f904174b32a4ee2d2e5319a",
            "placeholder": "​",
            "style": "IPY_MODEL_e4b5ab5424d14edda7db9b28f6e0eba8",
            "value": " 9.10M/9.10M [00:00&lt;00:00, 131MB/s]"
          }
        },
        "ae7a6f7944e74bc084b344763a39cde7": {
          "model_module": "@jupyter-widgets/base",
          "model_name": "LayoutModel",
          "model_module_version": "1.2.0",
          "state": {
            "_model_module": "@jupyter-widgets/base",
            "_model_module_version": "1.2.0",
            "_model_name": "LayoutModel",
            "_view_count": null,
            "_view_module": "@jupyter-widgets/base",
            "_view_module_version": "1.2.0",
            "_view_name": "LayoutView",
            "align_content": null,
            "align_items": null,
            "align_self": null,
            "border": null,
            "bottom": null,
            "display": null,
            "flex": null,
            "flex_flow": null,
            "grid_area": null,
            "grid_auto_columns": null,
            "grid_auto_flow": null,
            "grid_auto_rows": null,
            "grid_column": null,
            "grid_gap": null,
            "grid_row": null,
            "grid_template_areas": null,
            "grid_template_columns": null,
            "grid_template_rows": null,
            "height": null,
            "justify_content": null,
            "justify_items": null,
            "left": null,
            "margin": null,
            "max_height": null,
            "max_width": null,
            "min_height": null,
            "min_width": null,
            "object_fit": null,
            "object_position": null,
            "order": null,
            "overflow": null,
            "overflow_x": null,
            "overflow_y": null,
            "padding": null,
            "right": null,
            "top": null,
            "visibility": null,
            "width": null
          }
        },
        "eb3bd6aa212f4ddf80b82d3db782c215": {
          "model_module": "@jupyter-widgets/base",
          "model_name": "LayoutModel",
          "model_module_version": "1.2.0",
          "state": {
            "_model_module": "@jupyter-widgets/base",
            "_model_module_version": "1.2.0",
            "_model_name": "LayoutModel",
            "_view_count": null,
            "_view_module": "@jupyter-widgets/base",
            "_view_module_version": "1.2.0",
            "_view_name": "LayoutView",
            "align_content": null,
            "align_items": null,
            "align_self": null,
            "border": null,
            "bottom": null,
            "display": null,
            "flex": null,
            "flex_flow": null,
            "grid_area": null,
            "grid_auto_columns": null,
            "grid_auto_flow": null,
            "grid_auto_rows": null,
            "grid_column": null,
            "grid_gap": null,
            "grid_row": null,
            "grid_template_areas": null,
            "grid_template_columns": null,
            "grid_template_rows": null,
            "height": null,
            "justify_content": null,
            "justify_items": null,
            "left": null,
            "margin": null,
            "max_height": null,
            "max_width": null,
            "min_height": null,
            "min_width": null,
            "object_fit": null,
            "object_position": null,
            "order": null,
            "overflow": null,
            "overflow_x": null,
            "overflow_y": null,
            "padding": null,
            "right": null,
            "top": null,
            "visibility": null,
            "width": null
          }
        },
        "7d679ca741914d75bbc52bff7bc5560a": {
          "model_module": "@jupyter-widgets/controls",
          "model_name": "DescriptionStyleModel",
          "model_module_version": "1.5.0",
          "state": {
            "_model_module": "@jupyter-widgets/controls",
            "_model_module_version": "1.5.0",
            "_model_name": "DescriptionStyleModel",
            "_view_count": null,
            "_view_module": "@jupyter-widgets/base",
            "_view_module_version": "1.2.0",
            "_view_name": "StyleView",
            "description_width": ""
          }
        },
        "d4c51c313d884e31ba2f4fe0e6eb6476": {
          "model_module": "@jupyter-widgets/base",
          "model_name": "LayoutModel",
          "model_module_version": "1.2.0",
          "state": {
            "_model_module": "@jupyter-widgets/base",
            "_model_module_version": "1.2.0",
            "_model_name": "LayoutModel",
            "_view_count": null,
            "_view_module": "@jupyter-widgets/base",
            "_view_module_version": "1.2.0",
            "_view_name": "LayoutView",
            "align_content": null,
            "align_items": null,
            "align_self": null,
            "border": null,
            "bottom": null,
            "display": null,
            "flex": null,
            "flex_flow": null,
            "grid_area": null,
            "grid_auto_columns": null,
            "grid_auto_flow": null,
            "grid_auto_rows": null,
            "grid_column": null,
            "grid_gap": null,
            "grid_row": null,
            "grid_template_areas": null,
            "grid_template_columns": null,
            "grid_template_rows": null,
            "height": null,
            "justify_content": null,
            "justify_items": null,
            "left": null,
            "margin": null,
            "max_height": null,
            "max_width": null,
            "min_height": null,
            "min_width": null,
            "object_fit": null,
            "object_position": null,
            "order": null,
            "overflow": null,
            "overflow_x": null,
            "overflow_y": null,
            "padding": null,
            "right": null,
            "top": null,
            "visibility": null,
            "width": null
          }
        },
        "a3acfc4a1078430da017a40a8ff3a70a": {
          "model_module": "@jupyter-widgets/controls",
          "model_name": "ProgressStyleModel",
          "model_module_version": "1.5.0",
          "state": {
            "_model_module": "@jupyter-widgets/controls",
            "_model_module_version": "1.5.0",
            "_model_name": "ProgressStyleModel",
            "_view_count": null,
            "_view_module": "@jupyter-widgets/base",
            "_view_module_version": "1.2.0",
            "_view_name": "StyleView",
            "bar_color": null,
            "description_width": ""
          }
        },
        "b1fa5f115f904174b32a4ee2d2e5319a": {
          "model_module": "@jupyter-widgets/base",
          "model_name": "LayoutModel",
          "model_module_version": "1.2.0",
          "state": {
            "_model_module": "@jupyter-widgets/base",
            "_model_module_version": "1.2.0",
            "_model_name": "LayoutModel",
            "_view_count": null,
            "_view_module": "@jupyter-widgets/base",
            "_view_module_version": "1.2.0",
            "_view_name": "LayoutView",
            "align_content": null,
            "align_items": null,
            "align_self": null,
            "border": null,
            "bottom": null,
            "display": null,
            "flex": null,
            "flex_flow": null,
            "grid_area": null,
            "grid_auto_columns": null,
            "grid_auto_flow": null,
            "grid_auto_rows": null,
            "grid_column": null,
            "grid_gap": null,
            "grid_row": null,
            "grid_template_areas": null,
            "grid_template_columns": null,
            "grid_template_rows": null,
            "height": null,
            "justify_content": null,
            "justify_items": null,
            "left": null,
            "margin": null,
            "max_height": null,
            "max_width": null,
            "min_height": null,
            "min_width": null,
            "object_fit": null,
            "object_position": null,
            "order": null,
            "overflow": null,
            "overflow_x": null,
            "overflow_y": null,
            "padding": null,
            "right": null,
            "top": null,
            "visibility": null,
            "width": null
          }
        },
        "e4b5ab5424d14edda7db9b28f6e0eba8": {
          "model_module": "@jupyter-widgets/controls",
          "model_name": "DescriptionStyleModel",
          "model_module_version": "1.5.0",
          "state": {
            "_model_module": "@jupyter-widgets/controls",
            "_model_module_version": "1.5.0",
            "_model_name": "DescriptionStyleModel",
            "_view_count": null,
            "_view_module": "@jupyter-widgets/base",
            "_view_module_version": "1.2.0",
            "_view_name": "StyleView",
            "description_width": ""
          }
        }
      }
    }
  },
  "cells": [
    {
      "cell_type": "markdown",
      "source": [
        "# Imports"
      ],
      "metadata": {
        "id": "ncfyuncDwoxv"
      }
    },
    {
      "cell_type": "code",
      "source": [
        "!pip install transformers\n",
        "!pip install emoji\n",
        "!pip install sentencepiece\n",
        "!pip install datasets\n",
        "!pip install transformers"
      ],
      "metadata": {
        "id": "AERHrOphGHdH"
      },
      "execution_count": null,
      "outputs": []
    },
    {
      "cell_type": "code",
      "source": [
        "import numpy as np\n",
        "import pandas as pd\n",
        "from torch.utils.data import Dataset, DataLoader\n",
        "from torchvision import transforms, utils\n",
        "import plotly.express as px\n",
        "import torch\n",
        "from transformers import BertTokenizer\n",
        "from torch import nn\n",
        "from transformers import BertModel\n",
        "from torch.optim import Adam\n",
        "from tqdm import tqdm\n",
        "# from tqdm.auto import tqdm\n",
        "from sklearn.model_selection import train_test_split\n",
        "from sklearn.preprocessing import MinMaxScaler\n",
        "import emoji\n",
        "from transformers import AutoModelForSequenceClassification, Trainer, TrainingArguments, AutoTokenizer, AutoModel, AutoConfig\n",
        "from sklearn.metrics import classification_report\n",
        "from transformers.modeling_outputs import TokenClassifierOutput, SequenceClassifierOutput\n",
        "from transformers import AdamW, get_scheduler\n",
        "from datasets import load_metric, Dataset\n",
        "from statistics import mean"
      ],
      "metadata": {
        "id": "_GIr10eHwmQ4"
      },
      "execution_count": null,
      "outputs": []
    },
    {
      "cell_type": "markdown",
      "source": [
        "# Mounting Drive for Reading Data"
      ],
      "metadata": {
        "id": "aoKnGMvyu6sp"
      }
    },
    {
      "cell_type": "code",
      "execution_count": null,
      "metadata": {
        "colab": {
          "base_uri": "https://localhost:8080/"
        },
        "id": "kJjAMPNctlfg",
        "outputId": "58c0e2ec-be70-42b5-8a8f-d70f61acdaf0"
      },
      "outputs": [
        {
          "output_type": "stream",
          "name": "stdout",
          "text": [
            "Mounted at /content/drive\n"
          ]
        }
      ],
      "source": [
        "from google.colab import drive\n",
        "drive.mount('/content/drive')"
      ]
    },
    {
      "cell_type": "code",
      "source": [
        "cd 'drive/MyDrive/NLP_Project'"
      ],
      "metadata": {
        "colab": {
          "base_uri": "https://localhost:8080/"
        },
        "id": "PPjgmd2yu1ty",
        "outputId": "22d42d32-89d4-42b7-9163-baaa1c72f480"
      },
      "execution_count": null,
      "outputs": [
        {
          "output_type": "stream",
          "name": "stdout",
          "text": [
            "/content/drive/MyDrive/NLP_Project\n"
          ]
        }
      ]
    },
    {
      "cell_type": "markdown",
      "source": [
        "# utils"
      ],
      "metadata": {
        "id": "y37V0aPZZ6vQ"
      }
    },
    {
      "cell_type": "code",
      "source": [
        "def read_data(file_path = \"train.csv\"):\n",
        "  df = pd.read_csv(file_path)\n",
        "  df['len'] = df['text'].apply(lambda x: len(x))\n",
        "  df['label'] = df['label'].astype('float32')\n",
        "#   df['normalized_label'] = df['label'].apply(lambda x: (x-1)/5)\n",
        "  return df\n",
        "\n",
        "def filter_tweet_language(df, language = \"English\"):\n",
        "  return df[df['language']==language]\n",
        "\n",
        "def filter_tweet_intimacy(df, lower_bound = 1, upper_bound = 5):\n",
        "  return df.loc[(df['label'] >= lower_bound) & (df['label'] <= upper_bound)]\n",
        "\n",
        "def train_val_test_split(df, train_portion = 0.9, val_portion = 0.05, test_portion = 0.05):\n",
        "    df_train, df_val, df_test, _ = np.split(df.sample(frac=1, random_state=42), [int(train_portion * len(df)), int((train_portion + val_portion) * len(df)), int((train_portion + val_portion + test_portion) * len(df))])\n",
        "    return df_train, df_val, df_test\n",
        "\n",
        "def extract_emojis(df):\n",
        "    emojis_list = list()\n",
        "    for s in df['text']:\n",
        "        emojis_in_text = emoji.distinct_emoji_list(s)\n",
        "        if len(emojis_in_text)>0:\n",
        "            emojis_list.extend(emojis_in_text)\n",
        "    return list(set(emojis_list))"
      ],
      "metadata": {
        "id": "pWUL9DmuZ8Oa"
      },
      "execution_count": null,
      "outputs": []
    },
    {
      "cell_type": "markdown",
      "source": [
        "# HuggingFace Models"
      ],
      "metadata": {
        "id": "JnbTO5GX4j_p"
      }
    },
    {
      "cell_type": "markdown",
      "source": [
        "## hyperparameters"
      ],
      "metadata": {
        "id": "Od3SAtJX3354"
      }
    },
    {
      "cell_type": "code",
      "source": [
        "EPOCHS = 6\n",
        "BATCH_SIZE = 32\n",
        "PATH_TO_SAVE = \"./checkpoint\""
      ],
      "metadata": {
        "id": "ct3-Qocy370h"
      },
      "execution_count": null,
      "outputs": []
    },
    {
      "cell_type": "markdown",
      "source": [
        "## creating dataset"
      ],
      "metadata": {
        "id": "d4TvPVrH5B1L"
      }
    },
    {
      "cell_type": "code",
      "source": [
        "class RegressionIntimacyDataset(Dataset):\n",
        "    def __init__(self, df, tokenizer):\n",
        "        self.all_data = df\n",
        "        self.tokenizer = tokenizer\n",
        "        \n",
        "        # tokenized texts of our dataset\n",
        "        self.texts = [self.tokenizer(text, padding='max_length', max_length = 512, truncation=True, return_tensors=\"pt\") \n",
        "                                for text in self.all_data['text']]\n",
        "\n",
        "        # intimacy scores\n",
        "        scaler = MinMaxScaler()\n",
        "        self.labels = scaler.fit_transform(self.all_data['label'].to_numpy().reshape(-1, 1))\n",
        "    \n",
        "    def classes(self,):\n",
        "        return self.labels\n",
        "    \n",
        "    def __len__(self):\n",
        "        return len(self.labels)\n",
        "    \n",
        "    def get_batch_texts(self, idx):\n",
        "        # Fetch a batch of inputs\n",
        "        return self.texts[idx]\n",
        "    \n",
        "    def get_batch_labels(self, idx):\n",
        "        # Fetch a batch of labels\n",
        "        return np.array(self.labels[idx])\n",
        "    \n",
        "    def get_max_setntence_len(self):\n",
        "        # get length of longest sentence in our dataset\n",
        "        return max(self.all_data['len'])\n",
        "    \n",
        "    def __getitem__(self, idx):\n",
        "        batch_texts = self.get_batch_texts(idx)\n",
        "        batch_labels = self.get_batch_labels(idx)\n",
        "        \n",
        "        return batch_texts, batch_labels\n",
        "\n",
        "\n"
      ],
      "metadata": {
        "id": "rpbZbbNU4jMP"
      },
      "execution_count": null,
      "outputs": []
    },
    {
      "cell_type": "code",
      "source": [
        "MODEL = \"cardiffnlp/twitter-xlm-roberta-base\""
      ],
      "metadata": {
        "id": "iSaK5OTfAx67"
      },
      "execution_count": null,
      "outputs": []
    },
    {
      "cell_type": "code",
      "source": [
        "# tokenizer for tokenization of texts\n",
        "xlmt_tokenizer = AutoTokenizer.from_pretrained(MODEL, use_fast=True)\n"
      ],
      "metadata": {
        "id": "Y0jU1hMT596h",
        "colab": {
          "base_uri": "https://localhost:8080/",
          "height": 113,
          "referenced_widgets": [
            "f0a3e01389df421cbd84f7ca3b11ac38",
            "bc3df06d7c7f45c3af108a53d3d5d078",
            "a8322c4e7dc044a5a27829120b8e97ca",
            "3dfb09a61a3d4eceae344168c3600c68",
            "6a7d8959b0644b5fa09207078996ac05",
            "dd1eb825ee494fc8ab4e2518f65bc017",
            "797084cf16cb42149fdbdcd4cb454d4b",
            "b1ce785eaf24435ebe54e0746ca33238",
            "1ba1cfe20b434f208677b89e5a5314a2",
            "fdb117c5ec69401bb49898733409d6f3",
            "ddc5dfd42bd54da2b38342cd463b3314",
            "5ed32bcf9e8f42fc8a8407dc27c9ede4",
            "29d7537077024d26aa6e7364cb8ad743",
            "a17b7bda3b54484697c0e06688f13bc4",
            "e6794fb5c69b4c199a5a0cc4f26754b1",
            "7ccc553c73224fea8beb772bad7c2290",
            "9ce9c9a34b67490abab727043a7457b0",
            "e15c5707f8444ba99eaec486324ffb87",
            "9a491b0454354d56abdff57881318377",
            "8b26601d9a544770853c5706c19e77df",
            "1d70e2ff33ec46d2bba5e095f62d57a6",
            "d118f68d76694f3fb8b1d007607f65ad",
            "9e3abe758c554b17b7ffc13739f09678",
            "db413c6cce22437f944773600a79868d",
            "ba8f7d861cc348c5a31d03299d18db0f",
            "885ed9c15d6541058b59734675c6f43e",
            "ae7a6f7944e74bc084b344763a39cde7",
            "eb3bd6aa212f4ddf80b82d3db782c215",
            "7d679ca741914d75bbc52bff7bc5560a",
            "d4c51c313d884e31ba2f4fe0e6eb6476",
            "a3acfc4a1078430da017a40a8ff3a70a",
            "b1fa5f115f904174b32a4ee2d2e5319a",
            "e4b5ab5424d14edda7db9b28f6e0eba8"
          ]
        },
        "outputId": "52375b5c-2f77-42b6-b060-568771591d84"
      },
      "execution_count": null,
      "outputs": [
        {
          "output_type": "display_data",
          "data": {
            "text/plain": [
              "Downloading (…)lve/main/config.json:   0%|          | 0.00/652 [00:00<?, ?B/s]"
            ],
            "application/vnd.jupyter.widget-view+json": {
              "version_major": 2,
              "version_minor": 0,
              "model_id": "f0a3e01389df421cbd84f7ca3b11ac38"
            }
          },
          "metadata": {}
        },
        {
          "output_type": "display_data",
          "data": {
            "text/plain": [
              "Downloading (…)ncepiece.bpe.model\";:   0%|          | 0.00/5.07M [00:00<?, ?B/s]"
            ],
            "application/vnd.jupyter.widget-view+json": {
              "version_major": 2,
              "version_minor": 0,
              "model_id": "5ed32bcf9e8f42fc8a8407dc27c9ede4"
            }
          },
          "metadata": {}
        },
        {
          "output_type": "display_data",
          "data": {
            "text/plain": [
              "Downloading (…)/main/tokenizer.json:   0%|          | 0.00/9.10M [00:00<?, ?B/s]"
            ],
            "application/vnd.jupyter.widget-view+json": {
              "version_major": 2,
              "version_minor": 0,
              "model_id": "9e3abe758c554b17b7ffc13739f09678"
            }
          },
          "metadata": {}
        }
      ]
    },
    {
      "cell_type": "code",
      "source": [
        "df = read_data()\n",
        "intim_dataset = RegressionIntimacyDataset(df, xlmt_tokenizer)\n",
        "print(len(intim_dataset.labels))"
      ],
      "metadata": {
        "colab": {
          "base_uri": "https://localhost:8080/"
        },
        "id": "N0ARPx006O90",
        "outputId": "d923e3df-34f7-45d2-dc6a-0a4135b1b43d"
      },
      "execution_count": null,
      "outputs": [
        {
          "output_type": "stream",
          "name": "stdout",
          "text": [
            "15839\n"
          ]
        }
      ]
    },
    {
      "cell_type": "code",
      "source": [
        "df['label']"
      ],
      "metadata": {
        "colab": {
          "base_uri": "https://localhost:8080/"
        },
        "id": "643xHKa4jvvc",
        "outputId": "c70a7e6e-a80d-44cb-be65-262f412c83a6"
      },
      "execution_count": null,
      "outputs": [
        {
          "output_type": "execute_result",
          "data": {
            "text/plain": [
              "0       1.8\n",
              "1       1.0\n",
              "2       1.0\n",
              "3       1.6\n",
              "4       1.6\n",
              "       ... \n",
              "9486    1.0\n",
              "9487    2.0\n",
              "9488    3.8\n",
              "9489    1.8\n",
              "9490    1.6\n",
              "Name: label, Length: 9491, dtype: float32"
            ]
          },
          "metadata": {},
          "execution_count": 9
        }
      ]
    },
    {
      "cell_type": "markdown",
      "source": [
        "## model definition"
      ],
      "metadata": {
        "id": "tWHRgZJc-FHu"
      }
    },
    {
      "cell_type": "code",
      "source": [
        "xlmt_model = AutoModel.from_pretrained(\"cardiffnlp/twitter-xlm-roberta-base\")"
      ],
      "metadata": {
        "colab": {
          "base_uri": "https://localhost:8080/"
        },
        "id": "s-eU8BgzqaFb",
        "outputId": "407cc73d-ee51-4c7b-afc0-ce901c4118a4"
      },
      "execution_count": null,
      "outputs": [
        {
          "output_type": "stream",
          "name": "stderr",
          "text": [
            "Some weights of the model checkpoint at cardiffnlp/twitter-xlm-roberta-base were not used when initializing XLMRobertaModel: ['lm_head.bias', 'lm_head.decoder.weight', 'lm_head.decoder.bias', 'lm_head.layer_norm.weight', 'lm_head.dense.weight', 'lm_head.dense.bias', 'lm_head.layer_norm.bias']\n",
            "- This IS expected if you are initializing XLMRobertaModel from the checkpoint of a model trained on another task or with another architecture (e.g. initializing a BertForSequenceClassification model from a BertForPreTraining model).\n",
            "- This IS NOT expected if you are initializing XLMRobertaModel from the checkpoint of a model that you expect to be exactly identical (initializing a BertForSequenceClassification model from a BertForSequenceClassification model).\n",
            "Some weights of XLMRobertaModel were not initialized from the model checkpoint at cardiffnlp/twitter-xlm-roberta-base and are newly initialized: ['roberta.pooler.dense.weight', 'roberta.pooler.dense.bias']\n",
            "You should probably TRAIN this model on a down-stream task to be able to use it for predictions and inference.\n"
          ]
        }
      ]
    },
    {
      "cell_type": "code",
      "source": [
        "flag = False\n",
        "\n",
        "for name, param in xlmt_model.named_parameters():\n",
        "    if 'layer.11' in name:\n",
        "        flag = True\n",
        "\n",
        "    if flag:\n",
        "        param.requires_grad = True\n",
        "    else:\n",
        "        param.requires_grad = False\n",
        "\n",
        "    print(name, param.requires_grad)"
      ],
      "metadata": {
        "id": "QTGgO0wtRqOi",
        "colab": {
          "base_uri": "https://localhost:8080/"
        },
        "outputId": "3b44fc3d-1d41-4d5b-c045-a74f659b3eb2"
      },
      "execution_count": null,
      "outputs": [
        {
          "output_type": "stream",
          "name": "stdout",
          "text": [
            "embeddings.word_embeddings.weight False\n",
            "embeddings.position_embeddings.weight False\n",
            "embeddings.token_type_embeddings.weight False\n",
            "embeddings.LayerNorm.weight False\n",
            "embeddings.LayerNorm.bias False\n",
            "encoder.layer.0.attention.self.query.weight False\n",
            "encoder.layer.0.attention.self.query.bias False\n",
            "encoder.layer.0.attention.self.key.weight False\n",
            "encoder.layer.0.attention.self.key.bias False\n",
            "encoder.layer.0.attention.self.value.weight False\n",
            "encoder.layer.0.attention.self.value.bias False\n",
            "encoder.layer.0.attention.output.dense.weight False\n",
            "encoder.layer.0.attention.output.dense.bias False\n",
            "encoder.layer.0.attention.output.LayerNorm.weight False\n",
            "encoder.layer.0.attention.output.LayerNorm.bias False\n",
            "encoder.layer.0.intermediate.dense.weight False\n",
            "encoder.layer.0.intermediate.dense.bias False\n",
            "encoder.layer.0.output.dense.weight False\n",
            "encoder.layer.0.output.dense.bias False\n",
            "encoder.layer.0.output.LayerNorm.weight False\n",
            "encoder.layer.0.output.LayerNorm.bias False\n",
            "encoder.layer.1.attention.self.query.weight False\n",
            "encoder.layer.1.attention.self.query.bias False\n",
            "encoder.layer.1.attention.self.key.weight False\n",
            "encoder.layer.1.attention.self.key.bias False\n",
            "encoder.layer.1.attention.self.value.weight False\n",
            "encoder.layer.1.attention.self.value.bias False\n",
            "encoder.layer.1.attention.output.dense.weight False\n",
            "encoder.layer.1.attention.output.dense.bias False\n",
            "encoder.layer.1.attention.output.LayerNorm.weight False\n",
            "encoder.layer.1.attention.output.LayerNorm.bias False\n",
            "encoder.layer.1.intermediate.dense.weight False\n",
            "encoder.layer.1.intermediate.dense.bias False\n",
            "encoder.layer.1.output.dense.weight False\n",
            "encoder.layer.1.output.dense.bias False\n",
            "encoder.layer.1.output.LayerNorm.weight False\n",
            "encoder.layer.1.output.LayerNorm.bias False\n",
            "encoder.layer.2.attention.self.query.weight False\n",
            "encoder.layer.2.attention.self.query.bias False\n",
            "encoder.layer.2.attention.self.key.weight False\n",
            "encoder.layer.2.attention.self.key.bias False\n",
            "encoder.layer.2.attention.self.value.weight False\n",
            "encoder.layer.2.attention.self.value.bias False\n",
            "encoder.layer.2.attention.output.dense.weight False\n",
            "encoder.layer.2.attention.output.dense.bias False\n",
            "encoder.layer.2.attention.output.LayerNorm.weight False\n",
            "encoder.layer.2.attention.output.LayerNorm.bias False\n",
            "encoder.layer.2.intermediate.dense.weight False\n",
            "encoder.layer.2.intermediate.dense.bias False\n",
            "encoder.layer.2.output.dense.weight False\n",
            "encoder.layer.2.output.dense.bias False\n",
            "encoder.layer.2.output.LayerNorm.weight False\n",
            "encoder.layer.2.output.LayerNorm.bias False\n",
            "encoder.layer.3.attention.self.query.weight False\n",
            "encoder.layer.3.attention.self.query.bias False\n",
            "encoder.layer.3.attention.self.key.weight False\n",
            "encoder.layer.3.attention.self.key.bias False\n",
            "encoder.layer.3.attention.self.value.weight False\n",
            "encoder.layer.3.attention.self.value.bias False\n",
            "encoder.layer.3.attention.output.dense.weight False\n",
            "encoder.layer.3.attention.output.dense.bias False\n",
            "encoder.layer.3.attention.output.LayerNorm.weight False\n",
            "encoder.layer.3.attention.output.LayerNorm.bias False\n",
            "encoder.layer.3.intermediate.dense.weight False\n",
            "encoder.layer.3.intermediate.dense.bias False\n",
            "encoder.layer.3.output.dense.weight False\n",
            "encoder.layer.3.output.dense.bias False\n",
            "encoder.layer.3.output.LayerNorm.weight False\n",
            "encoder.layer.3.output.LayerNorm.bias False\n",
            "encoder.layer.4.attention.self.query.weight False\n",
            "encoder.layer.4.attention.self.query.bias False\n",
            "encoder.layer.4.attention.self.key.weight False\n",
            "encoder.layer.4.attention.self.key.bias False\n",
            "encoder.layer.4.attention.self.value.weight False\n",
            "encoder.layer.4.attention.self.value.bias False\n",
            "encoder.layer.4.attention.output.dense.weight False\n",
            "encoder.layer.4.attention.output.dense.bias False\n",
            "encoder.layer.4.attention.output.LayerNorm.weight False\n",
            "encoder.layer.4.attention.output.LayerNorm.bias False\n",
            "encoder.layer.4.intermediate.dense.weight False\n",
            "encoder.layer.4.intermediate.dense.bias False\n",
            "encoder.layer.4.output.dense.weight False\n",
            "encoder.layer.4.output.dense.bias False\n",
            "encoder.layer.4.output.LayerNorm.weight False\n",
            "encoder.layer.4.output.LayerNorm.bias False\n",
            "encoder.layer.5.attention.self.query.weight False\n",
            "encoder.layer.5.attention.self.query.bias False\n",
            "encoder.layer.5.attention.self.key.weight False\n",
            "encoder.layer.5.attention.self.key.bias False\n",
            "encoder.layer.5.attention.self.value.weight False\n",
            "encoder.layer.5.attention.self.value.bias False\n",
            "encoder.layer.5.attention.output.dense.weight False\n",
            "encoder.layer.5.attention.output.dense.bias False\n",
            "encoder.layer.5.attention.output.LayerNorm.weight False\n",
            "encoder.layer.5.attention.output.LayerNorm.bias False\n",
            "encoder.layer.5.intermediate.dense.weight False\n",
            "encoder.layer.5.intermediate.dense.bias False\n",
            "encoder.layer.5.output.dense.weight False\n",
            "encoder.layer.5.output.dense.bias False\n",
            "encoder.layer.5.output.LayerNorm.weight False\n",
            "encoder.layer.5.output.LayerNorm.bias False\n",
            "encoder.layer.6.attention.self.query.weight False\n",
            "encoder.layer.6.attention.self.query.bias False\n",
            "encoder.layer.6.attention.self.key.weight False\n",
            "encoder.layer.6.attention.self.key.bias False\n",
            "encoder.layer.6.attention.self.value.weight False\n",
            "encoder.layer.6.attention.self.value.bias False\n",
            "encoder.layer.6.attention.output.dense.weight False\n",
            "encoder.layer.6.attention.output.dense.bias False\n",
            "encoder.layer.6.attention.output.LayerNorm.weight False\n",
            "encoder.layer.6.attention.output.LayerNorm.bias False\n",
            "encoder.layer.6.intermediate.dense.weight False\n",
            "encoder.layer.6.intermediate.dense.bias False\n",
            "encoder.layer.6.output.dense.weight False\n",
            "encoder.layer.6.output.dense.bias False\n",
            "encoder.layer.6.output.LayerNorm.weight False\n",
            "encoder.layer.6.output.LayerNorm.bias False\n",
            "encoder.layer.7.attention.self.query.weight False\n",
            "encoder.layer.7.attention.self.query.bias False\n",
            "encoder.layer.7.attention.self.key.weight False\n",
            "encoder.layer.7.attention.self.key.bias False\n",
            "encoder.layer.7.attention.self.value.weight False\n",
            "encoder.layer.7.attention.self.value.bias False\n",
            "encoder.layer.7.attention.output.dense.weight False\n",
            "encoder.layer.7.attention.output.dense.bias False\n",
            "encoder.layer.7.attention.output.LayerNorm.weight False\n",
            "encoder.layer.7.attention.output.LayerNorm.bias False\n",
            "encoder.layer.7.intermediate.dense.weight False\n",
            "encoder.layer.7.intermediate.dense.bias False\n",
            "encoder.layer.7.output.dense.weight False\n",
            "encoder.layer.7.output.dense.bias False\n",
            "encoder.layer.7.output.LayerNorm.weight False\n",
            "encoder.layer.7.output.LayerNorm.bias False\n",
            "encoder.layer.8.attention.self.query.weight False\n",
            "encoder.layer.8.attention.self.query.bias False\n",
            "encoder.layer.8.attention.self.key.weight False\n",
            "encoder.layer.8.attention.self.key.bias False\n",
            "encoder.layer.8.attention.self.value.weight False\n",
            "encoder.layer.8.attention.self.value.bias False\n",
            "encoder.layer.8.attention.output.dense.weight False\n",
            "encoder.layer.8.attention.output.dense.bias False\n",
            "encoder.layer.8.attention.output.LayerNorm.weight False\n",
            "encoder.layer.8.attention.output.LayerNorm.bias False\n",
            "encoder.layer.8.intermediate.dense.weight False\n",
            "encoder.layer.8.intermediate.dense.bias False\n",
            "encoder.layer.8.output.dense.weight False\n",
            "encoder.layer.8.output.dense.bias False\n",
            "encoder.layer.8.output.LayerNorm.weight False\n",
            "encoder.layer.8.output.LayerNorm.bias False\n",
            "encoder.layer.9.attention.self.query.weight False\n",
            "encoder.layer.9.attention.self.query.bias False\n",
            "encoder.layer.9.attention.self.key.weight False\n",
            "encoder.layer.9.attention.self.key.bias False\n",
            "encoder.layer.9.attention.self.value.weight False\n",
            "encoder.layer.9.attention.self.value.bias False\n",
            "encoder.layer.9.attention.output.dense.weight False\n",
            "encoder.layer.9.attention.output.dense.bias False\n",
            "encoder.layer.9.attention.output.LayerNorm.weight False\n",
            "encoder.layer.9.attention.output.LayerNorm.bias False\n",
            "encoder.layer.9.intermediate.dense.weight False\n",
            "encoder.layer.9.intermediate.dense.bias False\n",
            "encoder.layer.9.output.dense.weight False\n",
            "encoder.layer.9.output.dense.bias False\n",
            "encoder.layer.9.output.LayerNorm.weight False\n",
            "encoder.layer.9.output.LayerNorm.bias False\n",
            "encoder.layer.10.attention.self.query.weight False\n",
            "encoder.layer.10.attention.self.query.bias False\n",
            "encoder.layer.10.attention.self.key.weight False\n",
            "encoder.layer.10.attention.self.key.bias False\n",
            "encoder.layer.10.attention.self.value.weight False\n",
            "encoder.layer.10.attention.self.value.bias False\n",
            "encoder.layer.10.attention.output.dense.weight False\n",
            "encoder.layer.10.attention.output.dense.bias False\n",
            "encoder.layer.10.attention.output.LayerNorm.weight False\n",
            "encoder.layer.10.attention.output.LayerNorm.bias False\n",
            "encoder.layer.10.intermediate.dense.weight False\n",
            "encoder.layer.10.intermediate.dense.bias False\n",
            "encoder.layer.10.output.dense.weight False\n",
            "encoder.layer.10.output.dense.bias False\n",
            "encoder.layer.10.output.LayerNorm.weight False\n",
            "encoder.layer.10.output.LayerNorm.bias False\n",
            "encoder.layer.11.attention.self.query.weight True\n",
            "encoder.layer.11.attention.self.query.bias True\n",
            "encoder.layer.11.attention.self.key.weight True\n",
            "encoder.layer.11.attention.self.key.bias True\n",
            "encoder.layer.11.attention.self.value.weight True\n",
            "encoder.layer.11.attention.self.value.bias True\n",
            "encoder.layer.11.attention.output.dense.weight True\n",
            "encoder.layer.11.attention.output.dense.bias True\n",
            "encoder.layer.11.attention.output.LayerNorm.weight True\n",
            "encoder.layer.11.attention.output.LayerNorm.bias True\n",
            "encoder.layer.11.intermediate.dense.weight True\n",
            "encoder.layer.11.intermediate.dense.bias True\n",
            "encoder.layer.11.output.dense.weight True\n",
            "encoder.layer.11.output.dense.bias True\n",
            "encoder.layer.11.output.LayerNorm.weight True\n",
            "encoder.layer.11.output.LayerNorm.bias True\n",
            "pooler.dense.weight True\n",
            "pooler.dense.bias True\n"
          ]
        }
      ]
    },
    {
      "cell_type": "code",
      "source": [
        "class XLMTRegressor(nn.Module):\n",
        "    def __init__(self, model, hidden_count = 20, dropout = 0.2):\n",
        "        super(XLMTRegressor, self).__init__()\n",
        "\n",
        "        self.xlmt = model\n",
        "        self.linear = nn.Linear(768, hidden_count)\n",
        "        self.relu = nn.ReLU()\n",
        "        self.dropout = nn.Dropout(dropout)\n",
        "        self.regression = nn.Linear(hidden_count, 1)\n",
        "\n",
        "    def forward(self, input_ids = None, attention_mask = None, labels = None):\n",
        "        encoding_output = self.xlmt(input_ids = input_ids, attention_mask = attention_mask)\n",
        "        # https://huggingface.co/docs/transformers/main_classes/output#transformers.modeling_outputs.BaseModelOutputWithPooling\n",
        "        linear_output = self.linear(encoding_output[1])\n",
        "        relu_output = self.relu(linear_output)\n",
        "        dropout_output = self.dropout(relu_output)\n",
        "        final_output = self.regression(dropout_output)\n",
        "\n",
        "        loss = None\n",
        "        if labels is not None:\n",
        "            loss_fct = nn.MSELoss()\n",
        "            loss = loss_fct(final_output, labels)\n",
        "        \n",
        "        return SequenceClassifierOutput(loss = loss, logits = final_output, hidden_states = encoding_output.hidden_states, attentions = encoding_output.attentions)"
      ],
      "metadata": {
        "id": "HUuLjyiGw0GO"
      },
      "execution_count": null,
      "outputs": []
    },
    {
      "cell_type": "markdown",
      "source": [
        "## train model"
      ],
      "metadata": {
        "id": "jh2aua1N1xT9"
      }
    },
    {
      "cell_type": "code",
      "source": [
        "def train(model, train_data, val_data, learning_rate, epochs):\n",
        "    train, val = RegressionIntimacyDataset(train_data, xlmt_tokenizer), RegressionIntimacyDataset(val_data, xlmt_tokenizer)\n",
        "\n",
        "    train_dataloader = torch.utils.data.DataLoader(train, batch_size = BATCH_SIZE, shuffle = True)\n",
        "    val_dataloader = torch.utils.data.DataLoader(val, batch_size = BATCH_SIZE, shuffle = True)\n",
        "\n",
        "    use_cuda = torch.cuda.is_available()\n",
        "    device = torch.device(\"cuda\" if use_cuda else \"cpu\")\n",
        "\n",
        "    optimizer = AdamW(model.parameters(), lr = learning_rate)\n",
        "\n",
        "    if use_cuda:\n",
        "        model = model.cuda()\n",
        "\n",
        "    for epoch_num in range(epochs):\n",
        "        model.train()\n",
        "\n",
        "        for train_input, train_label in tqdm(train_dataloader):\n",
        "            train_label = train_label.to(device)\n",
        "            mask = train_input['attention_mask'].to(device)\n",
        "            input_id = train_input['input_ids'].squeeze(1).to(device)\n",
        "\n",
        "            outputs = model(input_id, mask, train_label)\n",
        "\n",
        "            loss = outputs.loss\n",
        "            loss.backward()\n",
        "            optimizer.step()\n",
        "\n",
        "            optimizer.zero_grad()\n",
        "\n",
        "        model.eval()\n",
        "        eval_losses = []\n",
        "        for val_input, val_label in tqdm(val_dataloader):\n",
        "            val_label = val_label.to(device)\n",
        "            mask = val_input['attention_mask'].to(device)\n",
        "            input_id = val_input['input_ids'].squeeze(1).to(device)\n",
        "\n",
        "            with torch.no_grad():\n",
        "                outputs = model(input_id, mask, val_label)\n",
        "            \n",
        "            model_pred = outputs.logits\n",
        "            eval_losses.append(outputs.loss.item())\n",
        "\n",
        "        print(f'loss = {mean(eval_losses)}')\n",
        "\n",
        "    torch.save(model.state_dict(), f'{PATH_TO_SAVE}')\n",
        "    \n",
        "                \n",
        "EPOCHS = 6\n",
        "model = XLMTRegressor(xlmt_model)\n",
        "LR = 1e-5\n",
        "\n",
        "df_train, df_val, df_test = train_val_test_split(df)\n",
        "train(model, df_train, df_val, LR, EPOCHS)"
      ],
      "metadata": {
        "colab": {
          "base_uri": "https://localhost:8080/"
        },
        "id": "39H3sDG-6ZKD",
        "outputId": "3806a52d-42df-4550-d8e1-959883046777"
      },
      "execution_count": null,
      "outputs": [
        {
          "output_type": "stream",
          "name": "stderr",
          "text": [
            "/usr/local/lib/python3.8/dist-packages/transformers/optimization.py:306: FutureWarning: This implementation of AdamW is deprecated and will be removed in a future version. Use the PyTorch implementation torch.optim.AdamW instead, or set `no_deprecation_warning=True` to disable this warning\n",
            "  warnings.warn(\n",
            "100%|██████████| 446/446 [09:07<00:00,  1.23s/it]\n",
            "100%|██████████| 25/25 [00:24<00:00,  1.03it/s]\n"
          ]
        },
        {
          "output_type": "stream",
          "name": "stdout",
          "text": [
            "loss = 0.028406045511364938\n"
          ]
        },
        {
          "output_type": "stream",
          "name": "stderr",
          "text": [
            "100%|██████████| 446/446 [09:04<00:00,  1.22s/it]\n",
            "100%|██████████| 25/25 [00:24<00:00,  1.03it/s]\n"
          ]
        },
        {
          "output_type": "stream",
          "name": "stdout",
          "text": [
            "loss = 0.02735273912549019\n"
          ]
        },
        {
          "output_type": "stream",
          "name": "stderr",
          "text": [
            "100%|██████████| 446/446 [09:03<00:00,  1.22s/it]\n",
            "100%|██████████| 25/25 [00:24<00:00,  1.04it/s]\n"
          ]
        },
        {
          "output_type": "stream",
          "name": "stdout",
          "text": [
            "loss = 0.026620363406836985\n"
          ]
        },
        {
          "output_type": "stream",
          "name": "stderr",
          "text": [
            "100%|██████████| 446/446 [09:07<00:00,  1.23s/it]\n",
            "100%|██████████| 25/25 [00:24<00:00,  1.03it/s]\n"
          ]
        },
        {
          "output_type": "stream",
          "name": "stdout",
          "text": [
            "loss = 0.026391716748476027\n"
          ]
        },
        {
          "output_type": "stream",
          "name": "stderr",
          "text": [
            "100%|██████████| 446/446 [09:09<00:00,  1.23s/it]\n",
            "100%|██████████| 25/25 [00:24<00:00,  1.03it/s]\n"
          ]
        },
        {
          "output_type": "stream",
          "name": "stdout",
          "text": [
            "loss = 0.026488872841000558\n"
          ]
        },
        {
          "output_type": "stream",
          "name": "stderr",
          "text": [
            "100%|██████████| 446/446 [09:09<00:00,  1.23s/it]\n",
            "100%|██████████| 25/25 [00:24<00:00,  1.03it/s]\n"
          ]
        },
        {
          "output_type": "stream",
          "name": "stdout",
          "text": [
            "loss = 0.02620638571679592\n"
          ]
        }
      ]
    },
    {
      "cell_type": "markdown",
      "source": [
        "## evaluate"
      ],
      "metadata": {
        "id": "87n_a9buJo6g"
      }
    },
    {
      "cell_type": "code",
      "source": [
        "def evaluate(model, test_data):\n",
        "    test = RegressionIntimacyDataset(test_data, xlmt_tokenizer)\n",
        "    test_dataloader = torch.utils.data.DataLoader(test, batch_size=2)\n",
        "\n",
        "    use_cuda = torch.cuda.is_available()\n",
        "    device = torch.device(\"cuda\" if use_cuda else \"cpu\")\n",
        "\n",
        "    if use_cuda:\n",
        "        model = model.cuda()\n",
        "\n",
        "    model.eval()\n",
        "    with torch.no_grad():\n",
        "        test_losses = []\n",
        "        for test_input, test_label in tqdm(test_dataloader):\n",
        "            test_label = test_label.to(device)\n",
        "            mask = test_input['attention_mask'].to(device)\n",
        "            input_id = test_input['input_ids'].squeeze(1).to(device)\n",
        "\n",
        "            outputs = model(input_id, mask, test_label)\n",
        "\n",
        "            model_pred = outputs.logits\n",
        "            test_losses.append(outputs.loss.item())\n",
        "    \n",
        "    print(f'loss = {mean(test_losses)}')\n",
        "    \n",
        "evaluate(model, df_test)"
      ],
      "metadata": {
        "id": "XJ5UPsBP6b8h",
        "colab": {
          "base_uri": "https://localhost:8080/"
        },
        "outputId": "1d4f06ba-c20e-4cbd-fdcc-393ed524d5ac"
      },
      "execution_count": null,
      "outputs": [
        {
          "output_type": "stream",
          "name": "stderr",
          "text": [
            "100%|██████████| 396/396 [00:24<00:00, 16.04it/s]"
          ]
        },
        {
          "output_type": "stream",
          "name": "stdout",
          "text": [
            "loss = 0.023588467370608084\n"
          ]
        },
        {
          "output_type": "stream",
          "name": "stderr",
          "text": [
            "\n"
          ]
        }
      ]
    },
    {
      "cell_type": "markdown",
      "source": [
        "## evaluation on test data codalab"
      ],
      "metadata": {
        "id": "C_UBPU0ww_00"
      }
    },
    {
      "cell_type": "code",
      "source": [
        "PATH_FOR_READ = './checkpoint'"
      ],
      "metadata": {
        "id": "3UrSquvKpnc_"
      },
      "execution_count": null,
      "outputs": []
    },
    {
      "cell_type": "code",
      "source": [
        "def read_test_data(file_path = \"semeval_test.csv\"):\n",
        "  df = pd.read_csv(file_path)\n",
        "#   df['len'] = df['text'].apply(lambda x: len(x))\n",
        "#   df['label'] = df['label'].astype('float32')\n",
        "#   df['normalized_label'] = df['label'].apply(lambda x: (x-1)/5)\n",
        "  return df"
      ],
      "metadata": {
        "id": "nE7FojiKwMkc"
      },
      "execution_count": null,
      "outputs": []
    },
    {
      "cell_type": "code",
      "source": [
        "class TestRegressionIntimacyDataset(Dataset):\n",
        "    def __init__(self, df, tokenizer):\n",
        "        self.all_data = df\n",
        "        self.tokenizer = tokenizer\n",
        "        \n",
        "        # tokenized texts of our dataset\n",
        "        self.texts = [self.tokenizer(text, padding='max_length', max_length = 512, truncation=True, return_tensors=\"pt\") \n",
        "                                for text in self.all_data['text']]\n",
        "    \n",
        "    def __len__(self):\n",
        "        return len(self.all_data)\n",
        "    \n",
        "    def get_batch_texts(self, idx):\n",
        "        # Fetch a batch of inputs\n",
        "        return self.texts[idx]\n",
        "    \n",
        "    def __getitem__(self, idx):\n",
        "        batch_texts = self.get_batch_texts(idx)\n",
        "        \n",
        "        return batch_texts\n"
      ],
      "metadata": {
        "id": "pbp-HN7kzjFh"
      },
      "execution_count": null,
      "outputs": []
    },
    {
      "cell_type": "code",
      "source": [
        "MODEL = \"cardiffnlp/twitter-xlm-roberta-base\"\n",
        "xlmt_tokenizer = AutoTokenizer.from_pretrained(MODEL, use_fast=True)"
      ],
      "metadata": {
        "id": "nfNwBfBr1C7M"
      },
      "execution_count": null,
      "outputs": []
    },
    {
      "cell_type": "code",
      "source": [
        "xlmt_model = AutoModel.from_pretrained(\"cardiffnlp/twitter-xlm-roberta-base\")"
      ],
      "metadata": {
        "id": "n1WZHcNkotRI",
        "colab": {
          "base_uri": "https://localhost:8080/"
        },
        "outputId": "fbdbc6e1-7818-4853-a34c-7a99023a554f"
      },
      "execution_count": null,
      "outputs": [
        {
          "output_type": "stream",
          "name": "stderr",
          "text": [
            "Some weights of the model checkpoint at cardiffnlp/twitter-xlm-roberta-base were not used when initializing XLMRobertaModel: ['lm_head.decoder.bias', 'lm_head.dense.weight', 'lm_head.decoder.weight', 'lm_head.bias', 'lm_head.dense.bias', 'lm_head.layer_norm.weight', 'lm_head.layer_norm.bias']\n",
            "- This IS expected if you are initializing XLMRobertaModel from the checkpoint of a model trained on another task or with another architecture (e.g. initializing a BertForSequenceClassification model from a BertForPreTraining model).\n",
            "- This IS NOT expected if you are initializing XLMRobertaModel from the checkpoint of a model that you expect to be exactly identical (initializing a BertForSequenceClassification model from a BertForSequenceClassification model).\n",
            "Some weights of XLMRobertaModel were not initialized from the model checkpoint at cardiffnlp/twitter-xlm-roberta-base and are newly initialized: ['roberta.pooler.dense.weight', 'roberta.pooler.dense.bias']\n",
            "You should probably TRAIN this model on a down-stream task to be able to use it for predictions and inference.\n"
          ]
        }
      ]
    },
    {
      "cell_type": "code",
      "source": [
        "model = XLMTRegressor(xlmt_model)\n",
        "model.load_state_dict(torch.load(f'{PATH_FOR_READ}'))\n",
        "# model.load_state_dict(torch.load(f'{PATH_FOR_READ}_{EPOCHS-1}'))\n",
        "# model.load_state_dict(torch.load(f'{PATH_FOR_READ}_{EPOCHS-1}', map_location=torch.device('cpu')))"
      ],
      "metadata": {
        "id": "-YllGTwGoGk_",
        "colab": {
          "base_uri": "https://localhost:8080/"
        },
        "outputId": "6c2e20a4-677a-4cad-d69b-53e492eb8d98"
      },
      "execution_count": null,
      "outputs": [
        {
          "output_type": "execute_result",
          "data": {
            "text/plain": [
              "<All keys matched successfully>"
            ]
          },
          "metadata": {},
          "execution_count": 20
        }
      ]
    },
    {
      "cell_type": "code",
      "source": [
        "def predict(model, test_data):\n",
        "    test = TestRegressionIntimacyDataset(test_data, xlmt_tokenizer)\n",
        "    test_dataloader = torch.utils.data.DataLoader(test, batch_size=32)\n",
        "\n",
        "    use_cuda = torch.cuda.is_available()\n",
        "    device = torch.device(\"cuda\" if use_cuda else \"cpu\")\n",
        "\n",
        "    if use_cuda:\n",
        "        model = model.cuda()\n",
        "\n",
        "    model_predictions = []\n",
        "    model.eval()\n",
        "    with torch.no_grad():\n",
        "        for test_input in tqdm(test_dataloader):\n",
        "            mask = test_input['attention_mask'].to(device)\n",
        "            input_id = test_input['input_ids'].squeeze(1).to(device)\n",
        "            outputs = model(input_id, mask)\n",
        "            model_pred = outputs.logits\n",
        "            model_predictions.append(model_pred)\n",
        "    return model_predictions\n"
      ],
      "metadata": {
        "id": "yi-AqF3-w_JQ"
      },
      "execution_count": null,
      "outputs": []
    },
    {
      "cell_type": "code",
      "source": [
        "# df_coda = read_test_data(\"train.csv\")    \n",
        "df_coda = read_test_data(\"semeval_test.csv\")    \n",
        "outputs = predict(model, df_coda)"
      ],
      "metadata": {
        "colab": {
          "base_uri": "https://localhost:8080/"
        },
        "id": "wjVWchwPxZ8t",
        "outputId": "ba456afd-82f3-4e23-dd0d-5ce2cdbfaefb"
      },
      "execution_count": null,
      "outputs": [
        {
          "output_type": "stream",
          "name": "stderr",
          "text": [
            "100%|██████████| 429/429 [06:54<00:00,  1.03it/s]\n"
          ]
        }
      ]
    },
    {
      "cell_type": "code",
      "source": [
        "flat_predictions = [item.cpu().numpy()[0] for sublist in outputs for item in sublist]"
      ],
      "metadata": {
        "id": "wKe1ZveT3UeK"
      },
      "execution_count": null,
      "outputs": []
    },
    {
      "cell_type": "code",
      "source": [
        "min_flat = min(flat_predictions)\n",
        "max_flat = max(flat_predictions)"
      ],
      "metadata": {
        "id": "TbRgo-xr765B"
      },
      "execution_count": null,
      "outputs": []
    },
    {
      "cell_type": "code",
      "source": [
        "print(len(flat_predictions))"
      ],
      "metadata": {
        "colab": {
          "base_uri": "https://localhost:8080/"
        },
        "id": "v2T39ho43mZZ",
        "outputId": "6dc53b8a-6f8e-4e07-deb8-bdd8986b07b1"
      },
      "execution_count": null,
      "outputs": [
        {
          "output_type": "stream",
          "name": "stdout",
          "text": [
            "13697\n"
          ]
        }
      ]
    },
    {
      "cell_type": "code",
      "source": [
        "df_coda['predictions'] = flat_predictions\n",
        "df_coda['predictions'] = df_coda['predictions'].apply(lambda x: (x - min_flat) * 4 / (max_flat - min_flat) + 1)\n",
        "df_coda.to_csv('results.csv')"
      ],
      "metadata": {
        "id": "EGfd-NmS3ukC"
      },
      "execution_count": null,
      "outputs": []
    }
  ]
}